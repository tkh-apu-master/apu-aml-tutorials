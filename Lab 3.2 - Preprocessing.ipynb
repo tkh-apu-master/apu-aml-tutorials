{
 "nbformat": 4,
 "nbformat_minor": 0,
 "metadata": {
  "kernelspec": {
   "display_name": "Python 3",
   "language": "python",
   "name": "python3"
  },
  "language_info": {
   "codemirror_mode": {
    "name": "ipython",
    "version": 3
   },
   "file_extension": ".py",
   "mimetype": "text/x-python",
   "name": "python",
   "nbconvert_exporter": "python",
   "pygments_lexer": "ipython3",
   "version": "3.8.11"
  },
  "colab": {
   "name": "OCDS - Lab 3.2 - Preprocessing.ipynb",
   "provenance": [],
   "collapsed_sections": [
    "UwwSzhbWfRAM",
    "GQwSs_RPfRAQ"
   ]
  }
 },
 "cells": [
  {
   "cell_type": "markdown",
   "metadata": {
    "id": "M4I1nS7TfQ_d"
   },
   "source": [
    "# Preprocessing\n",
    "### Data Understandng"
   ]
  },
  {
   "cell_type": "code",
   "metadata": {
    "id": "QwzSf680fQ_o",
    "ExecuteTime": {
     "start_time": "2023-06-18T18:12:27.196137Z",
     "end_time": "2023-06-18T18:12:28.170889Z"
    }
   },
   "source": [
    "# Importing the libraries\n",
    "import numpy as np\n",
    "import matplotlib.pyplot as plt\n",
    "import pandas as pd"
   ],
   "execution_count": 1,
   "outputs": []
  },
  {
   "cell_type": "code",
   "metadata": {
    "id": "FP6j23NPfQ_r",
    "ExecuteTime": {
     "start_time": "2023-06-18T18:12:28.171683Z",
     "end_time": "2023-06-18T18:12:28.176655Z"
    }
   },
   "source": [
    "# Importing the dataset\n",
    "dataset = pd.read_csv('Data (1).csv')"
   ],
   "execution_count": 2,
   "outputs": []
  },
  {
   "cell_type": "code",
   "metadata": {
    "id": "gBEB_MVFfQ_s",
    "outputId": "8b0bd3e5-c367-4e9c-f13a-34a653467ec8",
    "colab": {
     "base_uri": "https://localhost:8080/",
     "height": 363
    },
    "ExecuteTime": {
     "start_time": "2023-06-18T18:12:28.179187Z",
     "end_time": "2023-06-18T18:12:28.188634Z"
    }
   },
   "source": [
    "dataset"
   ],
   "execution_count": 3,
   "outputs": [
    {
     "data": {
      "text/plain": "   Country   Age   Salary Purchased\n0   France  44.0  72000.0        No\n1    Spain  27.0  48000.0       Yes\n2  Germany  30.0  54000.0        No\n3    Spain  38.0  61000.0        No\n4  Germany  40.0      NaN       Yes\n5      NaN  35.0  58000.0       Yes\n6   France   NaN  52000.0        No\n7   France  48.0  79000.0       Yes\n8  Germany  50.0  83000.0        No\n9   France  37.0  67000.0       Yes",
      "text/html": "<div>\n<style scoped>\n    .dataframe tbody tr th:only-of-type {\n        vertical-align: middle;\n    }\n\n    .dataframe tbody tr th {\n        vertical-align: top;\n    }\n\n    .dataframe thead th {\n        text-align: right;\n    }\n</style>\n<table border=\"1\" class=\"dataframe\">\n  <thead>\n    <tr style=\"text-align: right;\">\n      <th></th>\n      <th>Country</th>\n      <th>Age</th>\n      <th>Salary</th>\n      <th>Purchased</th>\n    </tr>\n  </thead>\n  <tbody>\n    <tr>\n      <th>0</th>\n      <td>France</td>\n      <td>44.0</td>\n      <td>72000.0</td>\n      <td>No</td>\n    </tr>\n    <tr>\n      <th>1</th>\n      <td>Spain</td>\n      <td>27.0</td>\n      <td>48000.0</td>\n      <td>Yes</td>\n    </tr>\n    <tr>\n      <th>2</th>\n      <td>Germany</td>\n      <td>30.0</td>\n      <td>54000.0</td>\n      <td>No</td>\n    </tr>\n    <tr>\n      <th>3</th>\n      <td>Spain</td>\n      <td>38.0</td>\n      <td>61000.0</td>\n      <td>No</td>\n    </tr>\n    <tr>\n      <th>4</th>\n      <td>Germany</td>\n      <td>40.0</td>\n      <td>NaN</td>\n      <td>Yes</td>\n    </tr>\n    <tr>\n      <th>5</th>\n      <td>NaN</td>\n      <td>35.0</td>\n      <td>58000.0</td>\n      <td>Yes</td>\n    </tr>\n    <tr>\n      <th>6</th>\n      <td>France</td>\n      <td>NaN</td>\n      <td>52000.0</td>\n      <td>No</td>\n    </tr>\n    <tr>\n      <th>7</th>\n      <td>France</td>\n      <td>48.0</td>\n      <td>79000.0</td>\n      <td>Yes</td>\n    </tr>\n    <tr>\n      <th>8</th>\n      <td>Germany</td>\n      <td>50.0</td>\n      <td>83000.0</td>\n      <td>No</td>\n    </tr>\n    <tr>\n      <th>9</th>\n      <td>France</td>\n      <td>37.0</td>\n      <td>67000.0</td>\n      <td>Yes</td>\n    </tr>\n  </tbody>\n</table>\n</div>"
     },
     "execution_count": 3,
     "metadata": {},
     "output_type": "execute_result"
    }
   ]
  },
  {
   "cell_type": "code",
   "metadata": {
    "id": "pOCHST4wfQ_v",
    "outputId": "af60de64-92f0-4b2f-8554-9fad159419f9",
    "colab": {
     "base_uri": "https://localhost:8080/"
    },
    "ExecuteTime": {
     "start_time": "2023-06-18T18:12:28.193366Z",
     "end_time": "2023-06-18T18:12:28.201008Z"
    }
   },
   "source": [
    "dataset.dtypes"
   ],
   "execution_count": 4,
   "outputs": [
    {
     "data": {
      "text/plain": "Country       object\nAge          float64\nSalary       float64\nPurchased     object\ndtype: object"
     },
     "execution_count": 4,
     "metadata": {},
     "output_type": "execute_result"
    }
   ]
  },
  {
   "cell_type": "code",
   "metadata": {
    "id": "VL44oTZufQ_w",
    "outputId": "627048b9-312d-472e-aa7c-2dd2d50c170a",
    "colab": {
     "base_uri": "https://localhost:8080/"
    },
    "ExecuteTime": {
     "start_time": "2023-06-18T18:12:28.197525Z",
     "end_time": "2023-06-18T18:12:28.213575Z"
    }
   },
   "source": [
    "dataset.shape"
   ],
   "execution_count": 5,
   "outputs": [
    {
     "data": {
      "text/plain": "(10, 4)"
     },
     "execution_count": 5,
     "metadata": {},
     "output_type": "execute_result"
    }
   ]
  },
  {
   "cell_type": "code",
   "metadata": {
    "id": "f9z41x_UfQ_w",
    "outputId": "27e17248-4c7d-4514-8dd9-ddfa40347bd1",
    "colab": {
     "base_uri": "https://localhost:8080/"
    },
    "ExecuteTime": {
     "start_time": "2023-06-18T18:12:28.203509Z",
     "end_time": "2023-06-18T18:12:28.246542Z"
    }
   },
   "source": [
    "dataset.isnull().sum()"
   ],
   "execution_count": 6,
   "outputs": [
    {
     "data": {
      "text/plain": "Country      1\nAge          1\nSalary       1\nPurchased    0\ndtype: int64"
     },
     "execution_count": 6,
     "metadata": {},
     "output_type": "execute_result"
    }
   ]
  },
  {
   "cell_type": "code",
   "source": [
    "100 * dataset.isnull().sum() / len(dataset)"
   ],
   "metadata": {
    "colab": {
     "base_uri": "https://localhost:8080/"
    },
    "id": "tmlKuoQDbZGk",
    "outputId": "add6b5ed-c082-45eb-ef67-be7dd88b593d",
    "ExecuteTime": {
     "start_time": "2023-06-18T18:12:28.208763Z",
     "end_time": "2023-06-18T18:12:28.253018Z"
    }
   },
   "execution_count": 7,
   "outputs": [
    {
     "data": {
      "text/plain": "Country      10.0\nAge          10.0\nSalary       10.0\nPurchased     0.0\ndtype: float64"
     },
     "execution_count": 7,
     "metadata": {},
     "output_type": "execute_result"
    }
   ]
  },
  {
   "cell_type": "code",
   "metadata": {
    "id": "m4p6idmnfQ_y",
    "outputId": "d37c2f51-c91a-4bd9-f67a-363a838b10b4",
    "colab": {
     "base_uri": "https://localhost:8080/",
     "height": 143
    },
    "ExecuteTime": {
     "start_time": "2023-06-18T18:12:28.223829Z",
     "end_time": "2023-06-18T18:12:28.278253Z"
    }
   },
   "source": [
    "# Function to calculate missing values by column\n",
    "def missing_values_table(df):\n",
    "    # Total missing values\n",
    "    mis_val = df.isnull().sum()\n",
    "        \n",
    "    # Percentage of missing values\n",
    "    mis_val_percent = 100 * df.isnull().sum() / len(df)\n",
    "        \n",
    "    # Make a table with the results\n",
    "    mis_val_table = pd.concat([mis_val, mis_val_percent], axis=1)\n",
    "        \n",
    "    # Rename the columns\n",
    "    mis_val_table_ren_columns = mis_val_table.rename(columns = {0 : 'Missing Counts', 1 : 'Percentage'})\n",
    "        \n",
    "    # Sort the table by percentage of missing descending\n",
    "    mis_val_table_ren_columns = mis_val_table_ren_columns[mis_val_table_ren_columns.iloc[:,1] != 0].sort_values(\n",
    "        'Percentage', ascending=False).round(1)\n",
    "            \n",
    "    # Return the dataframe with missing information\n",
    "    return mis_val_table_ren_columns\n",
    "\n",
    "missing_values_table(dataset)"
   ],
   "execution_count": 8,
   "outputs": [
    {
     "data": {
      "text/plain": "         Missing Counts  Percentage\nCountry               1        10.0\nAge                   1        10.0\nSalary                1        10.0",
      "text/html": "<div>\n<style scoped>\n    .dataframe tbody tr th:only-of-type {\n        vertical-align: middle;\n    }\n\n    .dataframe tbody tr th {\n        vertical-align: top;\n    }\n\n    .dataframe thead th {\n        text-align: right;\n    }\n</style>\n<table border=\"1\" class=\"dataframe\">\n  <thead>\n    <tr style=\"text-align: right;\">\n      <th></th>\n      <th>Missing Counts</th>\n      <th>Percentage</th>\n    </tr>\n  </thead>\n  <tbody>\n    <tr>\n      <th>Country</th>\n      <td>1</td>\n      <td>10.0</td>\n    </tr>\n    <tr>\n      <th>Age</th>\n      <td>1</td>\n      <td>10.0</td>\n    </tr>\n    <tr>\n      <th>Salary</th>\n      <td>1</td>\n      <td>10.0</td>\n    </tr>\n  </tbody>\n</table>\n</div>"
     },
     "execution_count": 8,
     "metadata": {},
     "output_type": "execute_result"
    }
   ]
  },
  {
   "cell_type": "code",
   "metadata": {
    "id": "A1TgGCJBfQ_0",
    "outputId": "0a1a0ca3-4cbb-427b-ff77-29de8cb5f78d",
    "colab": {
     "base_uri": "https://localhost:8080/",
     "height": 300
    },
    "ExecuteTime": {
     "start_time": "2023-06-18T18:12:28.227989Z",
     "end_time": "2023-06-18T18:12:28.278556Z"
    }
   },
   "source": [
    "dataset.describe().round(2)"
   ],
   "execution_count": 9,
   "outputs": [
    {
     "data": {
      "text/plain": "         Age    Salary\ncount   9.00      9.00\nmean   38.78  63777.78\nstd     7.69  12265.58\nmin    27.00  48000.00\n25%    35.00  54000.00\n50%    38.00  61000.00\n75%    44.00  72000.00\nmax    50.00  83000.00",
      "text/html": "<div>\n<style scoped>\n    .dataframe tbody tr th:only-of-type {\n        vertical-align: middle;\n    }\n\n    .dataframe tbody tr th {\n        vertical-align: top;\n    }\n\n    .dataframe thead th {\n        text-align: right;\n    }\n</style>\n<table border=\"1\" class=\"dataframe\">\n  <thead>\n    <tr style=\"text-align: right;\">\n      <th></th>\n      <th>Age</th>\n      <th>Salary</th>\n    </tr>\n  </thead>\n  <tbody>\n    <tr>\n      <th>count</th>\n      <td>9.00</td>\n      <td>9.00</td>\n    </tr>\n    <tr>\n      <th>mean</th>\n      <td>38.78</td>\n      <td>63777.78</td>\n    </tr>\n    <tr>\n      <th>std</th>\n      <td>7.69</td>\n      <td>12265.58</td>\n    </tr>\n    <tr>\n      <th>min</th>\n      <td>27.00</td>\n      <td>48000.00</td>\n    </tr>\n    <tr>\n      <th>25%</th>\n      <td>35.00</td>\n      <td>54000.00</td>\n    </tr>\n    <tr>\n      <th>50%</th>\n      <td>38.00</td>\n      <td>61000.00</td>\n    </tr>\n    <tr>\n      <th>75%</th>\n      <td>44.00</td>\n      <td>72000.00</td>\n    </tr>\n    <tr>\n      <th>max</th>\n      <td>50.00</td>\n      <td>83000.00</td>\n    </tr>\n  </tbody>\n</table>\n</div>"
     },
     "execution_count": 9,
     "metadata": {},
     "output_type": "execute_result"
    }
   ]
  },
  {
   "cell_type": "code",
   "metadata": {
    "id": "RWbChNTHfQ_2",
    "outputId": "91776c64-79c4-482d-efd7-c0db0abe544a",
    "colab": {
     "base_uri": "https://localhost:8080/"
    },
    "ExecuteTime": {
     "start_time": "2023-06-18T18:12:28.240735Z",
     "end_time": "2023-06-18T18:12:28.278765Z"
    }
   },
   "source": [
    "dataset['Country'].describe()"
   ],
   "execution_count": 10,
   "outputs": [
    {
     "data": {
      "text/plain": "count          9\nunique         3\ntop       France\nfreq           4\nName: Country, dtype: object"
     },
     "execution_count": 10,
     "metadata": {},
     "output_type": "execute_result"
    }
   ]
  },
  {
   "cell_type": "code",
   "source": [
    "# Drop the rows with the missing values\n",
    "dataset.dropna()"
   ],
   "metadata": {
    "colab": {
     "base_uri": "https://localhost:8080/",
     "height": 269
    },
    "id": "8ACOyAYjEWR3",
    "outputId": "9b5ddeca-93d2-4d78-81fa-ef8b8f0054ef",
    "ExecuteTime": {
     "start_time": "2023-06-18T18:12:28.245071Z",
     "end_time": "2023-06-18T18:12:28.279050Z"
    }
   },
   "execution_count": 11,
   "outputs": [
    {
     "data": {
      "text/plain": "   Country   Age   Salary Purchased\n0   France  44.0  72000.0        No\n1    Spain  27.0  48000.0       Yes\n2  Germany  30.0  54000.0        No\n3    Spain  38.0  61000.0        No\n7   France  48.0  79000.0       Yes\n8  Germany  50.0  83000.0        No\n9   France  37.0  67000.0       Yes",
      "text/html": "<div>\n<style scoped>\n    .dataframe tbody tr th:only-of-type {\n        vertical-align: middle;\n    }\n\n    .dataframe tbody tr th {\n        vertical-align: top;\n    }\n\n    .dataframe thead th {\n        text-align: right;\n    }\n</style>\n<table border=\"1\" class=\"dataframe\">\n  <thead>\n    <tr style=\"text-align: right;\">\n      <th></th>\n      <th>Country</th>\n      <th>Age</th>\n      <th>Salary</th>\n      <th>Purchased</th>\n    </tr>\n  </thead>\n  <tbody>\n    <tr>\n      <th>0</th>\n      <td>France</td>\n      <td>44.0</td>\n      <td>72000.0</td>\n      <td>No</td>\n    </tr>\n    <tr>\n      <th>1</th>\n      <td>Spain</td>\n      <td>27.0</td>\n      <td>48000.0</td>\n      <td>Yes</td>\n    </tr>\n    <tr>\n      <th>2</th>\n      <td>Germany</td>\n      <td>30.0</td>\n      <td>54000.0</td>\n      <td>No</td>\n    </tr>\n    <tr>\n      <th>3</th>\n      <td>Spain</td>\n      <td>38.0</td>\n      <td>61000.0</td>\n      <td>No</td>\n    </tr>\n    <tr>\n      <th>7</th>\n      <td>France</td>\n      <td>48.0</td>\n      <td>79000.0</td>\n      <td>Yes</td>\n    </tr>\n    <tr>\n      <th>8</th>\n      <td>Germany</td>\n      <td>50.0</td>\n      <td>83000.0</td>\n      <td>No</td>\n    </tr>\n    <tr>\n      <th>9</th>\n      <td>France</td>\n      <td>37.0</td>\n      <td>67000.0</td>\n      <td>Yes</td>\n    </tr>\n  </tbody>\n</table>\n</div>"
     },
     "execution_count": 11,
     "metadata": {},
     "output_type": "execute_result"
    }
   ]
  },
  {
   "cell_type": "code",
   "metadata": {
    "id": "woePlTqgfQ_3",
    "outputId": "0fe5623e-a79a-40a1-a0c5-78d4dd9061a2",
    "ExecuteTime": {
     "start_time": "2023-06-18T18:12:28.258706Z",
     "end_time": "2023-06-18T18:12:28.280786Z"
    }
   },
   "source": [
    "# Drop the variables with the missing values\n",
    "d = dataset.dropna(axis=1)\n",
    "d"
   ],
   "execution_count": 12,
   "outputs": [
    {
     "data": {
      "text/plain": "  Purchased\n0        No\n1       Yes\n2        No\n3        No\n4       Yes\n5       Yes\n6        No\n7       Yes\n8        No\n9       Yes",
      "text/html": "<div>\n<style scoped>\n    .dataframe tbody tr th:only-of-type {\n        vertical-align: middle;\n    }\n\n    .dataframe tbody tr th {\n        vertical-align: top;\n    }\n\n    .dataframe thead th {\n        text-align: right;\n    }\n</style>\n<table border=\"1\" class=\"dataframe\">\n  <thead>\n    <tr style=\"text-align: right;\">\n      <th></th>\n      <th>Purchased</th>\n    </tr>\n  </thead>\n  <tbody>\n    <tr>\n      <th>0</th>\n      <td>No</td>\n    </tr>\n    <tr>\n      <th>1</th>\n      <td>Yes</td>\n    </tr>\n    <tr>\n      <th>2</th>\n      <td>No</td>\n    </tr>\n    <tr>\n      <th>3</th>\n      <td>No</td>\n    </tr>\n    <tr>\n      <th>4</th>\n      <td>Yes</td>\n    </tr>\n    <tr>\n      <th>5</th>\n      <td>Yes</td>\n    </tr>\n    <tr>\n      <th>6</th>\n      <td>No</td>\n    </tr>\n    <tr>\n      <th>7</th>\n      <td>Yes</td>\n    </tr>\n    <tr>\n      <th>8</th>\n      <td>No</td>\n    </tr>\n    <tr>\n      <th>9</th>\n      <td>Yes</td>\n    </tr>\n  </tbody>\n</table>\n</div>"
     },
     "execution_count": 12,
     "metadata": {},
     "output_type": "execute_result"
    }
   ]
  },
  {
   "cell_type": "markdown",
   "metadata": {
    "id": "pmBcBheVfQ_4"
   },
   "source": [
    "### Imputing/Filling the missing values using fillna() method"
   ]
  },
  {
   "cell_type": "code",
   "metadata": {
    "id": "Dzip_7kSfQ_4",
    "outputId": "7284ef7e-67ad-443c-8a34-b06f5324489f",
    "ExecuteTime": {
     "start_time": "2023-06-18T18:12:28.269585Z",
     "end_time": "2023-06-18T18:12:28.281097Z"
    }
   },
   "source": [
    "dataset[\"Country\"].fillna(\"France\", inplace = True) \n",
    "dataset[\"Age\"].fillna(\"39\", inplace = True) \n",
    "dataset[\"Salary\"].fillna(\"63778\", inplace = True) \n",
    "dataset"
   ],
   "execution_count": 13,
   "outputs": [
    {
     "data": {
      "text/plain": "   Country   Age   Salary Purchased\n0   France  44.0  72000.0        No\n1    Spain  27.0  48000.0       Yes\n2  Germany  30.0  54000.0        No\n3    Spain  38.0  61000.0        No\n4  Germany  40.0    63778       Yes\n5   France  35.0  58000.0       Yes\n6   France    39  52000.0        No\n7   France  48.0  79000.0       Yes\n8  Germany  50.0  83000.0        No\n9   France  37.0  67000.0       Yes",
      "text/html": "<div>\n<style scoped>\n    .dataframe tbody tr th:only-of-type {\n        vertical-align: middle;\n    }\n\n    .dataframe tbody tr th {\n        vertical-align: top;\n    }\n\n    .dataframe thead th {\n        text-align: right;\n    }\n</style>\n<table border=\"1\" class=\"dataframe\">\n  <thead>\n    <tr style=\"text-align: right;\">\n      <th></th>\n      <th>Country</th>\n      <th>Age</th>\n      <th>Salary</th>\n      <th>Purchased</th>\n    </tr>\n  </thead>\n  <tbody>\n    <tr>\n      <th>0</th>\n      <td>France</td>\n      <td>44.0</td>\n      <td>72000.0</td>\n      <td>No</td>\n    </tr>\n    <tr>\n      <th>1</th>\n      <td>Spain</td>\n      <td>27.0</td>\n      <td>48000.0</td>\n      <td>Yes</td>\n    </tr>\n    <tr>\n      <th>2</th>\n      <td>Germany</td>\n      <td>30.0</td>\n      <td>54000.0</td>\n      <td>No</td>\n    </tr>\n    <tr>\n      <th>3</th>\n      <td>Spain</td>\n      <td>38.0</td>\n      <td>61000.0</td>\n      <td>No</td>\n    </tr>\n    <tr>\n      <th>4</th>\n      <td>Germany</td>\n      <td>40.0</td>\n      <td>63778</td>\n      <td>Yes</td>\n    </tr>\n    <tr>\n      <th>5</th>\n      <td>France</td>\n      <td>35.0</td>\n      <td>58000.0</td>\n      <td>Yes</td>\n    </tr>\n    <tr>\n      <th>6</th>\n      <td>France</td>\n      <td>39</td>\n      <td>52000.0</td>\n      <td>No</td>\n    </tr>\n    <tr>\n      <th>7</th>\n      <td>France</td>\n      <td>48.0</td>\n      <td>79000.0</td>\n      <td>Yes</td>\n    </tr>\n    <tr>\n      <th>8</th>\n      <td>Germany</td>\n      <td>50.0</td>\n      <td>83000.0</td>\n      <td>No</td>\n    </tr>\n    <tr>\n      <th>9</th>\n      <td>France</td>\n      <td>37.0</td>\n      <td>67000.0</td>\n      <td>Yes</td>\n    </tr>\n  </tbody>\n</table>\n</div>"
     },
     "execution_count": 13,
     "metadata": {},
     "output_type": "execute_result"
    }
   ]
  },
  {
   "cell_type": "code",
   "metadata": {
    "id": "8oAxP4oTfQ_5",
    "outputId": "2282e146-fa2e-46e5-f6a7-70cc176e5bf4",
    "ExecuteTime": {
     "start_time": "2023-06-18T18:12:28.275224Z",
     "end_time": "2023-06-18T18:12:28.281345Z"
    }
   },
   "source": [
    "dataset.isnull().sum()"
   ],
   "execution_count": 14,
   "outputs": [
    {
     "data": {
      "text/plain": "Country      0\nAge          0\nSalary       0\nPurchased    0\ndtype: int64"
     },
     "execution_count": 14,
     "metadata": {},
     "output_type": "execute_result"
    }
   ]
  },
  {
   "cell_type": "markdown",
   "metadata": {
    "id": "YFzr13mcfQ_6"
   },
   "source": [
    "### Imputing missing values using fillna() - using the imputation strategy"
   ]
  },
  {
   "cell_type": "code",
   "metadata": {
    "id": "y-Xqu0UHfQ_7",
    "outputId": "3983ca0b-b573-4026-92bd-1934fbe76b9f",
    "colab": {
     "base_uri": "https://localhost:8080/",
     "height": 363
    },
    "ExecuteTime": {
     "end_time": "2023-06-16T16:31:25.546376Z",
     "start_time": "2023-06-16T16:31:24.509776Z"
    }
   },
   "source": [
    "# Importing the dataset\n",
    "import pandas as pd\n",
    "dataset_1 = pd.read_csv('/content/sample_data/Data.csv')\n",
    "dataset_1"
   ],
   "execution_count": 15,
   "outputs": [
    {
     "ename": "FileNotFoundError",
     "evalue": "[Errno 2] No such file or directory: '/content/sample_data/Data.csv'",
     "output_type": "error",
     "traceback": [
      "\u001B[0;31m---------------------------------------------------------------------------\u001B[0m",
      "\u001B[0;31mFileNotFoundError\u001B[0m                         Traceback (most recent call last)",
      "Cell \u001B[0;32mIn[15], line 3\u001B[0m\n\u001B[1;32m      1\u001B[0m \u001B[38;5;66;03m# Importing the dataset\u001B[39;00m\n\u001B[1;32m      2\u001B[0m \u001B[38;5;28;01mimport\u001B[39;00m \u001B[38;5;21;01mpandas\u001B[39;00m \u001B[38;5;28;01mas\u001B[39;00m \u001B[38;5;21;01mpd\u001B[39;00m\n\u001B[0;32m----> 3\u001B[0m dataset_1 \u001B[38;5;241m=\u001B[39m \u001B[43mpd\u001B[49m\u001B[38;5;241;43m.\u001B[39;49m\u001B[43mread_csv\u001B[49m\u001B[43m(\u001B[49m\u001B[38;5;124;43m'\u001B[39;49m\u001B[38;5;124;43m/content/sample_data/Data.csv\u001B[39;49m\u001B[38;5;124;43m'\u001B[39;49m\u001B[43m)\u001B[49m\n\u001B[1;32m      4\u001B[0m dataset_1\n",
      "File \u001B[0;32m~/mambaforge-pypy3/envs/amd_gpu/lib/python3.11/site-packages/pandas/io/parsers/readers.py:912\u001B[0m, in \u001B[0;36mread_csv\u001B[0;34m(filepath_or_buffer, sep, delimiter, header, names, index_col, usecols, dtype, engine, converters, true_values, false_values, skipinitialspace, skiprows, skipfooter, nrows, na_values, keep_default_na, na_filter, verbose, skip_blank_lines, parse_dates, infer_datetime_format, keep_date_col, date_parser, date_format, dayfirst, cache_dates, iterator, chunksize, compression, thousands, decimal, lineterminator, quotechar, quoting, doublequote, escapechar, comment, encoding, encoding_errors, dialect, on_bad_lines, delim_whitespace, low_memory, memory_map, float_precision, storage_options, dtype_backend)\u001B[0m\n\u001B[1;32m    899\u001B[0m kwds_defaults \u001B[38;5;241m=\u001B[39m _refine_defaults_read(\n\u001B[1;32m    900\u001B[0m     dialect,\n\u001B[1;32m    901\u001B[0m     delimiter,\n\u001B[0;32m   (...)\u001B[0m\n\u001B[1;32m    908\u001B[0m     dtype_backend\u001B[38;5;241m=\u001B[39mdtype_backend,\n\u001B[1;32m    909\u001B[0m )\n\u001B[1;32m    910\u001B[0m kwds\u001B[38;5;241m.\u001B[39mupdate(kwds_defaults)\n\u001B[0;32m--> 912\u001B[0m \u001B[38;5;28;01mreturn\u001B[39;00m \u001B[43m_read\u001B[49m\u001B[43m(\u001B[49m\u001B[43mfilepath_or_buffer\u001B[49m\u001B[43m,\u001B[49m\u001B[43m \u001B[49m\u001B[43mkwds\u001B[49m\u001B[43m)\u001B[49m\n",
      "File \u001B[0;32m~/mambaforge-pypy3/envs/amd_gpu/lib/python3.11/site-packages/pandas/io/parsers/readers.py:577\u001B[0m, in \u001B[0;36m_read\u001B[0;34m(filepath_or_buffer, kwds)\u001B[0m\n\u001B[1;32m    574\u001B[0m _validate_names(kwds\u001B[38;5;241m.\u001B[39mget(\u001B[38;5;124m\"\u001B[39m\u001B[38;5;124mnames\u001B[39m\u001B[38;5;124m\"\u001B[39m, \u001B[38;5;28;01mNone\u001B[39;00m))\n\u001B[1;32m    576\u001B[0m \u001B[38;5;66;03m# Create the parser.\u001B[39;00m\n\u001B[0;32m--> 577\u001B[0m parser \u001B[38;5;241m=\u001B[39m \u001B[43mTextFileReader\u001B[49m\u001B[43m(\u001B[49m\u001B[43mfilepath_or_buffer\u001B[49m\u001B[43m,\u001B[49m\u001B[43m \u001B[49m\u001B[38;5;241;43m*\u001B[39;49m\u001B[38;5;241;43m*\u001B[39;49m\u001B[43mkwds\u001B[49m\u001B[43m)\u001B[49m\n\u001B[1;32m    579\u001B[0m \u001B[38;5;28;01mif\u001B[39;00m chunksize \u001B[38;5;129;01mor\u001B[39;00m iterator:\n\u001B[1;32m    580\u001B[0m     \u001B[38;5;28;01mreturn\u001B[39;00m parser\n",
      "File \u001B[0;32m~/mambaforge-pypy3/envs/amd_gpu/lib/python3.11/site-packages/pandas/io/parsers/readers.py:1407\u001B[0m, in \u001B[0;36mTextFileReader.__init__\u001B[0;34m(self, f, engine, **kwds)\u001B[0m\n\u001B[1;32m   1404\u001B[0m     \u001B[38;5;28mself\u001B[39m\u001B[38;5;241m.\u001B[39moptions[\u001B[38;5;124m\"\u001B[39m\u001B[38;5;124mhas_index_names\u001B[39m\u001B[38;5;124m\"\u001B[39m] \u001B[38;5;241m=\u001B[39m kwds[\u001B[38;5;124m\"\u001B[39m\u001B[38;5;124mhas_index_names\u001B[39m\u001B[38;5;124m\"\u001B[39m]\n\u001B[1;32m   1406\u001B[0m \u001B[38;5;28mself\u001B[39m\u001B[38;5;241m.\u001B[39mhandles: IOHandles \u001B[38;5;241m|\u001B[39m \u001B[38;5;28;01mNone\u001B[39;00m \u001B[38;5;241m=\u001B[39m \u001B[38;5;28;01mNone\u001B[39;00m\n\u001B[0;32m-> 1407\u001B[0m \u001B[38;5;28mself\u001B[39m\u001B[38;5;241m.\u001B[39m_engine \u001B[38;5;241m=\u001B[39m \u001B[38;5;28;43mself\u001B[39;49m\u001B[38;5;241;43m.\u001B[39;49m\u001B[43m_make_engine\u001B[49m\u001B[43m(\u001B[49m\u001B[43mf\u001B[49m\u001B[43m,\u001B[49m\u001B[43m \u001B[49m\u001B[38;5;28;43mself\u001B[39;49m\u001B[38;5;241;43m.\u001B[39;49m\u001B[43mengine\u001B[49m\u001B[43m)\u001B[49m\n",
      "File \u001B[0;32m~/mambaforge-pypy3/envs/amd_gpu/lib/python3.11/site-packages/pandas/io/parsers/readers.py:1661\u001B[0m, in \u001B[0;36mTextFileReader._make_engine\u001B[0;34m(self, f, engine)\u001B[0m\n\u001B[1;32m   1659\u001B[0m     \u001B[38;5;28;01mif\u001B[39;00m \u001B[38;5;124m\"\u001B[39m\u001B[38;5;124mb\u001B[39m\u001B[38;5;124m\"\u001B[39m \u001B[38;5;129;01mnot\u001B[39;00m \u001B[38;5;129;01min\u001B[39;00m mode:\n\u001B[1;32m   1660\u001B[0m         mode \u001B[38;5;241m+\u001B[39m\u001B[38;5;241m=\u001B[39m \u001B[38;5;124m\"\u001B[39m\u001B[38;5;124mb\u001B[39m\u001B[38;5;124m\"\u001B[39m\n\u001B[0;32m-> 1661\u001B[0m \u001B[38;5;28mself\u001B[39m\u001B[38;5;241m.\u001B[39mhandles \u001B[38;5;241m=\u001B[39m \u001B[43mget_handle\u001B[49m\u001B[43m(\u001B[49m\n\u001B[1;32m   1662\u001B[0m \u001B[43m    \u001B[49m\u001B[43mf\u001B[49m\u001B[43m,\u001B[49m\n\u001B[1;32m   1663\u001B[0m \u001B[43m    \u001B[49m\u001B[43mmode\u001B[49m\u001B[43m,\u001B[49m\n\u001B[1;32m   1664\u001B[0m \u001B[43m    \u001B[49m\u001B[43mencoding\u001B[49m\u001B[38;5;241;43m=\u001B[39;49m\u001B[38;5;28;43mself\u001B[39;49m\u001B[38;5;241;43m.\u001B[39;49m\u001B[43moptions\u001B[49m\u001B[38;5;241;43m.\u001B[39;49m\u001B[43mget\u001B[49m\u001B[43m(\u001B[49m\u001B[38;5;124;43m\"\u001B[39;49m\u001B[38;5;124;43mencoding\u001B[39;49m\u001B[38;5;124;43m\"\u001B[39;49m\u001B[43m,\u001B[49m\u001B[43m \u001B[49m\u001B[38;5;28;43;01mNone\u001B[39;49;00m\u001B[43m)\u001B[49m\u001B[43m,\u001B[49m\n\u001B[1;32m   1665\u001B[0m \u001B[43m    \u001B[49m\u001B[43mcompression\u001B[49m\u001B[38;5;241;43m=\u001B[39;49m\u001B[38;5;28;43mself\u001B[39;49m\u001B[38;5;241;43m.\u001B[39;49m\u001B[43moptions\u001B[49m\u001B[38;5;241;43m.\u001B[39;49m\u001B[43mget\u001B[49m\u001B[43m(\u001B[49m\u001B[38;5;124;43m\"\u001B[39;49m\u001B[38;5;124;43mcompression\u001B[39;49m\u001B[38;5;124;43m\"\u001B[39;49m\u001B[43m,\u001B[49m\u001B[43m \u001B[49m\u001B[38;5;28;43;01mNone\u001B[39;49;00m\u001B[43m)\u001B[49m\u001B[43m,\u001B[49m\n\u001B[1;32m   1666\u001B[0m \u001B[43m    \u001B[49m\u001B[43mmemory_map\u001B[49m\u001B[38;5;241;43m=\u001B[39;49m\u001B[38;5;28;43mself\u001B[39;49m\u001B[38;5;241;43m.\u001B[39;49m\u001B[43moptions\u001B[49m\u001B[38;5;241;43m.\u001B[39;49m\u001B[43mget\u001B[49m\u001B[43m(\u001B[49m\u001B[38;5;124;43m\"\u001B[39;49m\u001B[38;5;124;43mmemory_map\u001B[39;49m\u001B[38;5;124;43m\"\u001B[39;49m\u001B[43m,\u001B[49m\u001B[43m \u001B[49m\u001B[38;5;28;43;01mFalse\u001B[39;49;00m\u001B[43m)\u001B[49m\u001B[43m,\u001B[49m\n\u001B[1;32m   1667\u001B[0m \u001B[43m    \u001B[49m\u001B[43mis_text\u001B[49m\u001B[38;5;241;43m=\u001B[39;49m\u001B[43mis_text\u001B[49m\u001B[43m,\u001B[49m\n\u001B[1;32m   1668\u001B[0m \u001B[43m    \u001B[49m\u001B[43merrors\u001B[49m\u001B[38;5;241;43m=\u001B[39;49m\u001B[38;5;28;43mself\u001B[39;49m\u001B[38;5;241;43m.\u001B[39;49m\u001B[43moptions\u001B[49m\u001B[38;5;241;43m.\u001B[39;49m\u001B[43mget\u001B[49m\u001B[43m(\u001B[49m\u001B[38;5;124;43m\"\u001B[39;49m\u001B[38;5;124;43mencoding_errors\u001B[39;49m\u001B[38;5;124;43m\"\u001B[39;49m\u001B[43m,\u001B[49m\u001B[43m \u001B[49m\u001B[38;5;124;43m\"\u001B[39;49m\u001B[38;5;124;43mstrict\u001B[39;49m\u001B[38;5;124;43m\"\u001B[39;49m\u001B[43m)\u001B[49m\u001B[43m,\u001B[49m\n\u001B[1;32m   1669\u001B[0m \u001B[43m    \u001B[49m\u001B[43mstorage_options\u001B[49m\u001B[38;5;241;43m=\u001B[39;49m\u001B[38;5;28;43mself\u001B[39;49m\u001B[38;5;241;43m.\u001B[39;49m\u001B[43moptions\u001B[49m\u001B[38;5;241;43m.\u001B[39;49m\u001B[43mget\u001B[49m\u001B[43m(\u001B[49m\u001B[38;5;124;43m\"\u001B[39;49m\u001B[38;5;124;43mstorage_options\u001B[39;49m\u001B[38;5;124;43m\"\u001B[39;49m\u001B[43m,\u001B[49m\u001B[43m \u001B[49m\u001B[38;5;28;43;01mNone\u001B[39;49;00m\u001B[43m)\u001B[49m\u001B[43m,\u001B[49m\n\u001B[1;32m   1670\u001B[0m \u001B[43m\u001B[49m\u001B[43m)\u001B[49m\n\u001B[1;32m   1671\u001B[0m \u001B[38;5;28;01massert\u001B[39;00m \u001B[38;5;28mself\u001B[39m\u001B[38;5;241m.\u001B[39mhandles \u001B[38;5;129;01mis\u001B[39;00m \u001B[38;5;129;01mnot\u001B[39;00m \u001B[38;5;28;01mNone\u001B[39;00m\n\u001B[1;32m   1672\u001B[0m f \u001B[38;5;241m=\u001B[39m \u001B[38;5;28mself\u001B[39m\u001B[38;5;241m.\u001B[39mhandles\u001B[38;5;241m.\u001B[39mhandle\n",
      "File \u001B[0;32m~/mambaforge-pypy3/envs/amd_gpu/lib/python3.11/site-packages/pandas/io/common.py:859\u001B[0m, in \u001B[0;36mget_handle\u001B[0;34m(path_or_buf, mode, encoding, compression, memory_map, is_text, errors, storage_options)\u001B[0m\n\u001B[1;32m    854\u001B[0m \u001B[38;5;28;01melif\u001B[39;00m \u001B[38;5;28misinstance\u001B[39m(handle, \u001B[38;5;28mstr\u001B[39m):\n\u001B[1;32m    855\u001B[0m     \u001B[38;5;66;03m# Check whether the filename is to be opened in binary mode.\u001B[39;00m\n\u001B[1;32m    856\u001B[0m     \u001B[38;5;66;03m# Binary mode does not support 'encoding' and 'newline'.\u001B[39;00m\n\u001B[1;32m    857\u001B[0m     \u001B[38;5;28;01mif\u001B[39;00m ioargs\u001B[38;5;241m.\u001B[39mencoding \u001B[38;5;129;01mand\u001B[39;00m \u001B[38;5;124m\"\u001B[39m\u001B[38;5;124mb\u001B[39m\u001B[38;5;124m\"\u001B[39m \u001B[38;5;129;01mnot\u001B[39;00m \u001B[38;5;129;01min\u001B[39;00m ioargs\u001B[38;5;241m.\u001B[39mmode:\n\u001B[1;32m    858\u001B[0m         \u001B[38;5;66;03m# Encoding\u001B[39;00m\n\u001B[0;32m--> 859\u001B[0m         handle \u001B[38;5;241m=\u001B[39m \u001B[38;5;28;43mopen\u001B[39;49m\u001B[43m(\u001B[49m\n\u001B[1;32m    860\u001B[0m \u001B[43m            \u001B[49m\u001B[43mhandle\u001B[49m\u001B[43m,\u001B[49m\n\u001B[1;32m    861\u001B[0m \u001B[43m            \u001B[49m\u001B[43mioargs\u001B[49m\u001B[38;5;241;43m.\u001B[39;49m\u001B[43mmode\u001B[49m\u001B[43m,\u001B[49m\n\u001B[1;32m    862\u001B[0m \u001B[43m            \u001B[49m\u001B[43mencoding\u001B[49m\u001B[38;5;241;43m=\u001B[39;49m\u001B[43mioargs\u001B[49m\u001B[38;5;241;43m.\u001B[39;49m\u001B[43mencoding\u001B[49m\u001B[43m,\u001B[49m\n\u001B[1;32m    863\u001B[0m \u001B[43m            \u001B[49m\u001B[43merrors\u001B[49m\u001B[38;5;241;43m=\u001B[39;49m\u001B[43merrors\u001B[49m\u001B[43m,\u001B[49m\n\u001B[1;32m    864\u001B[0m \u001B[43m            \u001B[49m\u001B[43mnewline\u001B[49m\u001B[38;5;241;43m=\u001B[39;49m\u001B[38;5;124;43m\"\u001B[39;49m\u001B[38;5;124;43m\"\u001B[39;49m\u001B[43m,\u001B[49m\n\u001B[1;32m    865\u001B[0m \u001B[43m        \u001B[49m\u001B[43m)\u001B[49m\n\u001B[1;32m    866\u001B[0m     \u001B[38;5;28;01melse\u001B[39;00m:\n\u001B[1;32m    867\u001B[0m         \u001B[38;5;66;03m# Binary mode\u001B[39;00m\n\u001B[1;32m    868\u001B[0m         handle \u001B[38;5;241m=\u001B[39m \u001B[38;5;28mopen\u001B[39m(handle, ioargs\u001B[38;5;241m.\u001B[39mmode)\n",
      "\u001B[0;31mFileNotFoundError\u001B[0m: [Errno 2] No such file or directory: '/content/sample_data/Data.csv'"
     ]
    }
   ]
  },
  {
   "cell_type": "code",
   "metadata": {
    "id": "p1NZJ4BpfQ_8",
    "outputId": "19ecf202-0722-45df-8554-7de69bfe6278",
    "colab": {
     "base_uri": "https://localhost:8080/"
    },
    "ExecuteTime": {
     "start_time": "2023-06-16T16:31:24.557224Z"
    }
   },
   "source": [
    "dataset_1.isnull().sum()"
   ],
   "execution_count": null,
   "outputs": []
  },
  {
   "cell_type": "code",
   "metadata": {
    "id": "Gf4KKyUUfQ_9",
    "outputId": "a2c15d32-18aa-4010-c106-b74558f9912e",
    "colab": {
     "base_uri": "https://localhost:8080/"
    },
    "ExecuteTime": {
     "start_time": "2023-06-16T16:31:24.558511Z"
    }
   },
   "source": [
    "dataset_1['Country'].value_counts()"
   ],
   "execution_count": null,
   "outputs": []
  },
  {
   "cell_type": "code",
   "metadata": {
    "id": "5ya0NI0ofQ__",
    "outputId": "57e9894c-1c86-47d9-a9a0-a9ba8bedeb6c",
    "colab": {
     "base_uri": "https://localhost:8080/",
     "height": 417
    },
    "ExecuteTime": {
     "start_time": "2023-06-16T16:31:24.559351Z"
    }
   },
   "source": [
    "dataset_1.fillna(dataset_1.mean(), inplace=True)\n",
    "dataset_1 = dataset_1.fillna(dataset_1['Country'].value_counts().index[0])\n",
    "dataset_1 = dataset_1.round()\n",
    "dataset_1"
   ],
   "execution_count": null,
   "outputs": []
  },
  {
   "cell_type": "markdown",
   "metadata": {
    "id": "tTzg9RkAfRAA"
   },
   "source": [
    "### Imputing missing values using Imputer from Sklearn"
   ]
  },
  {
   "cell_type": "code",
   "metadata": {
    "id": "IqA0sMrgfRAB",
    "outputId": "aebce538-8333-4501-fbb7-130e494fc014",
    "ExecuteTime": {
     "start_time": "2023-06-16T16:31:24.560136Z"
    }
   },
   "source": [
    "# Importing the dataset\n",
    "import pandas as pd\n",
    "dataset_2 = pd.read_csv('D:/APU/CT108-3-3 - OCDS/Lab Sessions/Lab3 - Data Preprocessing/Data.csv')\n",
    "dataset_2"
   ],
   "execution_count": null,
   "outputs": []
  },
  {
   "cell_type": "markdown",
   "metadata": {
    "id": "zTaCrl-EfRAC"
   },
   "source": [
    "#### Simple Imputer\n",
    "\n",
    "https://scikit-learn.org/stable/modules/generated/sklearn.impute.SimpleImputer.html#sklearn.impute.SimpleImputer"
   ]
  },
  {
   "cell_type": "code",
   "metadata": {
    "id": "vN-Qv5gSfRAD",
    "outputId": "9e5e3ea4-e1b4-48d9-c7ed-fa23bb99525a",
    "ExecuteTime": {
     "start_time": "2023-06-16T16:31:24.574016Z"
    }
   },
   "source": [
    "# Taking care of missing data\n",
    "import numpy as np\n",
    "from sklearn.impute import SimpleImputer\n",
    "imputer_1 = SimpleImputer(missing_values=np.nan, strategy='mean')\n",
    "dataset_2[['Age', 'Salary']] = imputer_1.fit_transform(dataset_2[['Age', 'Salary']])\n",
    "\n",
    "imputer_2 = SimpleImputer(missing_values=np.nan, strategy='most_frequent')\n",
    "dataset_2[['Country']] = imputer_2.fit_transform(dataset_2[['Country']])\n",
    "dataset_2 = dataset_2.round()\n",
    "dataset_2"
   ],
   "execution_count": null,
   "outputs": []
  },
  {
   "cell_type": "markdown",
   "metadata": {
    "id": "28k6aue5fRAF"
   },
   "source": [
    "### Assign IV and TV"
   ]
  },
  {
   "cell_type": "code",
   "metadata": {
    "id": "ppyEZ1AffRAF",
    "ExecuteTime": {
     "start_time": "2023-06-16T16:31:24.830912Z"
    }
   },
   "source": [
    "X = dataset[['Country', 'Age', 'Salary']]\n",
    "Y = dataset['Purchased']"
   ],
   "execution_count": null,
   "outputs": []
  },
  {
   "cell_type": "code",
   "metadata": {
    "id": "2-mMovP2fRAG",
    "outputId": "2ef240fe-5e89-4c64-b9ee-cc10a0360198",
    "ExecuteTime": {
     "start_time": "2023-06-16T16:31:24.832194Z"
    }
   },
   "source": [
    "X"
   ],
   "execution_count": null,
   "outputs": []
  },
  {
   "cell_type": "code",
   "metadata": {
    "id": "7JiuvegefRAG",
    "outputId": "58ec8adf-b8f6-4cfd-f2cd-ed49a43714f1",
    "ExecuteTime": {
     "start_time": "2023-06-16T16:31:24.833468Z"
    }
   },
   "source": [
    "Y"
   ],
   "execution_count": null,
   "outputs": []
  },
  {
   "cell_type": "markdown",
   "metadata": {
    "id": "hrLMVypDfRAH"
   },
   "source": [
    "### Label Encoding --------------------------"
   ]
  },
  {
   "cell_type": "code",
   "metadata": {
    "id": "y6nvE3pHfRAH",
    "outputId": "3afed54f-819c-4c0f-82b7-726a10f5d816",
    "ExecuteTime": {
     "start_time": "2023-06-16T16:31:24.834537Z"
    }
   },
   "source": [
    "# Importing the dataset\n",
    "import pandas as pd\n",
    "dataset_2 = pd.read_csv('D:/APU/CT108-3-3 - OCDS/Lab Sessions/Lab3 - Data Preprocessing/Data.csv')\n",
    "dataset_2"
   ],
   "execution_count": null,
   "outputs": []
  },
  {
   "cell_type": "code",
   "metadata": {
    "id": "-FvgE4f8fRAI",
    "outputId": "c7400e39-ff1c-4d6f-dcee-2054c058e7f5",
    "ExecuteTime": {
     "start_time": "2023-06-16T16:31:24.835974Z"
    }
   },
   "source": [
    "# Imputing missing values\n",
    "dataset_2.fillna(dataset_2.mean(), inplace=True)\n",
    "dataset_2['Country'] = dataset_2.fillna(dataset_2['Country'].value_counts().index[0])\n",
    "dataset_2 = dataset_2.round()\n",
    "dataset_2"
   ],
   "execution_count": null,
   "outputs": []
  },
  {
   "cell_type": "code",
   "metadata": {
    "id": "xvpT32uFfRAJ",
    "outputId": "5556b44c-3f15-4caf-f9b4-3fabcc7d3838",
    "ExecuteTime": {
     "start_time": "2023-06-16T16:31:24.837308Z"
    }
   },
   "source": [
    "# Encoding categorical data. NOTE: The missing values must be imputed if any found in the dataset\n",
    "# Encoding the Independent Variable\n",
    "import warnings\n",
    "warnings.filterwarnings(\"ignore\")\n",
    "\n",
    "from sklearn.preprocessing import LabelEncoder\n",
    "labelencoder = LabelEncoder()\n",
    "dataset_2['Country'] = labelencoder.fit_transform(dataset_2['Country'])\n",
    "dataset_2['Purchased'] = labelencoder.fit_transform(dataset_2['Purchased'])\n",
    "dataset_2"
   ],
   "execution_count": null,
   "outputs": []
  },
  {
   "cell_type": "markdown",
   "metadata": {
    "id": "EOrcLbcpfRAK"
   },
   "source": [
    "**The label encoding can also be done after assignign the IV & TV**"
   ]
  },
  {
   "cell_type": "markdown",
   "metadata": {
    "id": "uzMlsPQIfRAL"
   },
   "source": [
    "Encoding the Input and Target Variable\n",
    "\n",
    "X_2 = dataset_2[['Country', 'Age', 'Salary']]\n",
    "\n",
    "Y_2 = dataset_2['Purchased']\n",
    "\n",
    "from sklearn.preprocessing import LabelEncoder\n",
    "\n",
    "labelencoder_X = LabelEncoder()\n",
    "\n",
    "X_2['Country'] = labelencoder_X.fit_transform(X_2['Country'])\n",
    "\n",
    "X_2\n",
    "\n",
    "labelencoder_Y = LabelEncoder()\n",
    "\n",
    "Y_2 = labelencoder_Y.fit_transform(Y_2)\n",
    "\n",
    "Y_2"
   ]
  },
  {
   "cell_type": "markdown",
   "metadata": {
    "id": "aIVCGyKjfRAL"
   },
   "source": [
    "**Challenges with Label Encoding**\n",
    "\n",
    "In the above scenario, the Country names do not have an order or rank. But, when label encoding is performed, the country names are ranked based on the alphabets. Due to this, there is a very high probability that the model captures the relationship between countries such as India < Japan < the US.\n",
    "\n",
    "This is something that we do not want! So how can we overcome this obstacle? Here comes the concept of **One-Hot Encoding**."
   ]
  },
  {
   "cell_type": "markdown",
   "metadata": {
    "id": "UwwSzhbWfRAM"
   },
   "source": [
    "### Factorization using Pandas -----------------------"
   ]
  },
  {
   "cell_type": "code",
   "metadata": {
    "id": "DNF7-Vl0fRAN",
    "outputId": "accdce93-6f25-49b2-b037-8d43c289c008",
    "ExecuteTime": {
     "start_time": "2023-06-16T16:31:24.838096Z"
    }
   },
   "source": [
    "# Importing the dataset\n",
    "import pandas as pd\n",
    "dataset_F = pd.read_csv('D:/APU/CT108-3-3 - OCDS/Lab Sessions/Lab3 - Data Preprocessing/Data.csv')\n",
    "dataset_F"
   ],
   "execution_count": null,
   "outputs": []
  },
  {
   "cell_type": "code",
   "metadata": {
    "id": "plzN1uozfRAN",
    "outputId": "3fad4161-afd8-47af-bd89-c32a952dc881",
    "ExecuteTime": {
     "start_time": "2023-06-16T16:31:24.838974Z"
    }
   },
   "source": [
    "# Imputing missing values\n",
    "dataset_F.fillna(dataset_F.mean(), inplace=True)\n",
    "dataset_F['Country'] = dataset_F.fillna(dataset_F['Country'].value_counts().index[0])\n",
    "dataset_F = dataset_F.round()\n",
    "dataset_F"
   ],
   "execution_count": null,
   "outputs": []
  },
  {
   "cell_type": "code",
   "metadata": {
    "id": "VTk2IfNnfRAO",
    "outputId": "9a566a99-4ace-4fe1-8dfd-33b560dd02a4",
    "ExecuteTime": {
     "start_time": "2023-06-16T16:31:24.839680Z"
    }
   },
   "source": [
    "dataset_F['Country'] = pd.factorize(dataset_F['Country'])[0]\n",
    "dataset_F['Purchased'] = pd.factorize(dataset_F['Purchased'])[0]\n",
    "dataset_F"
   ],
   "execution_count": null,
   "outputs": []
  },
  {
   "cell_type": "markdown",
   "metadata": {
    "id": "XdkVLE47fRAP"
   },
   "source": [
    "**Challenges with Label Encoding**\n",
    "\n",
    "In the above scenario, the Country names do not have an order or rank. But, when label encoding is performed, the country names are ranked based on the alphabets. Due to this, there is a very high probability that the model captures the relationship between countries such as India < Japan < the US.\n",
    "\n",
    "This is something that we do not want! So how can we overcome this obstacle? Here comes the concept of **One-Hot Encoding**."
   ]
  },
  {
   "cell_type": "markdown",
   "metadata": {
    "id": "GQwSs_RPfRAQ"
   },
   "source": [
    "### One Hot Encoding ----------------------"
   ]
  },
  {
   "cell_type": "markdown",
   "metadata": {
    "id": "1IIfI6VVfRAR"
   },
   "source": [
    "One-Hot Encoding is another popular technique for treating categorical variables. It simply creates additional features based on the number of unique values in the categorical feature. Every unique value in the category will be added as a feature."
   ]
  },
  {
   "cell_type": "markdown",
   "metadata": {
    "id": "CVMp4zYEfRAR"
   },
   "source": [
    "**Using get_dummies() from Pandas**"
   ]
  },
  {
   "cell_type": "markdown",
   "metadata": {
    "id": "PvlTMo3TfRAR"
   },
   "source": [
    "The Countries column contain categorical values. We can convert the values in the Countries column into one-hot encoded vectors using the get_dummies() function:"
   ]
  },
  {
   "cell_type": "code",
   "metadata": {
    "id": "2F1XmlcTfRAS",
    "outputId": "2cdc47a0-a8ce-437b-c2ee-ced4071876c4",
    "ExecuteTime": {
     "start_time": "2023-06-16T16:31:24.933729Z"
    }
   },
   "source": [
    "# Importing the dataset\n",
    "import pandas as pd\n",
    "dataset_d = pd.read_csv('D:/APU/CT108-3-3 - OCDS/Lab Sessions/Lab3 - Data Preprocessing/Data.csv')\n",
    "dataset_d"
   ],
   "execution_count": null,
   "outputs": []
  },
  {
   "cell_type": "code",
   "metadata": {
    "id": "ff8uaDwFfRAS",
    "outputId": "06f6090d-a6ac-4147-99fd-cf1d6e933a1b",
    "ExecuteTime": {
     "start_time": "2023-06-16T16:31:24.971601Z"
    }
   },
   "source": [
    "# Imputing missing values\n",
    "dataset_d.fillna(dataset_d.mean(), inplace=True)\n",
    "dataset_d['Country'] = dataset_d.fillna(dataset_d['Country'].value_counts().index[0])\n",
    "dataset_d = dataset_d.round()\n",
    "dataset_d"
   ],
   "execution_count": null,
   "outputs": []
  },
  {
   "cell_type": "code",
   "metadata": {
    "id": "zo0zul-cfRAT",
    "outputId": "83b4c24c-5128-4550-8b6f-7027eaf00ec2",
    "ExecuteTime": {
     "start_time": "2023-06-16T16:31:24.973024Z"
    }
   },
   "source": [
    "pd.get_dummies(data = dataset_d, columns = ['Country', 'Purchased'])"
   ],
   "execution_count": null,
   "outputs": []
  },
  {
   "cell_type": "markdown",
   "metadata": {
    "id": "SCdSxR4XfRAU"
   },
   "source": [
    "**One Hot Encoding using Sklearn**"
   ]
  },
  {
   "cell_type": "code",
   "metadata": {
    "id": "iquifBUDfRAV",
    "outputId": "57130d6f-dc03-4731-e1a9-42ccc55057e1",
    "colab": {
     "base_uri": "https://localhost:8080/",
     "height": 381
    },
    "ExecuteTime": {
     "start_time": "2023-06-16T16:31:24.974524Z"
    }
   },
   "source": [
    "# Importing the dataset\n",
    "import pandas as pd\n",
    "dataset_one = pd.read_csv('D:/APU/CT108-3-3 - OCDS/Lab Sessions/Lab3 - Data Preprocessing/Data.csv')\n",
    "dataset_one"
   ],
   "execution_count": null,
   "outputs": []
  },
  {
   "cell_type": "code",
   "metadata": {
    "id": "Egm_OS19fRAV",
    "outputId": "f4b3dc67-4f0d-484e-abca-537d561e5457",
    "ExecuteTime": {
     "start_time": "2023-06-16T16:31:24.975482Z"
    }
   },
   "source": [
    "# Imputing missing values\n",
    "dataset_one.fillna(dataset_one.mean(), inplace=True)\n",
    "dataset_one['Country'] = dataset_one.fillna(dataset_one['Country'].value_counts().index[0])\n",
    "dataset_one = dataset_one.round()\n",
    "dataset_one"
   ],
   "execution_count": null,
   "outputs": []
  },
  {
   "cell_type": "code",
   "metadata": {
    "id": "XL7y8AMMfRAW",
    "outputId": "35135674-8881-43a8-d46d-9215bcd7a05f",
    "ExecuteTime": {
     "start_time": "2023-06-16T16:31:24.976392Z"
    }
   },
   "source": [
    "from sklearn.preprocessing import OneHotEncoder\n",
    "\n",
    "onehotencoder = OneHotEncoder()\n",
    "\n",
    "onehot = onehotencoder.fit_transform(dataset_one.Country.values.reshape(-1,1)).toarray()\n",
    "\n",
    "dfOneHot = pd.DataFrame(onehot, columns = [\"Country_\"+str(int(i)) for i in range(onehot.shape[1])]) \n",
    "\n",
    "dataset_one = pd.concat([dataset_one, dfOneHot], axis=1)\n",
    "\n",
    "dataset_one = dataset_one.drop(['Country'], axis=1) \n",
    "\n",
    "dataset_one"
   ],
   "execution_count": null,
   "outputs": []
  },
  {
   "cell_type": "markdown",
   "metadata": {
    "id": "vcZSMeOYfRAb"
   },
   "source": [
    "### Feature Scaling"
   ]
  },
  {
   "cell_type": "markdown",
   "metadata": {
    "id": "nTDw8MiifRAc"
   },
   "source": [
    "In many machine learning algorithms, to bring all features in the same standing, we need to do scaling so that one significant number doesn’t impact the model just because of their large magnitude.\n",
    "\n",
    "Feature scaling in machine learning is one of the most critical steps during the pre-processing of data before creating a machine learning model.\n",
    "\n",
    "The most common techniques of feature scaling are **Normalization** and **Standardization**."
   ]
  },
  {
   "cell_type": "markdown",
   "metadata": {
    "id": "DW2v5fmFfRAc"
   },
   "source": [
    "Normalization is used when we want to bound our values between two numbers, typically, between [0,1] or [-1,1]. While Standardization transforms the data to have zero mean and a variance of 1, they make our data unitless. "
   ]
  },
  {
   "cell_type": "markdown",
   "metadata": {
    "id": "TLcodUVXfRAd"
   },
   "source": [
    "Reference:\n",
    "https://towardsdatascience.com/all-about-feature-scaling-bcc0ad75cb35"
   ]
  },
  {
   "cell_type": "markdown",
   "metadata": {
    "id": "UQNiU5lBfRAd"
   },
   "source": [
    "**Normalization** is good to use when you know that the distribution of your data does not follow a Gaussian distribution."
   ]
  },
  {
   "cell_type": "code",
   "metadata": {
    "id": "z4Y4KT1pfRAe",
    "outputId": "145e66a8-fa60-433f-e9f3-bba9025d347a",
    "ExecuteTime": {
     "start_time": "2023-06-16T16:31:25.119741Z"
    }
   },
   "source": [
    "X_tr"
   ],
   "execution_count": null,
   "outputs": []
  },
  {
   "cell_type": "code",
   "metadata": {
    "id": "LXoMOpWFfRAe",
    "ExecuteTime": {
     "start_time": "2023-06-16T16:31:25.122336Z"
    }
   },
   "source": [
    "from sklearn.preprocessing import MinMaxScaler\n",
    "norm = MinMaxScaler().fit(X_tr)\n",
    "X_train_norm = norm.transform(X_tr)\n",
    "X_test_norm = norm.transform(X_te)"
   ],
   "execution_count": null,
   "outputs": []
  },
  {
   "cell_type": "code",
   "metadata": {
    "id": "EAcP6I5NfRAf",
    "outputId": "60a7aa22-e6a1-465e-a519-514dc11b739d",
    "ExecuteTime": {
     "start_time": "2023-06-16T16:31:25.123462Z"
    }
   },
   "source": [
    "X_train_norm"
   ],
   "execution_count": null,
   "outputs": []
  },
  {
   "cell_type": "code",
   "metadata": {
    "id": "6n7HfyoFfRAf",
    "outputId": "1fcb8f4b-2444-486d-8c24-5c1f84035f70",
    "ExecuteTime": {
     "start_time": "2023-06-16T16:31:25.124111Z"
    }
   },
   "source": [
    "X_test_norm"
   ],
   "execution_count": null,
   "outputs": []
  },
  {
   "cell_type": "markdown",
   "metadata": {
    "id": "KuBttYz4fRAg"
   },
   "source": [
    "**Standardization**, on the other hand, can be helpful in cases where the data follows a Gaussian distribution."
   ]
  },
  {
   "cell_type": "code",
   "metadata": {
    "id": "KMPmRbLbfRAg",
    "ExecuteTime": {
     "start_time": "2023-06-16T16:31:25.147461Z"
    }
   },
   "source": [
    "# Feature Scaling\n",
    "from sklearn.preprocessing import StandardScaler\n",
    "sc_X = StandardScaler()\n",
    "X_train = sc_X.fit_transform(X_train)\n",
    "X_test = sc_X.transform(X_test)"
   ],
   "execution_count": null,
   "outputs": []
  },
  {
   "cell_type": "code",
   "metadata": {
    "id": "NgPxcddafRAg",
    "outputId": "15b493b1-2a48-4552-9623-75f22e259700",
    "ExecuteTime": {
     "start_time": "2023-06-16T16:31:25.155124Z"
    }
   },
   "source": [
    "X_train"
   ],
   "execution_count": null,
   "outputs": []
  },
  {
   "cell_type": "code",
   "metadata": {
    "id": "A6ZaTCTQfRAh",
    "outputId": "46a5fd5e-0190-47e7-ac54-d31c457ddf2e",
    "ExecuteTime": {
     "start_time": "2023-06-16T16:31:25.156238Z"
    }
   },
   "source": [
    "X_test"
   ],
   "execution_count": null,
   "outputs": []
  },
  {
   "cell_type": "markdown",
   "metadata": {
    "id": "Bg4NlikofRAX"
   },
   "source": [
    "### Data Split"
   ]
  },
  {
   "cell_type": "code",
   "metadata": {
    "id": "3e8F3D3JfRAY",
    "ExecuteTime": {
     "start_time": "2023-06-16T16:31:25.184852Z"
    }
   },
   "source": [
    "X = dataset_one[['Age', 'Salary', 'Country_0', 'Country_1', 'Country_2']] # Input Variables\n",
    "y = dataset_one['Purchased'] # Target Variable"
   ],
   "execution_count": null,
   "outputs": []
  },
  {
   "cell_type": "code",
   "metadata": {
    "id": "fkGGm1tWfRAY",
    "outputId": "ae86766f-7657-438f-c2cd-511545c9a8f4",
    "ExecuteTime": {
     "start_time": "2023-06-16T16:31:25.187154Z"
    }
   },
   "source": [
    "X"
   ],
   "execution_count": null,
   "outputs": []
  },
  {
   "cell_type": "code",
   "metadata": {
    "id": "Le4Zid9zfRAZ",
    "outputId": "7d78af23-606a-4016-b190-66df988f5128",
    "ExecuteTime": {
     "start_time": "2023-06-16T16:31:25.188043Z"
    }
   },
   "source": [
    "y"
   ],
   "execution_count": null,
   "outputs": []
  },
  {
   "cell_type": "code",
   "metadata": {
    "id": "wJf6OzdsfRAZ",
    "ExecuteTime": {
     "start_time": "2023-06-16T16:31:25.188876Z"
    }
   },
   "source": [
    "from sklearn.model_selection import train_test_split\n",
    "X_train, X_test, Y_train, Y_test = train_test_split(X, Y, test_size=0.30, random_state=123)\n",
    "\n",
    "X_tr, X_te, Y_tr, Y_te = train_test_split(X, y, test_size=0.30, random_state=123)"
   ],
   "execution_count": null,
   "outputs": []
  },
  {
   "cell_type": "code",
   "metadata": {
    "id": "pfRynDQVfRAa",
    "outputId": "d7350cd0-9509-44eb-a3bf-5f0fcb5b8bba",
    "ExecuteTime": {
     "start_time": "2023-06-16T16:31:25.190370Z"
    }
   },
   "source": [
    "X_train"
   ],
   "execution_count": null,
   "outputs": []
  },
  {
   "cell_type": "code",
   "metadata": {
    "id": "l4ciXKIPfRAb",
    "outputId": "a2014a83-7f82-46ff-bc28-5061cfb7378e",
    "ExecuteTime": {
     "start_time": "2023-06-16T16:31:25.191445Z"
    }
   },
   "source": [
    "Y_train"
   ],
   "execution_count": null,
   "outputs": []
  },
  {
   "cell_type": "markdown",
   "source": [
    "### Class Balancing"
   ],
   "metadata": {
    "id": "jG1VSLKbFAck"
   }
  },
  {
   "cell_type": "markdown",
   "source": [
    "Oversampling using SMOTE"
   ],
   "metadata": {
    "id": "fofxp4sOF05g"
   }
  },
  {
   "cell_type": "code",
   "source": [
    "data_1 = pd.read_csv('/content/telecom_churn.csv')\n",
    "import seaborn as sns\n",
    "sns.countplot(x = data_1['Churn'])"
   ],
   "metadata": {
    "id": "J47xVGvEFDhl",
    "ExecuteTime": {
     "start_time": "2023-06-16T16:31:25.243635Z"
    }
   },
   "execution_count": null,
   "outputs": []
  },
  {
   "cell_type": "code",
   "source": [
    "data_1 = data_1.drop(['State', 'International plan', 'Voice mail plan'], axis = 1)"
   ],
   "metadata": {
    "id": "iypTK9WBGQ3W",
    "ExecuteTime": {
     "start_time": "2023-06-16T16:31:25.285712Z"
    }
   },
   "execution_count": null,
   "outputs": []
  },
  {
   "cell_type": "code",
   "source": [
    "x = data_1.drop('Churn', axis = 1)\n",
    "y = data_1['Churn']"
   ],
   "metadata": {
    "id": "1CFym6Q6T8jI",
    "ExecuteTime": {
     "start_time": "2023-06-16T16:31:25.286857Z"
    }
   },
   "execution_count": null,
   "outputs": []
  },
  {
   "cell_type": "code",
   "source": [
    "from imblearn.over_sampling import SMOTE\n",
    "x_b, y_b = SMOTE().fit_resample(x, y)"
   ],
   "metadata": {
    "id": "3U5pXQ5TUHua",
    "ExecuteTime": {
     "start_time": "2023-06-16T16:31:25.287976Z"
    }
   },
   "execution_count": null,
   "outputs": []
  },
  {
   "cell_type": "code",
   "source": [
    "sns.countplot(x = y_b)"
   ],
   "metadata": {
    "colab": {
     "base_uri": "https://localhost:8080/",
     "height": 296
    },
    "id": "T5iFHwLkV_iP",
    "outputId": "d3f4c951-56c5-4441-ccf3-e6194b87ef44",
    "ExecuteTime": {
     "start_time": "2023-06-16T16:31:25.288730Z"
    }
   },
   "execution_count": null,
   "outputs": []
  },
  {
   "cell_type": "markdown",
   "source": [
    "Undersampling using Near Miss"
   ],
   "metadata": {
    "id": "HV85_ETLGVFl"
   }
  },
  {
   "cell_type": "code",
   "source": [
    "from imblearn.under_sampling import NearMiss\n",
    "nm = NearMiss()\n",
    "x_nm, y_nm = nm.fit_resample(x, y)"
   ],
   "metadata": {
    "id": "yRPQjvUyWjaB",
    "ExecuteTime": {
     "start_time": "2023-06-16T16:31:25.289493Z"
    }
   },
   "execution_count": null,
   "outputs": []
  },
  {
   "cell_type": "code",
   "source": [
    "sns.countplot(x = y_nm)"
   ],
   "metadata": {
    "id": "DsxxAAV4W_1m",
    "outputId": "30a84f33-140a-4a9e-aa67-6e146fbb968e",
    "colab": {
     "base_uri": "https://localhost:8080/",
     "height": 297
    },
    "ExecuteTime": {
     "start_time": "2023-06-16T16:31:25.290257Z"
    }
   },
   "execution_count": null,
   "outputs": []
  },
  {
   "cell_type": "markdown",
   "metadata": {
    "id": "WcWPOnbgfRAh"
   },
   "source": [
    "### Homework"
   ]
  },
  {
   "cell_type": "markdown",
   "metadata": {
    "id": "JXZJOuYbfRAi"
   },
   "source": [
    "Select you preferred datset. Any other dataset with around 10-15 variables.\n",
    " 1. Perform EDA\n",
    " 2. Perform Preprocessing\n",
    " "
   ]
  }
 ]
}
