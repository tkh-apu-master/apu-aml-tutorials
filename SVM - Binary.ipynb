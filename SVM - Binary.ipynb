{
 "cells": [
  {
   "cell_type": "markdown",
   "metadata": {},
   "source": [
    "# SVM - Binary"
   ]
  },
  {
   "cell_type": "code",
   "execution_count": 172,
   "metadata": {
    "id": "at34lZPkuPoh",
    "ExecuteTime": {
     "end_time": "2023-06-18T06:51:55.696123Z",
     "start_time": "2023-06-18T06:51:53.884046Z"
    }
   },
   "outputs": [],
   "source": [
    "import numpy as np\n",
    "import matplotlib.pyplot as plt\n",
    "import pandas as pd\n",
    "import seaborn as sns\n",
    "from sklearn.svm import SVC\n",
    "from sklearn.preprocessing import StandardScaler\n",
    "import warnings\n",
    "warnings.filterwarnings(\"ignore\")"
   ]
  },
  {
   "cell_type": "code",
   "execution_count": 173,
   "metadata": {
    "colab": {
     "base_uri": "https://localhost:8080/",
     "height": 72,
     "resources": {
      "http://localhost:8080/nbextensions/google.colab/files.js": {
       "data": "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",
       "headers": [
        [
         "content-type",
         "application/javascript"
        ]
       ],
       "ok": true,
       "status": 200,
       "status_text": ""
      }
     }
    },
    "id": "srAO1DRhuXvR",
    "outputId": "266b3e7a-8f5d-424b-efdc-007d71bf5235",
    "ExecuteTime": {
     "end_time": "2023-06-18T06:51:55.697225Z",
     "start_time": "2023-06-18T06:51:53.889333Z"
    }
   },
   "outputs": [
    {
     "data": {
      "text/plain": "\"from google.colab import files\\nfile = files.upload()\\nimport io\\ndata = pd.read_csv(io.BytesIO(file['diabetes.csv']))\""
     },
     "execution_count": 173,
     "metadata": {},
     "output_type": "execute_result"
    }
   ],
   "source": [
    "'''from google.colab import files\n",
    "file = files.upload()\n",
    "import io\n",
    "data = pd.read_csv(io.BytesIO(file['diabetes.csv']))'''"
   ]
  },
  {
   "cell_type": "code",
   "execution_count": 174,
   "metadata": {
    "id": "cRi3SUtmuPor",
    "ExecuteTime": {
     "end_time": "2023-06-18T06:51:55.697373Z",
     "start_time": "2023-06-18T06:51:53.895129Z"
    }
   },
   "outputs": [],
   "source": [
    "data = pd.read_csv('diabetes.csv')"
   ]
  },
  {
   "cell_type": "code",
   "execution_count": 175,
   "metadata": {
    "colab": {
     "base_uri": "https://localhost:8080/",
     "height": 204
    },
    "id": "uZJzgyEjuPos",
    "outputId": "f04c6ba0-bda2-4a79-9642-e564226b8c54",
    "ExecuteTime": {
     "end_time": "2023-06-18T06:51:55.697565Z",
     "start_time": "2023-06-18T06:51:53.920957Z"
    }
   },
   "outputs": [
    {
     "data": {
      "text/plain": "   Pregnancies  Glucose  BloodPressure  SkinThickness  Insulin   BMI  \\\n0            6      148             72             35        0  33.6   \n1            1       85             66             29        0  26.6   \n2            8      183             64              0        0  23.3   \n3            1       89             66             23       94  28.1   \n4            0      137             40             35      168  43.1   \n\n   DiabetesPedigreeFunction  Age  Outcome  \n0                     0.627   50        1  \n1                     0.351   31        0  \n2                     0.672   32        1  \n3                     0.167   21        0  \n4                     2.288   33        1  ",
      "text/html": "<div>\n<style scoped>\n    .dataframe tbody tr th:only-of-type {\n        vertical-align: middle;\n    }\n\n    .dataframe tbody tr th {\n        vertical-align: top;\n    }\n\n    .dataframe thead th {\n        text-align: right;\n    }\n</style>\n<table border=\"1\" class=\"dataframe\">\n  <thead>\n    <tr style=\"text-align: right;\">\n      <th></th>\n      <th>Pregnancies</th>\n      <th>Glucose</th>\n      <th>BloodPressure</th>\n      <th>SkinThickness</th>\n      <th>Insulin</th>\n      <th>BMI</th>\n      <th>DiabetesPedigreeFunction</th>\n      <th>Age</th>\n      <th>Outcome</th>\n    </tr>\n  </thead>\n  <tbody>\n    <tr>\n      <th>0</th>\n      <td>6</td>\n      <td>148</td>\n      <td>72</td>\n      <td>35</td>\n      <td>0</td>\n      <td>33.6</td>\n      <td>0.627</td>\n      <td>50</td>\n      <td>1</td>\n    </tr>\n    <tr>\n      <th>1</th>\n      <td>1</td>\n      <td>85</td>\n      <td>66</td>\n      <td>29</td>\n      <td>0</td>\n      <td>26.6</td>\n      <td>0.351</td>\n      <td>31</td>\n      <td>0</td>\n    </tr>\n    <tr>\n      <th>2</th>\n      <td>8</td>\n      <td>183</td>\n      <td>64</td>\n      <td>0</td>\n      <td>0</td>\n      <td>23.3</td>\n      <td>0.672</td>\n      <td>32</td>\n      <td>1</td>\n    </tr>\n    <tr>\n      <th>3</th>\n      <td>1</td>\n      <td>89</td>\n      <td>66</td>\n      <td>23</td>\n      <td>94</td>\n      <td>28.1</td>\n      <td>0.167</td>\n      <td>21</td>\n      <td>0</td>\n    </tr>\n    <tr>\n      <th>4</th>\n      <td>0</td>\n      <td>137</td>\n      <td>40</td>\n      <td>35</td>\n      <td>168</td>\n      <td>43.1</td>\n      <td>2.288</td>\n      <td>33</td>\n      <td>1</td>\n    </tr>\n  </tbody>\n</table>\n</div>"
     },
     "execution_count": 175,
     "metadata": {},
     "output_type": "execute_result"
    }
   ],
   "source": [
    "data.head()"
   ]
  },
  {
   "cell_type": "code",
   "execution_count": 176,
   "metadata": {
    "colab": {
     "base_uri": "https://localhost:8080/"
    },
    "id": "doQxvt7WuPov",
    "outputId": "0a374af1-6ed5-4e52-aa01-b2e78b523dbb",
    "ExecuteTime": {
     "end_time": "2023-06-18T06:51:55.697885Z",
     "start_time": "2023-06-18T06:51:53.930465Z"
    }
   },
   "outputs": [
    {
     "data": {
      "text/plain": "(768, 9)"
     },
     "execution_count": 176,
     "metadata": {},
     "output_type": "execute_result"
    }
   ],
   "source": [
    "data.shape"
   ]
  },
  {
   "cell_type": "code",
   "execution_count": 177,
   "metadata": {
    "colab": {
     "base_uri": "https://localhost:8080/",
     "height": 297
    },
    "id": "lZX57_TPuPow",
    "outputId": "6e520441-e19d-4dd5-d3c1-47d57de3d2bc",
    "ExecuteTime": {
     "end_time": "2023-06-18T06:51:55.697986Z",
     "start_time": "2023-06-18T06:51:53.936460Z"
    }
   },
   "outputs": [
    {
     "data": {
      "text/plain": "       Pregnancies     Glucose  BloodPressure  SkinThickness     Insulin  \\\ncount   768.000000  768.000000     768.000000     768.000000  768.000000   \nmean      3.845052  120.894531      69.105469      20.536458   79.799479   \nstd       3.369578   31.972618      19.355807      15.952218  115.244002   \nmin       0.000000    0.000000       0.000000       0.000000    0.000000   \n25%       1.000000   99.000000      62.000000       0.000000    0.000000   \n50%       3.000000  117.000000      72.000000      23.000000   30.500000   \n75%       6.000000  140.250000      80.000000      32.000000  127.250000   \nmax      17.000000  199.000000     122.000000      99.000000  846.000000   \n\n              BMI  DiabetesPedigreeFunction         Age     Outcome  \ncount  768.000000                768.000000  768.000000  768.000000  \nmean    31.992578                  0.471876   33.240885    0.348958  \nstd      7.884160                  0.331329   11.760232    0.476951  \nmin      0.000000                  0.078000   21.000000    0.000000  \n25%     27.300000                  0.243750   24.000000    0.000000  \n50%     32.000000                  0.372500   29.000000    0.000000  \n75%     36.600000                  0.626250   41.000000    1.000000  \nmax     67.100000                  2.420000   81.000000    1.000000  ",
      "text/html": "<div>\n<style scoped>\n    .dataframe tbody tr th:only-of-type {\n        vertical-align: middle;\n    }\n\n    .dataframe tbody tr th {\n        vertical-align: top;\n    }\n\n    .dataframe thead th {\n        text-align: right;\n    }\n</style>\n<table border=\"1\" class=\"dataframe\">\n  <thead>\n    <tr style=\"text-align: right;\">\n      <th></th>\n      <th>Pregnancies</th>\n      <th>Glucose</th>\n      <th>BloodPressure</th>\n      <th>SkinThickness</th>\n      <th>Insulin</th>\n      <th>BMI</th>\n      <th>DiabetesPedigreeFunction</th>\n      <th>Age</th>\n      <th>Outcome</th>\n    </tr>\n  </thead>\n  <tbody>\n    <tr>\n      <th>count</th>\n      <td>768.000000</td>\n      <td>768.000000</td>\n      <td>768.000000</td>\n      <td>768.000000</td>\n      <td>768.000000</td>\n      <td>768.000000</td>\n      <td>768.000000</td>\n      <td>768.000000</td>\n      <td>768.000000</td>\n    </tr>\n    <tr>\n      <th>mean</th>\n      <td>3.845052</td>\n      <td>120.894531</td>\n      <td>69.105469</td>\n      <td>20.536458</td>\n      <td>79.799479</td>\n      <td>31.992578</td>\n      <td>0.471876</td>\n      <td>33.240885</td>\n      <td>0.348958</td>\n    </tr>\n    <tr>\n      <th>std</th>\n      <td>3.369578</td>\n      <td>31.972618</td>\n      <td>19.355807</td>\n      <td>15.952218</td>\n      <td>115.244002</td>\n      <td>7.884160</td>\n      <td>0.331329</td>\n      <td>11.760232</td>\n      <td>0.476951</td>\n    </tr>\n    <tr>\n      <th>min</th>\n      <td>0.000000</td>\n      <td>0.000000</td>\n      <td>0.000000</td>\n      <td>0.000000</td>\n      <td>0.000000</td>\n      <td>0.000000</td>\n      <td>0.078000</td>\n      <td>21.000000</td>\n      <td>0.000000</td>\n    </tr>\n    <tr>\n      <th>25%</th>\n      <td>1.000000</td>\n      <td>99.000000</td>\n      <td>62.000000</td>\n      <td>0.000000</td>\n      <td>0.000000</td>\n      <td>27.300000</td>\n      <td>0.243750</td>\n      <td>24.000000</td>\n      <td>0.000000</td>\n    </tr>\n    <tr>\n      <th>50%</th>\n      <td>3.000000</td>\n      <td>117.000000</td>\n      <td>72.000000</td>\n      <td>23.000000</td>\n      <td>30.500000</td>\n      <td>32.000000</td>\n      <td>0.372500</td>\n      <td>29.000000</td>\n      <td>0.000000</td>\n    </tr>\n    <tr>\n      <th>75%</th>\n      <td>6.000000</td>\n      <td>140.250000</td>\n      <td>80.000000</td>\n      <td>32.000000</td>\n      <td>127.250000</td>\n      <td>36.600000</td>\n      <td>0.626250</td>\n      <td>41.000000</td>\n      <td>1.000000</td>\n    </tr>\n    <tr>\n      <th>max</th>\n      <td>17.000000</td>\n      <td>199.000000</td>\n      <td>122.000000</td>\n      <td>99.000000</td>\n      <td>846.000000</td>\n      <td>67.100000</td>\n      <td>2.420000</td>\n      <td>81.000000</td>\n      <td>1.000000</td>\n    </tr>\n  </tbody>\n</table>\n</div>"
     },
     "execution_count": 177,
     "metadata": {},
     "output_type": "execute_result"
    }
   ],
   "source": [
    "data.describe()"
   ]
  },
  {
   "cell_type": "code",
   "execution_count": 178,
   "metadata": {
    "colab": {
     "base_uri": "https://localhost:8080/"
    },
    "id": "IJku9zsQuPox",
    "outputId": "25157144-6325-4db7-d14d-6c9cc9c6efad",
    "ExecuteTime": {
     "end_time": "2023-06-18T06:51:55.698086Z",
     "start_time": "2023-06-18T06:51:53.953684Z"
    }
   },
   "outputs": [
    {
     "data": {
      "text/plain": "Pregnancies                 0\nGlucose                     0\nBloodPressure               0\nSkinThickness               0\nInsulin                     0\nBMI                         0\nDiabetesPedigreeFunction    0\nAge                         0\nOutcome                     0\ndtype: int64"
     },
     "execution_count": 178,
     "metadata": {},
     "output_type": "execute_result"
    }
   ],
   "source": [
    "data.isnull().sum()"
   ]
  },
  {
   "cell_type": "code",
   "execution_count": 179,
   "metadata": {
    "colab": {
     "base_uri": "https://localhost:8080/"
    },
    "id": "g2dkxRpCuPo_",
    "outputId": "918ab53e-4799-4bab-f020-69d15f816b18",
    "ExecuteTime": {
     "end_time": "2023-06-18T06:51:55.698235Z",
     "start_time": "2023-06-18T06:51:53.962655Z"
    }
   },
   "outputs": [
    {
     "data": {
      "text/plain": "Outcome\n0    500\n1    268\nName: count, dtype: int64"
     },
     "execution_count": 179,
     "metadata": {},
     "output_type": "execute_result"
    }
   ],
   "source": [
    "data['Outcome'].value_counts()"
   ]
  },
  {
   "cell_type": "code",
   "execution_count": 180,
   "metadata": {
    "colab": {
     "base_uri": "https://localhost:8080/",
     "height": 296
    },
    "id": "KpjoF-GVuPpB",
    "outputId": "b432d54e-f63c-43d7-fe3c-b6e0abaea195",
    "ExecuteTime": {
     "end_time": "2023-06-18T06:51:55.700570Z",
     "start_time": "2023-06-18T06:51:53.965843Z"
    }
   },
   "outputs": [
    {
     "data": {
      "text/plain": "<Figure size 640x480 with 1 Axes>",
      "image/png": "[encoded data removed]"
     },
     "metadata": {},
     "output_type": "display_data"
    },
    {
     "data": {
      "text/plain": "<Figure size 640x480 with 0 Axes>"
     },
     "metadata": {},
     "output_type": "display_data"
    }
   ],
   "source": [
    "# class distribution \n",
    "data['Outcome'].value_counts()\n",
    "sns.countplot(x='Outcome', data=data, palette='hls')\n",
    "plt.show()\n",
    "plt.savefig('Outcome')"
   ]
  },
  {
   "cell_type": "code",
   "execution_count": 181,
   "metadata": {
    "id": "ZYaM3ZqzuPpB",
    "ExecuteTime": {
     "end_time": "2023-06-18T06:51:55.700687Z",
     "start_time": "2023-06-18T06:51:54.052069Z"
    }
   },
   "outputs": [],
   "source": [
    "X = data.drop('Outcome', axis=1)\n",
    "y = data['Outcome']"
   ]
  },
  {
   "cell_type": "code",
   "execution_count": 182,
   "metadata": {
    "id": "PNFeldSYfYmC",
    "ExecuteTime": {
     "end_time": "2023-06-18T06:51:55.700726Z",
     "start_time": "2023-06-18T06:51:54.054859Z"
    }
   },
   "outputs": [],
   "source": [
    "sc_X = StandardScaler()\n",
    "X = sc_X.fit_transform(X)"
   ]
  },
  {
   "cell_type": "code",
   "execution_count": 183,
   "metadata": {
    "colab": {
     "base_uri": "https://localhost:8080/"
    },
    "id": "rn49vkE1uPpC",
    "outputId": "8007efd5-5023-474d-e44c-5442ac60dffc",
    "ExecuteTime": {
     "end_time": "2023-06-18T06:51:55.700857Z",
     "start_time": "2023-06-18T06:51:54.059762Z"
    }
   },
   "outputs": [
    {
     "data": {
      "text/plain": "0    1\n1    0\n2    1\n3    0\n4    1\nName: Outcome, dtype: int64"
     },
     "execution_count": 183,
     "metadata": {},
     "output_type": "execute_result"
    }
   ],
   "source": [
    "y.head()"
   ]
  },
  {
   "cell_type": "code",
   "execution_count": 184,
   "metadata": {
    "id": "bd5FqD9huPpD",
    "ExecuteTime": {
     "end_time": "2023-06-18T06:51:55.700900Z",
     "start_time": "2023-06-18T06:51:54.065846Z"
    }
   },
   "outputs": [],
   "source": [
    "from sklearn.model_selection import train_test_split\n",
    "X_train, X_test, y_train, y_test = train_test_split(X, y, test_size = 0.20, random_state=0)"
   ]
  },
  {
   "cell_type": "code",
   "execution_count": 185,
   "metadata": {
    "colab": {
     "base_uri": "https://localhost:8080/"
    },
    "id": "ZBA4r_7MuPpD",
    "outputId": "fdf228f8-0fc1-47c7-b0b2-43383e61f104",
    "ExecuteTime": {
     "end_time": "2023-06-18T06:51:55.701045Z",
     "start_time": "2023-06-18T06:51:54.072642Z"
    }
   },
   "outputs": [
    {
     "data": {
      "text/plain": "array([[-0.84488505,  2.44447821,  0.35643175,  1.40909441, -0.69289057,\n         1.38436175,  2.784923  , -0.95646168],\n       [-0.54791859, -0.43485916,  0.25303625,  0.59362962,  0.17539902,\n         0.20401277, -0.20499449, -0.87137393],\n       [ 0.04601433, -1.40507067, -0.36733675, -1.28821221, -0.69289057,\n         0.25478047, -0.24425603, -0.70119842],\n       [ 0.3429808 ,  1.41167241,  0.14964075, -0.09637905,  0.82661621,\n        -0.78595734,  0.34768723,  1.51108316],\n       [-1.14185152, -0.30967058, -0.2122435 , -1.28821221, -0.69289057,\n        -0.93826044,  0.56815589, -0.19067191]])"
     },
     "execution_count": 185,
     "metadata": {},
     "output_type": "execute_result"
    }
   ],
   "source": [
    "X_test[0:5]"
   ]
  },
  {
   "cell_type": "code",
   "execution_count": 186,
   "metadata": {
    "colab": {
     "base_uri": "https://localhost:8080/"
    },
    "id": "kJMYg2J6uPpE",
    "outputId": "68ae7918-d625-461b-e58b-0ad8fea311cb",
    "ExecuteTime": {
     "end_time": "2023-06-18T06:51:55.701174Z",
     "start_time": "2023-06-18T06:51:54.076189Z"
    }
   },
   "outputs": [
    {
     "data": {
      "text/plain": "661    1\n122    0\n113    0\n14     1\n529    0\nName: Outcome, dtype: int64"
     },
     "execution_count": 186,
     "metadata": {},
     "output_type": "execute_result"
    }
   ],
   "source": [
    "y_test.head()"
   ]
  },
  {
   "cell_type": "markdown",
   "metadata": {
    "id": "09Nl_mKfxCt2"
   },
   "source": [
    "**SVC - Basic**"
   ]
  },
  {
   "cell_type": "code",
   "execution_count": 187,
   "metadata": {
    "colab": {
     "base_uri": "https://localhost:8080/"
    },
    "id": "KlTDqtcZwtha",
    "outputId": "4712443b-1d98-41b5-9664-1b65293a8422",
    "ExecuteTime": {
     "end_time": "2023-06-18T06:51:55.701415Z",
     "start_time": "2023-06-18T06:51:54.081804Z"
    }
   },
   "outputs": [
    {
     "name": "stdout",
     "output_type": "stream",
     "text": [
      "[[-1.14185152  1.38037527  1.08020025 ...  2.57740266 -0.13553176\n",
      "  -0.87137393]\n",
      " [ 1.82781311  1.8185353   0.04624525 ...  0.39439164 -0.8210987\n",
      "   0.31985461]\n",
      " [ 2.7187125  -1.40507067 -0.47073225 ...  0.10247738 -0.88150107\n",
      "   0.66020563]\n",
      " ...\n",
      " [ 1.23388019  1.03610667  0.45982725 ...  0.05170968 -0.08720986\n",
      "   1.00055664]\n",
      " [ 1.23388019  0.12848945  1.39038675 ... -4.06047387 -0.7244549\n",
      "   1.76634642]\n",
      " [ 0.93691372  1.19259239 -0.16054575 ... -0.20212881 -0.26841698\n",
      "   0.23476686]]\n",
      "[189 180]\n",
      "SVM - Accuracy: 79.221.\n",
      "\n",
      "Classification Report\n",
      "              precision    recall  f1-score   support\n",
      "\n",
      "           0       0.82      0.90      0.86       107\n",
      "           1       0.70      0.55      0.62        47\n",
      "\n",
      "    accuracy                           0.79       154\n",
      "   macro avg       0.76      0.73      0.74       154\n",
      "weighted avg       0.78      0.79      0.78       154\n",
      "\n"
     ]
    }
   ],
   "source": [
    "from sklearn.metrics import classification_report, confusion_matrix, accuracy_score\n",
    "svc= SVC()\n",
    "svc.fit(X_train, y_train)\n",
    "print(svc.support_vectors_)\n",
    "print(svc.n_support_)\n",
    "y_p = svc.predict(X_test)\n",
    "acc=accuracy_score(y_test, y_p)*100\n",
    "print(\"SVM - Accuracy: {:.3f}.\".format(acc))\n",
    "print(\"\\nClassification Report\")\n",
    "print(classification_report(y_test, y_p))"
   ]
  },
  {
   "cell_type": "markdown",
   "metadata": {
    "id": "7uVahMvh266a"
   },
   "source": [
    "**Grid Search CV without class balancing**"
   ]
  },
  {
   "cell_type": "markdown",
   "metadata": {
    "id": "3TuuJzRT3A6m"
   },
   "source": [
    "Grid Search sets up a grid of hyperparameter values and for each combination, trains a model and scores on the testing data. "
   ]
  },
  {
   "cell_type": "code",
   "execution_count": 188,
   "metadata": {
    "colab": {
     "base_uri": "https://localhost:8080/"
    },
    "id": "lfA9kBjK3CFU",
    "outputId": "a5bc4024-012f-44fd-f0d0-3ede6469f75a",
    "ExecuteTime": {
     "end_time": "2023-06-18T06:51:55.749571Z",
     "start_time": "2023-06-18T06:51:54.230952Z"
    }
   },
   "outputs": [
    {
     "name": "stdout",
     "output_type": "stream",
     "text": [
      "{'C': 1, 'class_weight': 'balanced', 'gamma': 'scale', 'kernel': 'linear'}\n",
      "0.7492469678795148\n",
      "\n",
      "SVM - Accuracy: 77.922.\n",
      "SVM - Precision: 0.779.\n",
      "SVM - Recall: 0.779.\n",
      "SVM - F1_Score: 0.779.\n",
      "\n",
      "Classification Report\n",
      "              precision    recall  f1-score   support\n",
      "\n",
      "           0       0.88      0.79      0.83       107\n",
      "           1       0.61      0.74      0.67        47\n",
      "\n",
      "    accuracy                           0.78       154\n",
      "   macro avg       0.75      0.77      0.75       154\n",
      "weighted avg       0.80      0.78      0.78       154\n",
      "\n"
     ]
    }
   ],
   "source": [
    "from sklearn.model_selection import GridSearchCV\n",
    "from sklearn.metrics import classification_report, confusion_matrix, accuracy_score, precision_score, recall_score, f1_score\n",
    "from numpy import arange\n",
    "grid_svc= SVC()\n",
    "\n",
    "parameters = dict()\n",
    "parameters['kernel'] = ['rbf', 'poly', 'linear', 'sigmoid']\n",
    "parameters['C'] = arange(1, 10, 1)\n",
    "parameters['gamma'] = ['scale', 'auto']\n",
    "parameters['class_weight'] = ['dict', 'balanced']\n",
    "\n",
    "## Building Grid Search algorithm with cross-validation and acc score.\n",
    "\n",
    "grid_search_svc = GridSearchCV(grid_svc, parameters, scoring='accuracy', cv=5, n_jobs=-1)\n",
    "\n",
    "grid_search_svc.fit(X_train,y_train)\n",
    "best_parameters_svc = grid_search_svc.best_params_  \n",
    "best_score_svc = grid_search_svc.best_score_ \n",
    "print(best_parameters_svc)\n",
    "print(best_score_svc)\n",
    "\n",
    "y_pred = grid_search_svc.predict(X_test)\n",
    "\n",
    "# Get the accuracy score\n",
    "svc_acc=accuracy_score(y_test, y_pred)*100\n",
    "svc_pre=precision_score(y_test, y_pred, average='micro')\n",
    "svc_recall=recall_score(y_test, y_pred, average='micro')\n",
    "svc_f1_=f1_score(y_test, y_pred, average='micro')\n",
    "\n",
    "print(\"\\nSVM - Accuracy: {:.3f}.\".format(svc_acc))\n",
    "print(\"SVM - Precision: {:.3f}.\".format(svc_pre))\n",
    "print(\"SVM - Recall: {:.3f}.\".format(svc_recall))\n",
    "print(\"SVM - F1_Score: {:.3f}.\".format(svc_f1_))\n",
    "print(\"\\nClassification Report\")\n",
    "print(classification_report(y_test, y_pred))"
   ]
  },
  {
   "cell_type": "code",
   "execution_count": 189,
   "outputs": [
    {
     "name": "stdout",
     "output_type": "stream",
     "text": [
      "SVM - Accuracy: 76.623.\n",
      "\n",
      "Classification Report\n",
      "              precision    recall  f1-score   support\n",
      "\n",
      "           0       0.88      0.77      0.82       107\n",
      "           1       0.59      0.77      0.67        47\n",
      "\n",
      "    accuracy                           0.77       154\n",
      "   macro avg       0.74      0.77      0.74       154\n",
      "weighted avg       0.79      0.77      0.77       154\n",
      "\n"
     ]
    }
   ],
   "source": [
    "# Using the best params\n",
    "from sklearn.metrics import classification_report, confusion_matrix, accuracy_score\n",
    "\n",
    "svc= SVC(kernel = 'rbf', gamma = 'scale', class_weight = 'balanced', C = 5)\n",
    "\n",
    "svc.fit(X_train, y_train)\n",
    "\n",
    "y_p = svc.predict(X_test)\n",
    "\n",
    "acc=accuracy_score(y_test, y_p)*100\n",
    "\n",
    "print(\"SVM - Accuracy: {:.3f}.\".format(acc))\n",
    "\n",
    "print(\"\\nClassification Report\")\n",
    "\n",
    "print(classification_report(y_test, y_p))"
   ],
   "metadata": {
    "collapsed": false,
    "ExecuteTime": {
     "end_time": "2023-06-18T06:51:55.750626Z",
     "start_time": "2023-06-18T06:51:55.404524Z"
    }
   }
  },
  {
   "cell_type": "markdown",
   "metadata": {
    "id": "s4unqUkxuPpE"
   },
   "source": [
    "**Random Search CV without class balancing**"
   ]
  },
  {
   "cell_type": "markdown",
   "metadata": {
    "id": "dUduGKHVy3B4"
   },
   "source": [
    "Random Search sets up a grid of hyperparameter values and selects random combinations to train the model and score. "
   ]
  },
  {
   "cell_type": "code",
   "execution_count": 190,
   "metadata": {
    "colab": {
     "base_uri": "https://localhost:8080/"
    },
    "id": "gF_FqxB6uPpF",
    "outputId": "42ec7261-8b28-47f1-ba00-18a86eed1466",
    "ExecuteTime": {
     "end_time": "2023-06-18T06:51:55.753046Z",
     "start_time": "2023-06-18T06:51:55.429486Z"
    }
   },
   "outputs": [
    {
     "name": "stdout",
     "output_type": "stream",
     "text": [
      "{'kernel': 'linear', 'gamma': 'scale', 'class_weight': 'balanced', 'C': 1}\n",
      "0.7492469678795148\n",
      "\n",
      "SVM - Accuracy: 77.922.\n",
      "SVM - Precision: 0.779.\n",
      "SVM - Recall: 0.779.\n",
      "SVM - F1_Score: 0.779.\n",
      "\n",
      "Classification Report\n",
      "              precision    recall  f1-score   support\n",
      "\n",
      "           0       0.88      0.79      0.83       107\n",
      "           1       0.61      0.74      0.67        47\n",
      "\n",
      "    accuracy                           0.78       154\n",
      "   macro avg       0.75      0.77      0.75       154\n",
      "weighted avg       0.80      0.78      0.78       154\n",
      "\n"
     ]
    }
   ],
   "source": [
    "from sklearn.model_selection import RandomizedSearchCV\n",
    "from sklearn.metrics import classification_report, confusion_matrix, accuracy_score, precision_score, recall_score, f1_score\n",
    "from numpy import arange\n",
    "rand_svc= SVC()\n",
    "\n",
    "parameters = dict()\n",
    "parameters['kernel'] = ['rbf', 'poly', 'linear', 'sigmoid']\n",
    "parameters['C'] = arange(1, 10, 1)\n",
    "parameters['gamma'] = ['scale', 'auto']\n",
    "parameters['class_weight'] = ['dict', 'balanced']\n",
    "\n",
    "## Building Grid Search algorithm with cross-validation and acc score.\n",
    "\n",
    "rand_search_svc = RandomizedSearchCV(rand_svc, parameters, scoring='accuracy', cv=5, n_jobs=-1)\n",
    "\n",
    "rand_search_svc.fit(X_train,y_train)\n",
    "best_parameters_svc = rand_search_svc.best_params_  \n",
    "best_score_svc = rand_search_svc.best_score_ \n",
    "print(best_parameters_svc)\n",
    "print(best_score_svc)\n",
    "\n",
    "y_pred = rand_search_svc.predict(X_test)\n",
    "\n",
    "# Get the accuracy score\n",
    "svc_acc=accuracy_score(y_test, y_pred)*100\n",
    "svc_pre=precision_score(y_test, y_pred, average='micro')\n",
    "svc_recall=recall_score(y_test, y_pred, average='micro')\n",
    "svc_f1_=f1_score(y_test, y_pred, average='micro')\n",
    "\n",
    "print(\"\\nSVM - Accuracy: {:.3f}.\".format(svc_acc))\n",
    "print(\"SVM - Precision: {:.3f}.\".format(svc_pre))\n",
    "print(\"SVM - Recall: {:.3f}.\".format(svc_recall))\n",
    "print(\"SVM - F1_Score: {:.3f}.\".format(svc_f1_))\n",
    "print(\"\\nClassification Report\")\n",
    "print(classification_report(y_test, y_pred))"
   ]
  },
  {
   "cell_type": "code",
   "execution_count": 191,
   "outputs": [
    {
     "name": "stdout",
     "output_type": "stream",
     "text": [
      "SVM - Accuracy: 81.169.\n",
      "\n",
      "Classification Report\n",
      "              precision    recall  f1-score   support\n",
      "\n",
      "           0       0.84      0.90      0.87       107\n",
      "           1       0.72      0.62      0.67        47\n",
      "\n",
      "    accuracy                           0.81       154\n",
      "   macro avg       0.78      0.76      0.77       154\n",
      "weighted avg       0.81      0.81      0.81       154\n",
      "\n"
     ]
    }
   ],
   "source": [
    "# Using the best params\n",
    "from sklearn.metrics import classification_report, confusion_matrix, accuracy_score\n",
    "\n",
    "svc= SVC(kernel = 'poly', gamma = 'auto', class_weight = 'balanced', C = 1)\n",
    "\n",
    "svc.fit(X_train, y_train)\n",
    "\n",
    "y_p = svc.predict(X_test)\n",
    "\n",
    "acc=accuracy_score(y_test, y_p)*100\n",
    "\n",
    "print(\"SVM - Accuracy: {:.3f}.\".format(acc))\n",
    "\n",
    "print(\"\\nClassification Report\")\n",
    "\n",
    "print(classification_report(y_test, y_p))"
   ],
   "metadata": {
    "collapsed": false,
    "ExecuteTime": {
     "end_time": "2023-06-18T06:51:55.754331Z",
     "start_time": "2023-06-18T06:51:55.568908Z"
    }
   }
  },
  {
   "cell_type": "markdown",
   "metadata": {
    "id": "FVJofZZAuPpG"
   },
   "source": [
    "**Class balancing**"
   ]
  },
  {
   "cell_type": "code",
   "execution_count": 192,
   "metadata": {
    "colab": {
     "base_uri": "https://localhost:8080/",
     "height": 337
    },
    "id": "sBbYtz3ruPpH",
    "outputId": "2f059fff-1e04-407f-d8e3-45cc3724d256",
    "ExecuteTime": {
     "end_time": "2023-06-18T06:51:56.220118Z",
     "start_time": "2023-06-18T06:51:55.590821Z"
    }
   },
   "outputs": [
    {
     "name": "stdout",
     "output_type": "stream",
     "text": [
      "Counter({1: 500, 0: 500})\n"
     ]
    },
    {
     "data": {
      "text/plain": "<Figure size 500x500 with 1 Axes>",
      "image/png": "[encoded data removed]"
     },
     "metadata": {},
     "output_type": "display_data"
    }
   ],
   "source": [
    "from collections import Counter\n",
    "from imblearn.over_sampling import SMOTE\n",
    "X_b, y_b = SMOTE().fit_resample(X, y)\n",
    "\n",
    "plt.subplots(figsize=(5,5))\n",
    "sns.countplot(x=y_b)\n",
    "print(Counter(y_b))"
   ]
  },
  {
   "cell_type": "code",
   "execution_count": 193,
   "metadata": {
    "id": "XYK6bzz3uPpH",
    "ExecuteTime": {
     "end_time": "2023-06-18T06:51:56.222942Z",
     "start_time": "2023-06-18T06:51:55.723145Z"
    }
   },
   "outputs": [],
   "source": [
    "# Split the dataset into a test and training set\n",
    "X_tr, X_te, y_tr, y_te = train_test_split(X_b, y_b, test_size=0.2, random_state=0)"
   ]
  },
  {
   "cell_type": "markdown",
   "metadata": {
    "id": "wS6GAYOwTvaJ"
   },
   "source": [
    "**Grid Search CV with class balancing**"
   ]
  },
  {
   "cell_type": "code",
   "execution_count": 194,
   "metadata": {
    "colab": {
     "base_uri": "https://localhost:8080/"
    },
    "id": "JqIU7ioITe-6",
    "outputId": "10bf9f50-e17b-4c18-bd1d-af85c69b43fe",
    "ExecuteTime": {
     "end_time": "2023-06-18T06:51:57.724558Z",
     "start_time": "2023-06-18T06:51:55.740398Z"
    }
   },
   "outputs": [
    {
     "name": "stdout",
     "output_type": "stream",
     "text": [
      "\n",
      "{'C': 9, 'class_weight': 'balanced', 'gamma': 'scale', 'kernel': 'rbf'}\n",
      "0.7662500000000001\n",
      "\n",
      "SVM - Accuracy: 85.000.\n",
      "SVM - Precision: 0.850.\n",
      "SVM - Recall: 0.850.\n",
      "SVM - F1 Score: 0.850.\n",
      "\n",
      " Clasification Report:\n",
      "               precision    recall  f1-score   support\n",
      "\n",
      "           0       0.86      0.85      0.86       105\n",
      "           1       0.84      0.85      0.84        95\n",
      "\n",
      "    accuracy                           0.85       200\n",
      "   macro avg       0.85      0.85      0.85       200\n",
      "weighted avg       0.85      0.85      0.85       200\n",
      "\n"
     ]
    }
   ],
   "source": [
    "from sklearn.model_selection import GridSearchCV\n",
    "from numpy import arange\n",
    "model_svc= SVC()\n",
    "\n",
    "\n",
    "parameters = dict()\n",
    "parameters['kernel'] = ['rbf', 'poly', 'linear', 'sigmoid']\n",
    "parameters['C'] = arange(1, 10, 1)\n",
    "parameters['gamma'] = ['scale', 'auto']\n",
    "parameters['class_weight'] = ['dict', 'balanced']\n",
    "\n",
    "## Building Grid Search algorithm with cross-validation and acc score.\n",
    "\n",
    "grid_search_svc_2 = GridSearchCV(model_svc, parameters, scoring='accuracy', cv=5, n_jobs=-1)\n",
    "\n",
    "## Lastly, finding the best parameters.\n",
    "grid_search_svc_2.fit(X_tr, y_tr)\n",
    "best_parameters_SVC_2 = grid_search_svc_2.best_params_  \n",
    "best_score_SVC_2 = grid_search_svc_2.best_score_ \n",
    "print()\n",
    "print(best_parameters_SVC_2)\n",
    "print(best_score_SVC_2)\n",
    "\n",
    "y_pred_2 = grid_search_svc_2.predict(X_te)\n",
    "\n",
    "# Get the accuracy score\n",
    "svc_acc_2 = accuracy_score(y_te, y_pred_2)*100\n",
    "svc_pre_2 = precision_score(y_te, y_pred_2, average='micro')\n",
    "svc_recall_2 = recall_score(y_te, y_pred_2, average='micro')\n",
    "svc_f1_2 = f1_score(y_te, y_pred_2, average='micro')\n",
    "\n",
    "print(\"\\nSVM - Accuracy: {:.3f}.\".format(svc_acc_2))\n",
    "print(\"SVM - Precision: {:.3f}.\".format(svc_pre_2))\n",
    "print(\"SVM - Recall: {:.3f}.\".format(svc_recall_2))\n",
    "print(\"SVM - F1 Score: {:.3f}.\".format(svc_f1_2))\n",
    "print ('\\n Clasification Report:\\n', classification_report(y_te,y_pred_2))"
   ]
  },
  {
   "cell_type": "code",
   "execution_count": 195,
   "outputs": [
    {
     "name": "stdout",
     "output_type": "stream",
     "text": [
      "SVM - Accuracy: 85.500.\n",
      "\n",
      "Classification Report\n",
      "              precision    recall  f1-score   support\n",
      "\n",
      "           0       0.87      0.85      0.86       105\n",
      "           1       0.84      0.86      0.85        95\n",
      "\n",
      "    accuracy                           0.85       200\n",
      "   macro avg       0.85      0.86      0.85       200\n",
      "weighted avg       0.86      0.85      0.86       200\n",
      "\n"
     ]
    }
   ],
   "source": [
    "# Using the best params\n",
    "from sklearn.metrics import classification_report, confusion_matrix, accuracy_score\n",
    "\n",
    "svc= SVC(kernel = 'rbf', gamma = 'scale', class_weight = 'balanced', C = 7)\n",
    "\n",
    "svc.fit(X_tr, y_tr)\n",
    "\n",
    "y_pred_2 = svc.predict(X_te)\n",
    "\n",
    "svc_acc_2 = accuracy_score(y_te, y_pred_2)*100\n",
    "\n",
    "print(\"SVM - Accuracy: {:.3f}.\".format(svc_acc_2))\n",
    "\n",
    "print(\"\\nClassification Report\")\n",
    "\n",
    "print(classification_report(y_te, y_pred_2))"
   ],
   "metadata": {
    "collapsed": false,
    "ExecuteTime": {
     "end_time": "2023-06-18T06:51:57.789032Z",
     "start_time": "2023-06-18T06:51:57.728378Z"
    }
   }
  },
  {
   "cell_type": "markdown",
   "metadata": {
    "id": "MBbZIpFoTyG8"
   },
   "source": [
    "**Random Search CV with class balancing**"
   ]
  },
  {
   "cell_type": "code",
   "execution_count": 196,
   "metadata": {
    "colab": {
     "base_uri": "https://localhost:8080/"
    },
    "id": "aeXnyk6duPpI",
    "outputId": "5058d61b-b578-4b8c-fb4a-797e21be3c19",
    "ExecuteTime": {
     "end_time": "2023-06-18T06:51:57.965926Z",
     "start_time": "2023-06-18T06:51:57.755217Z"
    }
   },
   "outputs": [
    {
     "name": "stdout",
     "output_type": "stream",
     "text": [
      "\n",
      "{'kernel': 'rbf', 'gamma': 'auto', 'class_weight': 'balanced', 'C': 7}\n",
      "0.75875\n",
      "\n",
      "SVM - Accuracy: 85.500.\n",
      "SVM - Precision: 0.855.\n",
      "SVM - Recall: 0.855.\n",
      "SVM - F1 Score: 0.855.\n",
      "\n",
      " Clasification Report:\n",
      "               precision    recall  f1-score   support\n",
      "\n",
      "           0       0.87      0.85      0.86       105\n",
      "           1       0.84      0.86      0.85        95\n",
      "\n",
      "    accuracy                           0.85       200\n",
      "   macro avg       0.85      0.86      0.85       200\n",
      "weighted avg       0.86      0.85      0.86       200\n",
      "\n"
     ]
    }
   ],
   "source": [
    "from sklearn.model_selection import RandomizedSearchCV\n",
    "from numpy import arange\n",
    "model_svc= SVC()\n",
    "\n",
    "parameters = dict()\n",
    "parameters['kernel'] = ['rbf', 'poly', 'linear', 'sigmoid']\n",
    "parameters['C'] = arange(1, 10, 1)\n",
    "parameters['gamma'] = ['scale', 'auto']\n",
    "parameters['class_weight'] = ['dict', 'balanced']\n",
    "\n",
    "## Building Random Search algorithm with cross-validation and acc score.\n",
    "\n",
    "rand_search_svc_2 = RandomizedSearchCV(model_svc, parameters, scoring='accuracy', cv=5, n_jobs=-1)\n",
    "\n",
    "## Lastly, finding the best parameters.\n",
    "rand_search_svc_2.fit(X_tr, y_tr)\n",
    "best_parameters_SVC_2 = rand_search_svc_2.best_params_  \n",
    "best_score_SVC_2 = rand_search_svc_2.best_score_ \n",
    "print()\n",
    "print(best_parameters_SVC_2)\n",
    "print(best_score_SVC_2)\n",
    "\n",
    "y_pred_2 = rand_search_svc_2.predict(X_te)\n",
    "\n",
    "# Get the accuracy score\n",
    "lr_acc_2 = accuracy_score(y_te, y_pred_2)*100\n",
    "lr_pre_2 = precision_score(y_te, y_pred_2, average='micro')\n",
    "lr_recall_2 = recall_score(y_te, y_pred_2, average='micro')\n",
    "lr_f1_2 = f1_score(y_te, y_pred_2, average='micro')\n",
    "\n",
    "print(\"\\nSVM - Accuracy: {:.3f}.\".format(lr_acc_2))\n",
    "print(\"SVM - Precision: {:.3f}.\".format(lr_pre_2))\n",
    "print(\"SVM - Recall: {:.3f}.\".format(lr_recall_2))\n",
    "print(\"SVM - F1 Score: {:.3f}.\".format(lr_f1_2))\n",
    "print ('\\n Clasification Report:\\n', classification_report(y_te,y_pred_2))"
   ]
  },
  {
   "cell_type": "code",
   "execution_count": 197,
   "outputs": [
    {
     "name": "stdout",
     "output_type": "stream",
     "text": [
      "SVM - Accuracy: 85.500.\n",
      "\n",
      "Classification Report\n",
      "              precision    recall  f1-score   support\n",
      "\n",
      "           0       0.87      0.85      0.86       105\n",
      "           1       0.84      0.86      0.85        95\n",
      "\n",
      "    accuracy                           0.85       200\n",
      "   macro avg       0.85      0.86      0.85       200\n",
      "weighted avg       0.86      0.85      0.86       200\n",
      "\n"
     ]
    }
   ],
   "source": [
    "# Using the best params\n",
    "from sklearn.metrics import classification_report, confusion_matrix, accuracy_score\n",
    "\n",
    "svc= SVC(kernel = 'rbf', gamma = 'scale', class_weight = 'balanced', C = 7)\n",
    "\n",
    "svc.fit(X_tr, y_tr)\n",
    "\n",
    "y_pred_2 = svc.predict(X_te)\n",
    "\n",
    "svc_acc_2 = accuracy_score(y_te, y_pred_2)*100\n",
    "\n",
    "print(\"SVM - Accuracy: {:.3f}.\".format(svc_acc_2))\n",
    "\n",
    "print(\"\\nClassification Report\")\n",
    "\n",
    "print(classification_report(y_te, y_pred_2))"
   ],
   "metadata": {
    "collapsed": false,
    "ExecuteTime": {
     "end_time": "2023-06-18T06:51:58.018358Z",
     "start_time": "2023-06-18T06:51:57.959797Z"
    }
   }
  }
 ],
 "metadata": {
  "colab": {
   "collapsed_sections": [],
   "name": "OCDS - Lab 08.2 - SVM - Binary.ipynb",
   "provenance": []
  },
  "kernelspec": {
   "display_name": "Python 3",
   "language": "python",
   "name": "python3"
  },
  "language_info": {
   "codemirror_mode": {
    "name": "ipython",
    "version": 3
   },
   "file_extension": ".py",
   "mimetype": "text/x-python",
   "name": "python",
   "nbconvert_exporter": "python",
   "pygments_lexer": "ipython3",
   "version": "3.8.5"
  }
 },
 "nbformat": 4,
 "nbformat_minor": 1
}
