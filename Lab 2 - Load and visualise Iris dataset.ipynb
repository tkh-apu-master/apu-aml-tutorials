{
 "cells": [
  {
   "cell_type": "markdown",
   "metadata": {},
   "source": [
    "# Lab2 Data Exploration - Iris Data "
   ]
  },
  {
   "cell_type": "code",
   "execution_count": 5,
   "metadata": {
    "ExecuteTime": {
     "start_time": "2023-06-18T18:09:56.340823Z",
     "end_time": "2023-06-18T18:09:56.865421Z"
    }
   },
   "outputs": [],
   "source": [
    "# Visualise Iris dataset"
   ]
  },
  {
   "cell_type": "raw",
   "metadata": {},
   "source": []
  },
  {
   "cell_type": "code",
   "execution_count": 6,
   "metadata": {
    "ExecuteTime": {
     "end_time": "2023-06-16T16:34:40.207844Z",
     "start_time": "2023-06-16T16:34:40.194834Z"
    }
   },
   "outputs": [
    {
     "ename": "AttributeError",
     "evalue": "module 'seaborn' has no attribute 'set'",
     "output_type": "error",
     "traceback": [
      "\u001B[0;31m---------------------------------------------------------------------------\u001B[0m",
      "\u001B[0;31mAttributeError\u001B[0m                            Traceback (most recent call last)",
      "Cell \u001B[0;32mIn[6], line 9\u001B[0m\n\u001B[1;32m      7\u001B[0m \u001B[38;5;28;01mimport\u001B[39;00m \u001B[38;5;21;01mseaborn\u001B[39;00m \u001B[38;5;28;01mas\u001B[39;00m \u001B[38;5;21;01msns\u001B[39;00m\n\u001B[1;32m      8\u001B[0m \u001B[38;5;28;01mimport\u001B[39;00m \u001B[38;5;21;01mmatplotlib\u001B[39;00m\u001B[38;5;21;01m.\u001B[39;00m\u001B[38;5;21;01mpyplot\u001B[39;00m \u001B[38;5;28;01mas\u001B[39;00m \u001B[38;5;21;01mplt\u001B[39;00m\n\u001B[0;32m----> 9\u001B[0m \u001B[43msns\u001B[49m\u001B[38;5;241;43m.\u001B[39;49m\u001B[43mset\u001B[49m(style\u001B[38;5;241m=\u001B[39m\u001B[38;5;124m\"\u001B[39m\u001B[38;5;124mwhite\u001B[39m\u001B[38;5;124m\"\u001B[39m, color_codes\u001B[38;5;241m=\u001B[39m\u001B[38;5;28;01mTrue\u001B[39;00m)\n\u001B[1;32m     11\u001B[0m \u001B[38;5;66;03m# Next, we'll load the Iris flower dataset, which is in the \"../input/\" directory\u001B[39;00m\n\u001B[1;32m     12\u001B[0m iris \u001B[38;5;241m=\u001B[39m pd\u001B[38;5;241m.\u001B[39mread_csv(\u001B[38;5;124m\"\u001B[39m\u001B[38;5;124mIris.csv\u001B[39m\u001B[38;5;124m\"\u001B[39m) \u001B[38;5;66;03m# the iris dataset is now a Pandas DataFrame\u001B[39;00m\n",
      "\u001B[0;31mAttributeError\u001B[0m: module 'seaborn' has no attribute 'set'"
     ]
    }
   ],
   "source": [
    "# First, we'll import pandas, a data processing and CSV file I/O library\n",
    "import pandas as pd\n",
    "\n",
    "# We'll also import seaborn, a Python graphing library\n",
    "import warnings # current version of seaborn generates a bunch of warnings that we'll ignore\n",
    "warnings.filterwarnings(\"ignore\")\n",
    "import seaborn as sns\n",
    "import matplotlib.pyplot as plt\n",
    "sns.set(style=\"white\", color_codes=True)\n",
    "\n",
    "# Next, we'll load the Iris flower dataset, which is in the \"../input/\" directory\n",
    "iris = pd.read_csv(\"Iris.csv\") # the iris dataset is now a Pandas DataFrame\n",
    "\n",
    "# Let's see what's in the iris data - Jupyter notebooks print the result of the last thing you do\n",
    "iris.head()\n",
    "\n",
    "# Press shift+enter to execute this cell"
   ]
  },
  {
   "cell_type": "code",
   "execution_count": null,
   "metadata": {
    "ExecuteTime": {
     "end_time": "2023-06-16T16:34:40.213247Z",
     "start_time": "2023-06-16T16:34:40.210379Z"
    }
   },
   "outputs": [],
   "source": [
    "# Let's see how many examples we have of each species\n",
    "iris[\"Species\"].value_counts()\n"
   ]
  },
  {
   "cell_type": "code",
   "execution_count": null,
   "metadata": {
    "ExecuteTime": {
     "end_time": "2023-06-16T16:34:40.340233Z",
     "start_time": "2023-06-16T16:34:40.212004Z"
    }
   },
   "outputs": [],
   "source": [
    "# The first way we can plot things is using the .plot extension from Pandas dataframes\n",
    "# We'll use this to make a scatterplot of the Iris features.\n",
    "iris.plot(kind=\"scatter\", x=\"SepalLengthCm\", y=\"SepalWidthCm\")"
   ]
  },
  {
   "cell_type": "code",
   "execution_count": null,
   "metadata": {
    "ExecuteTime": {
     "end_time": "2023-06-16T16:34:40.584168Z",
     "start_time": "2023-06-16T16:34:40.344923Z"
    }
   },
   "outputs": [],
   "source": [
    "# We can also use the seaborn library to make a similar plot\n",
    "# A seaborn jointplot shows bivariate scatterplots and univariate histograms in the same figure\n",
    "sns.jointplot(x=\"SepalLengthCm\", y=\"SepalWidthCm\", data=iris, height=5)"
   ]
  },
  {
   "cell_type": "code",
   "execution_count": null,
   "metadata": {
    "ExecuteTime": {
     "end_time": "2023-06-16T16:34:40.817876Z",
     "start_time": "2023-06-16T16:34:40.594240Z"
    }
   },
   "outputs": [],
   "source": [
    "# One piece of information missing in the plots above is what species each plant is\n",
    "# We'll use seaborn's FacetGrid to color the scatterplot by species\n",
    "sns.FacetGrid(iris, hue=\"Species\", height=5) \\\n",
    "   .map(plt.scatter, \"SepalLengthCm\", \"SepalWidthCm\") \\\n",
    "   .add_legend()"
   ]
  },
  {
   "cell_type": "code",
   "execution_count": null,
   "metadata": {
    "ExecuteTime": {
     "end_time": "2023-06-16T16:34:41.068840Z",
     "start_time": "2023-06-16T16:34:40.818123Z"
    }
   },
   "outputs": [],
   "source": [
    "#One piece of information missing in the plots above is what species each plant is\n",
    "# We'll use seaborn's FacetGrid to color the scatterplot by species\n",
    "sns.FacetGrid(iris, hue=\"Species\", height=10) \\\n",
    "   .map(plt.scatter, \"SepalLengthCm\", \"SepalWidthCm\") \\\n",
    "   .add_legend()"
   ]
  },
  {
   "cell_type": "code",
   "execution_count": null,
   "metadata": {
    "ExecuteTime": {
     "end_time": "2023-06-16T16:34:41.175205Z",
     "start_time": "2023-06-16T16:34:41.071817Z"
    }
   },
   "outputs": [],
   "source": [
    "# We can look at an individual feature in Seaborn through a boxplot\n",
    "sns.boxplot(x=\"Species\", y=\"PetalLengthCm\", data=iris)"
   ]
  },
  {
   "cell_type": "code",
   "execution_count": null,
   "metadata": {
    "ExecuteTime": {
     "end_time": "2023-06-16T16:34:41.237038Z",
     "start_time": "2023-06-16T16:34:41.149545Z"
    }
   },
   "outputs": [],
   "source": [
    "# One way we can extend this plot is adding a layer of individual points on top of\n",
    "# it through Seaborn's striplot\n",
    "# \n",
    "# We'll use jitter=True so that all the points don't fall in single vertical lines\n",
    "# above the species\n",
    "#\n",
    "# Saving the resulting axes as ax each time causes the resulting plot to be shown\n",
    "# on top of the previous axes\n",
    "ax = sns.boxplot(x=\"Species\", y=\"PetalLengthCm\", data=iris)\n",
    "ax = sns.stripplot(x=\"Species\", y=\"PetalLengthCm\", data=iris, jitter=True, edgecolor=\"gray\")"
   ]
  },
  {
   "cell_type": "code",
   "execution_count": null,
   "metadata": {
    "ExecuteTime": {
     "end_time": "2023-06-16T16:34:41.314913Z",
     "start_time": "2023-06-16T16:34:41.232428Z"
    }
   },
   "outputs": [],
   "source": [
    "# A violin plot combines the benefits of the previous two plots and simplifies them\n",
    "# Denser regions of the data are fatter, and sparser thiner in a violin plot\n",
    "sns.violinplot(x=\"Species\", y=\"PetalLengthCm\", data=iris, height=6)"
   ]
  },
  {
   "cell_type": "code",
   "execution_count": null,
   "metadata": {
    "ExecuteTime": {
     "end_time": "2023-06-16T16:34:41.527870Z",
     "start_time": "2023-06-16T16:34:41.325778Z"
    }
   },
   "outputs": [],
   "source": [
    "# A final seaborn plot useful for looking at univariate relations is the kdeplot,\n",
    "# which creates and visualizes a kernel density estimate of the underlying feature\n",
    "sns.FacetGrid(iris, hue=\"Species\", height=6) \\\n",
    "   .map(sns.kdeplot, \"PetalLengthCm\") \\\n",
    "   .add_legend()"
   ]
  },
  {
   "cell_type": "code",
   "execution_count": null,
   "metadata": {
    "ExecuteTime": {
     "end_time": "2023-06-16T16:34:43.644044Z",
     "start_time": "2023-06-16T16:34:41.556270Z"
    }
   },
   "outputs": [],
   "source": [
    "# Another useful seaborn plot is the pairplot, which shows the bivariate relation\n",
    "# between each pair of features\n",
    "# \n",
    "# From the pairplot, we'll see that the Iris-setosa species is separataed from the other\n",
    "# two across all feature combinations\n",
    "sns.pairplot(iris.drop(\"Id\", axis=1), hue=\"Species\", height=3)"
   ]
  },
  {
   "cell_type": "code",
   "execution_count": null,
   "metadata": {
    "ExecuteTime": {
     "end_time": "2023-06-16T16:34:45.753297Z",
     "start_time": "2023-06-16T16:34:43.785143Z"
    }
   },
   "outputs": [],
   "source": [
    "# The diagonal elements in a pairplot show the histogram by default\n",
    "# We can update these elements to show other things, such as a kde\n",
    "sns.pairplot(iris.drop(\"Id\", axis=1), hue=\"Species\", height=3, diag_kind=\"kde\")"
   ]
  },
  {
   "cell_type": "code",
   "execution_count": null,
   "metadata": {
    "ExecuteTime": {
     "end_time": "2023-06-16T16:34:46.141065Z",
     "start_time": "2023-06-16T16:34:45.782194Z"
    }
   },
   "outputs": [],
   "source": [
    "# Now that we've covered seaborn, let's go back to some of the ones we can make with Pandas\n",
    "# We can quickly make a boxplot with Pandas on each feature split out by species\n",
    "iris.drop(\"Id\", axis=1).boxplot(by=\"Species\", figsize=(12, 6))"
   ]
  },
  {
   "cell_type": "code",
   "execution_count": null,
   "metadata": {
    "ExecuteTime": {
     "end_time": "2023-06-16T16:34:46.327590Z",
     "start_time": "2023-06-16T16:34:46.140294Z"
    }
   },
   "outputs": [],
   "source": [
    "# One cool more sophisticated technique pandas has available is called Andrews Curves\n",
    "# Andrews Curves involve using attributes of samples as coefficients for Fourier series\n",
    "# and then plotting these\n",
    "from pandas.plotting import andrews_curves\n",
    "andrews_curves(iris.drop(\"Id\", axis=1), \"Species\")\n",
    "\n"
   ]
  },
  {
   "cell_type": "code",
   "execution_count": null,
   "metadata": {
    "ExecuteTime": {
     "end_time": "2023-06-16T16:34:46.499019Z",
     "start_time": "2023-06-16T16:34:46.345476Z"
    }
   },
   "outputs": [],
   "source": [
    "# Another multivariate visualization technique pandas has is parallel_coordinates\n",
    "# Parallel coordinates plots each feature on a separate column & then draws lines\n",
    "# connecting the features for each data sample\n",
    "from pandas.plotting import parallel_coordinates\n",
    "parallel_coordinates(iris.drop(\"Id\", axis=1), \"Species\")"
   ]
  },
  {
   "cell_type": "code",
   "execution_count": null,
   "metadata": {
    "ExecuteTime": {
     "end_time": "2023-06-16T16:34:46.659584Z",
     "start_time": "2023-06-16T16:34:46.508762Z"
    }
   },
   "outputs": [],
   "source": [
    "# A final multivariate visualization technique pandas has is radviz\n",
    "# Which puts each feature as a point on a 2D plane, and then simulates\n",
    "# having each sample attached to those points through a spring weighted\n",
    "# by the relative value for that feature\n",
    "from pandas.plotting import radviz\n",
    "radviz(iris.drop(\"Id\", axis=1), \"Species\")"
   ]
  },
  {
   "cell_type": "code",
   "execution_count": null,
   "metadata": {
    "ExecuteTime": {
     "end_time": "2023-06-16T16:34:46.661286Z",
     "start_time": "2023-06-16T16:34:46.658412Z"
    }
   },
   "outputs": [],
   "source": []
  }
 ],
 "metadata": {
  "kernelspec": {
   "display_name": "Python 3",
   "language": "python",
   "name": "python3"
  },
  "language_info": {
   "codemirror_mode": {
    "name": "ipython",
    "version": 3
   },
   "file_extension": ".py",
   "mimetype": "text/x-python",
   "name": "python",
   "nbconvert_exporter": "python",
   "pygments_lexer": "ipython3",
   "version": "3.7.1"
  }
 },
 "nbformat": 4,
 "nbformat_minor": 2
}
