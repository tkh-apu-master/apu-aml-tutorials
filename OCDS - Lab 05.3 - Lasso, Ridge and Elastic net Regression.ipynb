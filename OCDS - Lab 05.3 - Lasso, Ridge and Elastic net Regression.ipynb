{
 "cells": [
  {
   "cell_type": "code",
   "execution_count": 1,
   "metadata": {
    "ExecuteTime": {
     "end_time": "2023-06-17T09:02:50.496046Z",
     "start_time": "2023-06-17T09:02:49.759638Z"
    }
   },
   "outputs": [],
   "source": [
    "import pandas as pd\n",
    "import numpy as np\n",
    "import matplotlib.pyplot as plt"
   ]
  },
  {
   "cell_type": "code",
   "execution_count": 2,
   "metadata": {
    "ExecuteTime": {
     "end_time": "2023-06-17T09:02:50.521572Z",
     "start_time": "2023-06-17T09:02:50.496748Z"
    }
   },
   "outputs": [
    {
     "data": {
      "text/plain": "      TV  radio  newspaper  sales\n0  230.1   37.8       69.2   22.1\n1   44.5   39.3       45.1   10.4\n2   17.2   45.9       69.3    9.3\n3  151.5   41.3       58.5   18.5\n4  180.8   10.8       58.4   12.9",
      "text/html": "<div>\n<style scoped>\n    .dataframe tbody tr th:only-of-type {\n        vertical-align: middle;\n    }\n\n    .dataframe tbody tr th {\n        vertical-align: top;\n    }\n\n    .dataframe thead th {\n        text-align: right;\n    }\n</style>\n<table border=\"1\" class=\"dataframe\">\n  <thead>\n    <tr style=\"text-align: right;\">\n      <th></th>\n      <th>TV</th>\n      <th>radio</th>\n      <th>newspaper</th>\n      <th>sales</th>\n    </tr>\n  </thead>\n  <tbody>\n    <tr>\n      <th>0</th>\n      <td>230.1</td>\n      <td>37.8</td>\n      <td>69.2</td>\n      <td>22.1</td>\n    </tr>\n    <tr>\n      <th>1</th>\n      <td>44.5</td>\n      <td>39.3</td>\n      <td>45.1</td>\n      <td>10.4</td>\n    </tr>\n    <tr>\n      <th>2</th>\n      <td>17.2</td>\n      <td>45.9</td>\n      <td>69.3</td>\n      <td>9.3</td>\n    </tr>\n    <tr>\n      <th>3</th>\n      <td>151.5</td>\n      <td>41.3</td>\n      <td>58.5</td>\n      <td>18.5</td>\n    </tr>\n    <tr>\n      <th>4</th>\n      <td>180.8</td>\n      <td>10.8</td>\n      <td>58.4</td>\n      <td>12.9</td>\n    </tr>\n  </tbody>\n</table>\n</div>"
     },
     "execution_count": 2,
     "metadata": {},
     "output_type": "execute_result"
    }
   ],
   "source": [
    "Advertising = pd.read_csv(\"Advertising.csv\")\n",
    "Advertising.head()"
   ]
  },
  {
   "cell_type": "code",
   "execution_count": 3,
   "metadata": {
    "ExecuteTime": {
     "end_time": "2023-06-17T09:02:50.521924Z",
     "start_time": "2023-06-17T09:02:50.507832Z"
    }
   },
   "outputs": [
    {
     "data": {
      "text/plain": "Index(['TV', 'radio', 'newspaper', 'sales'], dtype='object')"
     },
     "execution_count": 3,
     "metadata": {},
     "output_type": "execute_result"
    }
   ],
   "source": [
    "Advertising.columns"
   ]
  },
  {
   "cell_type": "code",
   "execution_count": 4,
   "metadata": {
    "ExecuteTime": {
     "end_time": "2023-06-17T09:02:50.522045Z",
     "start_time": "2023-06-17T09:02:50.511813Z"
    }
   },
   "outputs": [
    {
     "data": {
      "text/plain": "(200, 4)"
     },
     "execution_count": 4,
     "metadata": {},
     "output_type": "execute_result"
    }
   ],
   "source": [
    "Advertising.shape"
   ]
  },
  {
   "cell_type": "code",
   "execution_count": 5,
   "metadata": {
    "ExecuteTime": {
     "end_time": "2023-06-17T09:02:50.542085Z",
     "start_time": "2023-06-17T09:02:50.515266Z"
    }
   },
   "outputs": [
    {
     "data": {
      "text/plain": "TV           0\nradio        0\nnewspaper    0\nsales        0\ndtype: int64"
     },
     "execution_count": 5,
     "metadata": {},
     "output_type": "execute_result"
    }
   ],
   "source": [
    "Advertising.isnull().sum()"
   ]
  },
  {
   "cell_type": "code",
   "execution_count": 6,
   "metadata": {
    "ExecuteTime": {
     "end_time": "2023-06-17T09:02:50.556848Z",
     "start_time": "2023-06-17T09:02:50.518133Z"
    }
   },
   "outputs": [
    {
     "data": {
      "text/plain": "               TV       radio   newspaper       sales\ncount  200.000000  200.000000  200.000000  200.000000\nmean   147.042500   23.264000   30.554000   14.022500\nstd     85.854236   14.846809   21.778621    5.217457\nmin      0.700000    0.000000    0.300000    1.600000\n25%     74.375000    9.975000   12.750000   10.375000\n50%    149.750000   22.900000   25.750000   12.900000\n75%    218.825000   36.525000   45.100000   17.400000\nmax    296.400000   49.600000  114.000000   27.000000",
      "text/html": "<div>\n<style scoped>\n    .dataframe tbody tr th:only-of-type {\n        vertical-align: middle;\n    }\n\n    .dataframe tbody tr th {\n        vertical-align: top;\n    }\n\n    .dataframe thead th {\n        text-align: right;\n    }\n</style>\n<table border=\"1\" class=\"dataframe\">\n  <thead>\n    <tr style=\"text-align: right;\">\n      <th></th>\n      <th>TV</th>\n      <th>radio</th>\n      <th>newspaper</th>\n      <th>sales</th>\n    </tr>\n  </thead>\n  <tbody>\n    <tr>\n      <th>count</th>\n      <td>200.000000</td>\n      <td>200.000000</td>\n      <td>200.000000</td>\n      <td>200.000000</td>\n    </tr>\n    <tr>\n      <th>mean</th>\n      <td>147.042500</td>\n      <td>23.264000</td>\n      <td>30.554000</td>\n      <td>14.022500</td>\n    </tr>\n    <tr>\n      <th>std</th>\n      <td>85.854236</td>\n      <td>14.846809</td>\n      <td>21.778621</td>\n      <td>5.217457</td>\n    </tr>\n    <tr>\n      <th>min</th>\n      <td>0.700000</td>\n      <td>0.000000</td>\n      <td>0.300000</td>\n      <td>1.600000</td>\n    </tr>\n    <tr>\n      <th>25%</th>\n      <td>74.375000</td>\n      <td>9.975000</td>\n      <td>12.750000</td>\n      <td>10.375000</td>\n    </tr>\n    <tr>\n      <th>50%</th>\n      <td>149.750000</td>\n      <td>22.900000</td>\n      <td>25.750000</td>\n      <td>12.900000</td>\n    </tr>\n    <tr>\n      <th>75%</th>\n      <td>218.825000</td>\n      <td>36.525000</td>\n      <td>45.100000</td>\n      <td>17.400000</td>\n    </tr>\n    <tr>\n      <th>max</th>\n      <td>296.400000</td>\n      <td>49.600000</td>\n      <td>114.000000</td>\n      <td>27.000000</td>\n    </tr>\n  </tbody>\n</table>\n</div>"
     },
     "execution_count": 6,
     "metadata": {},
     "output_type": "execute_result"
    }
   ],
   "source": [
    "Advertising.describe()"
   ]
  },
  {
   "cell_type": "code",
   "execution_count": 7,
   "metadata": {
    "ExecuteTime": {
     "end_time": "2023-06-17T09:02:50.557108Z",
     "start_time": "2023-06-17T09:02:50.529356Z"
    }
   },
   "outputs": [],
   "source": [
    "def scatter_plot(feature, target):\n",
    "    plt.figure(figsize=(16, 8))\n",
    "    plt.scatter(\n",
    "        Advertising[feature],\n",
    "        Advertising[target],\n",
    "        c='blue'\n",
    "    )\n",
    "    plt.xlabel(\"Money spent on {} ads ($)\".format(feature))\n",
    "    plt.ylabel(\"Sales ($k)\")\n",
    "    plt.show()"
   ]
  },
  {
   "cell_type": "code",
   "execution_count": 8,
   "metadata": {
    "ExecuteTime": {
     "end_time": "2023-06-17T09:02:50.720402Z",
     "start_time": "2023-06-17T09:02:50.532251Z"
    }
   },
   "outputs": [
    {
     "data": {
      "text/plain": "<Figure size 1600x800 with 1 Axes>",
      "image/png": "[encoded data removed]"
     },
     "metadata": {},
     "output_type": "display_data"
    }
   ],
   "source": [
    "scatter_plot('TV', 'sales')"
   ]
  },
  {
   "cell_type": "code",
   "execution_count": 9,
   "metadata": {
    "ExecuteTime": {
     "end_time": "2023-06-17T09:02:50.865816Z",
     "start_time": "2023-06-17T09:02:50.697906Z"
    }
   },
   "outputs": [
    {
     "data": {
      "text/plain": "<Figure size 1600x800 with 1 Axes>",
      "image/png": "[encoded data removed]"
     },
     "metadata": {},
     "output_type": "display_data"
    }
   ],
   "source": [
    "scatter_plot('radio', 'sales')"
   ]
  },
  {
   "cell_type": "code",
   "execution_count": 10,
   "metadata": {
    "ExecuteTime": {
     "end_time": "2023-06-17T09:02:50.911891Z",
     "start_time": "2023-06-17T09:02:50.807459Z"
    }
   },
   "outputs": [
    {
     "data": {
      "text/plain": "<Figure size 1600x800 with 1 Axes>",
      "image/png": "[encoded data removed]"
     },
     "metadata": {},
     "output_type": "display_data"
    }
   ],
   "source": [
    "scatter_plot('newspaper', 'sales')"
   ]
  },
  {
   "cell_type": "markdown",
   "metadata": {},
   "source": [
    "# Modelling"
   ]
  },
  {
   "cell_type": "markdown",
   "metadata": {},
   "source": [
    "### Multiple Linear Regression - Ordinary Least Squares fitting"
   ]
  },
  {
   "cell_type": "code",
   "execution_count": 11,
   "metadata": {
    "ExecuteTime": {
     "end_time": "2023-06-17T09:02:52.014129Z",
     "start_time": "2023-06-17T09:02:50.886854Z"
    }
   },
   "outputs": [
    {
     "name": "stdout",
     "output_type": "stream",
     "text": [
      "LinearRegression()\n",
      "                            OLS Regression Results                            \n",
      "==============================================================================\n",
      "Dep. Variable:                      y   R-squared:                       0.897\n",
      "Model:                            OLS   Adj. R-squared:                  0.896\n",
      "Method:                 Least Squares   F-statistic:                     570.3\n",
      "Date:                Sat, 17 Jun 2023   Prob (F-statistic):           1.58e-96\n",
      "Time:                        17:02:52   Log-Likelihood:                -386.18\n",
      "No. Observations:                 200   AIC:                             780.4\n",
      "Df Residuals:                     196   BIC:                             793.6\n",
      "Df Model:                           3                                         \n",
      "Covariance Type:            nonrobust                                         \n",
      "==============================================================================\n",
      "                 coef    std err          t      P>|t|      [0.025      0.975]\n",
      "------------------------------------------------------------------------------\n",
      "const          2.9389      0.312      9.422      0.000       2.324       3.554\n",
      "TV             0.0458      0.001     32.809      0.000       0.043       0.049\n",
      "radio          0.1885      0.009     21.893      0.000       0.172       0.206\n",
      "newspaper     -0.0010      0.006     -0.177      0.860      -0.013       0.011\n",
      "==============================================================================\n",
      "Omnibus:                       60.414   Durbin-Watson:                   2.084\n",
      "Prob(Omnibus):                  0.000   Jarque-Bera (JB):              151.241\n",
      "Skew:                          -1.327   Prob(JB):                     1.44e-33\n",
      "Kurtosis:                       6.332   Cond. No.                         454.\n",
      "==============================================================================\n",
      "\n",
      "Notes:\n",
      "[1] Standard Errors assume that the covariance matrix of the errors is correctly specified.\n"
     ]
    }
   ],
   "source": [
    "from sklearn.linear_model import LinearRegression\n",
    "from sklearn.metrics import r2_score, mean_squared_error\n",
    "from sklearn.model_selection import cross_val_score\n",
    "import statsmodels.api as sm\n",
    "\n",
    "X = Advertising.drop(['sales'], axis=1)\n",
    "y = Advertising['sales'].values.reshape(-1,1)\n",
    "\n",
    "lin_reg = LinearRegression()\n",
    "fit = lin_reg.fit(X, y)\n",
    "print(fit)\n",
    "\n",
    "X2 = sm.add_constant(X)\n",
    "est = sm.OLS(y, X2)\n",
    "est2 = est.fit()\n",
    "print(est2.summary())"
   ]
  },
  {
   "cell_type": "code",
   "execution_count": 12,
   "metadata": {
    "ExecuteTime": {
     "end_time": "2023-06-17T09:02:52.018014Z",
     "start_time": "2023-06-17T09:02:52.014657Z"
    }
   },
   "outputs": [
    {
     "name": "stdout",
     "output_type": "stream",
     "text": [
      "Intercept:  [2.93888937]\n",
      "Coefficient:  [[ 0.04576465  0.18853002 -0.00103749]]\n"
     ]
    }
   ],
   "source": [
    "print(\"Intercept: \", lin_reg.intercept_)\n",
    "print(\"Coefficient: \", lin_reg.coef_)"
   ]
  },
  {
   "cell_type": "code",
   "execution_count": 13,
   "metadata": {
    "ExecuteTime": {
     "end_time": "2023-06-17T09:02:52.022042Z",
     "start_time": "2023-06-17T09:02:52.019658Z"
    }
   },
   "outputs": [
    {
     "name": "stdout",
     "output_type": "stream",
     "text": [
      "~~~~Pedicted Sales Values~~~~\n",
      "[[20.52397441]\n",
      " [12.33785482]\n",
      " [12.30767078]\n",
      " [17.59782951]\n",
      " [13.18867186]\n",
      " [12.47834763]\n",
      " [11.72975995]\n",
      " [12.12295317]\n",
      " [ 3.72734086]\n",
      " [12.55084872]\n",
      " [ 7.0322992 ]\n",
      " [17.28512918]\n",
      " [10.57712073]\n",
      " [ 8.82630048]\n",
      " [18.43436638]\n",
      " [20.81929952]\n",
      " [12.82365674]\n",
      " [23.22495716]\n",
      " [ 9.95168206]\n",
      " [14.16607293]\n",
      " [18.10076728]\n",
      " [14.7405382 ]\n",
      " [ 6.4891503 ]\n",
      " [16.5459329 ]\n",
      " [ 8.14651887]\n",
      " [15.6100386 ]\n",
      " [14.98951429]\n",
      " [17.05167344]\n",
      " [19.41053803]\n",
      " [ 9.14402389]\n",
      " [21.6339338 ]\n",
      " [11.3460929 ]\n",
      " [ 7.63888314]\n",
      " [18.86426829]\n",
      " [ 7.57483051]\n",
      " [17.00682618]\n",
      " [23.40590052]\n",
      " [15.62347779]\n",
      " [ 9.90868103]\n",
      " [20.44761039]\n",
      " [16.37766467]\n",
      " [17.2959832 ]\n",
      " [21.59580326]\n",
      " [13.96385684]\n",
      " [ 8.88787996]\n",
      " [15.16152314]\n",
      " [ 8.87338673]\n",
      " [21.7226299 ]\n",
      " [16.26362018]\n",
      " [ 8.1681656 ]\n",
      " [12.63121132]\n",
      " [ 9.33981296]\n",
      " [20.66297563]\n",
      " [19.94469957]\n",
      " [20.37443008]\n",
      " [21.2926106 ]\n",
      " [ 8.52771254]\n",
      " [12.77458802]\n",
      " [21.89805198]\n",
      " [18.13348698]\n",
      " [ 5.74215558]\n",
      " [22.89067208]\n",
      " [16.78426073]\n",
      " [13.21069202]\n",
      " [16.97773556]\n",
      " [ 7.84904532]\n",
      " [ 9.01603163]\n",
      " [12.0370073 ]\n",
      " [18.97657924]\n",
      " [21.10891244]\n",
      " [17.77949782]\n",
      " [10.62693815]\n",
      " [10.36684881]\n",
      " [ 9.90298206]\n",
      " [17.32931197]\n",
      " [11.85832174]\n",
      " [ 4.47758904]\n",
      " [13.81190223]\n",
      " [ 8.81331353]\n",
      " [ 9.67530328]\n",
      " [11.44592364]\n",
      " [14.64794093]\n",
      " [10.17840799]\n",
      " [14.42184212]\n",
      " [20.78136464]\n",
      " [15.18140789]\n",
      " [11.59870739]\n",
      " [15.59378475]\n",
      " [11.71127101]\n",
      " [16.92225511]\n",
      " [ 9.99922965]\n",
      " [ 4.49631598]\n",
      " [19.15639616]\n",
      " [21.22757378]\n",
      " [10.48212385]\n",
      " [16.31492112]\n",
      " [12.63571716]\n",
      " [15.33707782]\n",
      " [24.11860723]\n",
      " [16.94035021]\n",
      " [13.87595844]\n",
      " [23.24248685]\n",
      " [17.64409385]\n",
      " [14.76221142]\n",
      " [20.30110878]\n",
      " [17.93641467]\n",
      " [ 6.12602215]\n",
      " [ 7.10850249]\n",
      " [ 3.58725841]\n",
      " [19.69293106]\n",
      " [14.7598741 ]\n",
      " [21.14027498]\n",
      " [13.88060985]\n",
      " [16.40377623]\n",
      " [15.30509593]\n",
      " [12.91968895]\n",
      " [11.97874744]\n",
      " [ 6.5707774 ]\n",
      " [15.56609348]\n",
      " [ 6.82006767]\n",
      " [14.41010605]\n",
      " [ 7.83807642]\n",
      " [13.6264571 ]\n",
      " [15.0827909 ]\n",
      " [19.45441306]\n",
      " [ 9.12734958]\n",
      " [10.57717411]\n",
      " [ 6.599669  ]\n",
      " [22.25549161]\n",
      " [ 7.88410649]\n",
      " [10.4276871 ]\n",
      " [15.57779819]\n",
      " [ 8.44915012]\n",
      " [19.26692307]\n",
      " [11.8368039 ]\n",
      " [14.00141385]\n",
      " [11.45348627]\n",
      " [20.85125198]\n",
      " [ 9.76842795]\n",
      " [19.67547632]\n",
      " [ 9.48964097]\n",
      " [18.39902932]\n",
      " [19.24986927]\n",
      " [ 8.76480262]\n",
      " [10.09133403]\n",
      " [ 9.70853872]\n",
      " [15.29422368]\n",
      " [23.26086103]\n",
      " [12.26335941]\n",
      " [ 9.8272711 ]\n",
      " [18.36720534]\n",
      " [10.0095377 ]\n",
      " [16.3600003 ]\n",
      " [18.22390132]\n",
      " [15.50161696]\n",
      " [ 5.3075589 ]\n",
      " [15.38485192]\n",
      " [10.0143112 ]\n",
      " [10.38419866]\n",
      " [12.39914823]\n",
      " [14.21383298]\n",
      " [13.55914568]\n",
      " [14.94678206]\n",
      " [17.35163608]\n",
      " [11.0682946 ]\n",
      " [14.22372138]\n",
      " [10.82439531]\n",
      " [13.36324677]\n",
      " [17.1861428 ]\n",
      " [17.9415563 ]\n",
      " [ 7.39497997]\n",
      " [14.35827373]\n",
      " [ 7.60769238]\n",
      " [11.97093887]\n",
      " [13.74435742]\n",
      " [24.78687031]\n",
      " [19.9793727 ]\n",
      " [12.1620464 ]\n",
      " [16.01099722]\n",
      " [12.38455495]\n",
      " [10.5871997 ]\n",
      " [13.92809918]\n",
      " [ 6.55467   ]\n",
      " [24.13310013]\n",
      " [18.53852096]\n",
      " [20.80301059]\n",
      " [ 9.69137313]\n",
      " [17.07644223]\n",
      " [18.64430648]\n",
      " [ 6.05162411]\n",
      " [12.4891591 ]\n",
      " [ 8.42401933]\n",
      " [ 4.46622956]\n",
      " [18.48695797]\n",
      " [16.49530044]\n",
      " [ 5.37034248]\n",
      " [ 8.16531236]\n",
      " [12.78592082]\n",
      " [23.76732149]\n",
      " [15.17319554]]\n"
     ]
    }
   ],
   "source": [
    "# Predictions\n",
    "y_pred = lin_reg.predict(X)\n",
    "print(\"~~~~Pedicted Sales Values~~~~\")\n",
    "print(y_pred)"
   ]
  },
  {
   "cell_type": "markdown",
   "metadata": {},
   "source": [
    "**Coefficient of Determination**"
   ]
  },
  {
   "cell_type": "code",
   "execution_count": 14,
   "metadata": {
    "ExecuteTime": {
     "end_time": "2023-06-17T09:02:52.026242Z",
     "start_time": "2023-06-17T09:02:52.023024Z"
    }
   },
   "outputs": [
    {
     "name": "stdout",
     "output_type": "stream",
     "text": [
      "R Square value: 0.8972106381789522\n"
     ]
    }
   ],
   "source": [
    "print(\"R Square value:\", r2_score(y, y_pred))"
   ]
  },
  {
   "cell_type": "code",
   "execution_count": 15,
   "metadata": {
    "ExecuteTime": {
     "end_time": "2023-06-17T09:02:52.064901Z",
     "start_time": "2023-06-17T09:02:52.031335Z"
    }
   },
   "outputs": [
    {
     "name": "stdout",
     "output_type": "stream",
     "text": [
      "[0.87865198 0.91763212 0.92933032 0.81443904 0.89547829]\n",
      "Average R Square after CV:  0.8871063495438436\n"
     ]
    }
   ],
   "source": [
    "R2s = cross_val_score(lin_reg, X, y, cv=5, scoring='r2')\n",
    "print(R2s)\n",
    "print(\"Average R Square after CV: \", np.mean(R2s))"
   ]
  },
  {
   "cell_type": "markdown",
   "metadata": {},
   "source": [
    "**Mean Squared Error**"
   ]
  },
  {
   "cell_type": "code",
   "execution_count": 16,
   "metadata": {
    "ExecuteTime": {
     "end_time": "2023-06-17T09:02:52.065323Z",
     "start_time": "2023-06-17T09:02:52.040070Z"
    }
   },
   "outputs": [
    {
     "name": "stdout",
     "output_type": "stream",
     "text": [
      "Mean Squared Error:  2.784126314510936\n"
     ]
    }
   ],
   "source": [
    "print(\"Mean Squared Error: \", mean_squared_error(y_pred, y))"
   ]
  },
  {
   "cell_type": "code",
   "execution_count": 17,
   "metadata": {
    "ExecuteTime": {
     "end_time": "2023-06-17T09:02:52.065502Z",
     "start_time": "2023-06-17T09:02:52.045898Z"
    }
   },
   "outputs": [
    {
     "name": "stdout",
     "output_type": "stream",
     "text": [
      "[-3.1365399  -2.42566776 -1.58522508 -5.42615506 -2.79114519]\n",
      "Average MSE after CV:  -3.0729465971002083\n"
     ]
    }
   ],
   "source": [
    "MSEs = cross_val_score(lin_reg, X, y, cv=5, scoring='neg_mean_squared_error')\n",
    "print(MSEs)\n",
    "print(\"Average MSE after CV: \", np.mean(MSEs))"
   ]
  },
  {
   "cell_type": "markdown",
   "metadata": {},
   "source": [
    "### Ridge regression ---------------------------------"
   ]
  },
  {
   "cell_type": "markdown",
   "metadata": {},
   "source": [
    "**Ridge Regression performs ‘L2 regularization‘**"
   ]
  },
  {
   "cell_type": "markdown",
   "metadata": {},
   "source": [
    "Ridge regression is a variant of linear regression. The term above is the ridge constraint to the OLS equation"
   ]
  },
  {
   "cell_type": "markdown",
   "metadata": {},
   "source": [
    "Ridge regression is a way to create a parsimonious model when the number of predictor variables in a set exceeds the number of observations, or when a data set has multicollinearity (correlations between predictor variables)."
   ]
  },
  {
   "cell_type": "code",
   "execution_count": 18,
   "metadata": {
    "ExecuteTime": {
     "end_time": "2023-06-17T09:02:52.156436Z",
     "start_time": "2023-06-17T09:02:52.059424Z"
    }
   },
   "outputs": [
    {
     "data": {
      "text/plain": "GridSearchCV(cv=5, estimator=Ridge(solver='saga'),\n             param_grid={'alpha': array([1.000000e-05, 1.000001e+01, 2.000001e+01, 3.000001e+01,\n       4.000001e+01, 5.000001e+01, 6.000001e+01, 7.000001e+01,\n       8.000001e+01, 9.000001e+01])},\n             scoring='neg_mean_squared_error')",
      "text/html": "<style>#sk-container-id-1 {color: black;background-color: white;}#sk-container-id-1 pre{padding: 0;}#sk-container-id-1 div.sk-toggleable {background-color: white;}#sk-container-id-1 label.sk-toggleable__label {cursor: pointer;display: block;width: 100%;margin-bottom: 0;padding: 0.3em;box-sizing: border-box;text-align: center;}#sk-container-id-1 label.sk-toggleable__label-arrow:before {content: \"▸\";float: left;margin-right: 0.25em;color: #696969;}#sk-container-id-1 label.sk-toggleable__label-arrow:hover:before {color: black;}#sk-container-id-1 div.sk-estimator:hover label.sk-toggleable__label-arrow:before {color: black;}#sk-container-id-1 div.sk-toggleable__content {max-height: 0;max-width: 0;overflow: hidden;text-align: left;background-color: #f0f8ff;}#sk-container-id-1 div.sk-toggleable__content pre {margin: 0.2em;color: black;border-radius: 0.25em;background-color: #f0f8ff;}#sk-container-id-1 input.sk-toggleable__control:checked~div.sk-toggleable__content {max-height: 200px;max-width: 100%;overflow: auto;}#sk-container-id-1 input.sk-toggleable__control:checked~label.sk-toggleable__label-arrow:before {content: \"▾\";}#sk-container-id-1 div.sk-estimator input.sk-toggleable__control:checked~label.sk-toggleable__label {background-color: #d4ebff;}#sk-container-id-1 div.sk-label input.sk-toggleable__control:checked~label.sk-toggleable__label {background-color: #d4ebff;}#sk-container-id-1 input.sk-hidden--visually {border: 0;clip: rect(1px 1px 1px 1px);clip: rect(1px, 1px, 1px, 1px);height: 1px;margin: -1px;overflow: hidden;padding: 0;position: absolute;width: 1px;}#sk-container-id-1 div.sk-estimator {font-family: monospace;background-color: #f0f8ff;border: 1px dotted black;border-radius: 0.25em;box-sizing: border-box;margin-bottom: 0.5em;}#sk-container-id-1 div.sk-estimator:hover {background-color: #d4ebff;}#sk-container-id-1 div.sk-parallel-item::after {content: \"\";width: 100%;border-bottom: 1px solid gray;flex-grow: 1;}#sk-container-id-1 div.sk-label:hover label.sk-toggleable__label {background-color: #d4ebff;}#sk-container-id-1 div.sk-serial::before {content: \"\";position: absolute;border-left: 1px solid gray;box-sizing: border-box;top: 0;bottom: 0;left: 50%;z-index: 0;}#sk-container-id-1 div.sk-serial {display: flex;flex-direction: column;align-items: center;background-color: white;padding-right: 0.2em;padding-left: 0.2em;position: relative;}#sk-container-id-1 div.sk-item {position: relative;z-index: 1;}#sk-container-id-1 div.sk-parallel {display: flex;align-items: stretch;justify-content: center;background-color: white;position: relative;}#sk-container-id-1 div.sk-item::before, #sk-container-id-1 div.sk-parallel-item::before {content: \"\";position: absolute;border-left: 1px solid gray;box-sizing: border-box;top: 0;bottom: 0;left: 50%;z-index: -1;}#sk-container-id-1 div.sk-parallel-item {display: flex;flex-direction: column;z-index: 1;position: relative;background-color: white;}#sk-container-id-1 div.sk-parallel-item:first-child::after {align-self: flex-end;width: 50%;}#sk-container-id-1 div.sk-parallel-item:last-child::after {align-self: flex-start;width: 50%;}#sk-container-id-1 div.sk-parallel-item:only-child::after {width: 0;}#sk-container-id-1 div.sk-dashed-wrapped {border: 1px dashed gray;margin: 0 0.4em 0.5em 0.4em;box-sizing: border-box;padding-bottom: 0.4em;background-color: white;}#sk-container-id-1 div.sk-label label {font-family: monospace;font-weight: bold;display: inline-block;line-height: 1.2em;}#sk-container-id-1 div.sk-label-container {text-align: center;}#sk-container-id-1 div.sk-container {/* jupyter's `normalize.less` sets `[hidden] { display: none; }` but bootstrap.min.css set `[hidden] { display: none !important; }` so we also need the `!important` here to be able to override the default hidden behavior on the sphinx rendered scikit-learn.org. See: https://github.com/scikit-learn/scikit-learn/issues/21755 */display: inline-block !important;position: relative;}#sk-container-id-1 div.sk-text-repr-fallback {display: none;}</style><div id=\"sk-container-id-1\" class=\"sk-top-container\"><div class=\"sk-text-repr-fallback\"><pre>GridSearchCV(cv=5, estimator=Ridge(solver=&#x27;saga&#x27;),\n             param_grid={&#x27;alpha&#x27;: array([1.000000e-05, 1.000001e+01, 2.000001e+01, 3.000001e+01,\n       4.000001e+01, 5.000001e+01, 6.000001e+01, 7.000001e+01,\n       8.000001e+01, 9.000001e+01])},\n             scoring=&#x27;neg_mean_squared_error&#x27;)</pre><b>In a Jupyter environment, please rerun this cell to show the HTML representation or trust the notebook. <br />On GitHub, the HTML representation is unable to render, please try loading this page with nbviewer.org.</b></div><div class=\"sk-container\" hidden><div class=\"sk-item sk-dashed-wrapped\"><div class=\"sk-label-container\"><div class=\"sk-label sk-toggleable\"><input class=\"sk-toggleable__control sk-hidden--visually\" id=\"sk-estimator-id-1\" type=\"checkbox\" ><label for=\"sk-estimator-id-1\" class=\"sk-toggleable__label sk-toggleable__label-arrow\">GridSearchCV</label><div class=\"sk-toggleable__content\"><pre>GridSearchCV(cv=5, estimator=Ridge(solver=&#x27;saga&#x27;),\n             param_grid={&#x27;alpha&#x27;: array([1.000000e-05, 1.000001e+01, 2.000001e+01, 3.000001e+01,\n       4.000001e+01, 5.000001e+01, 6.000001e+01, 7.000001e+01,\n       8.000001e+01, 9.000001e+01])},\n             scoring=&#x27;neg_mean_squared_error&#x27;)</pre></div></div></div><div class=\"sk-parallel\"><div class=\"sk-parallel-item\"><div class=\"sk-item\"><div class=\"sk-label-container\"><div class=\"sk-label sk-toggleable\"><input class=\"sk-toggleable__control sk-hidden--visually\" id=\"sk-estimator-id-2\" type=\"checkbox\" ><label for=\"sk-estimator-id-2\" class=\"sk-toggleable__label sk-toggleable__label-arrow\">estimator: Ridge</label><div class=\"sk-toggleable__content\"><pre>Ridge(solver=&#x27;saga&#x27;)</pre></div></div></div><div class=\"sk-serial\"><div class=\"sk-item\"><div class=\"sk-estimator sk-toggleable\"><input class=\"sk-toggleable__control sk-hidden--visually\" id=\"sk-estimator-id-3\" type=\"checkbox\" ><label for=\"sk-estimator-id-3\" class=\"sk-toggleable__label sk-toggleable__label-arrow\">Ridge</label><div class=\"sk-toggleable__content\"><pre>Ridge(solver=&#x27;saga&#x27;)</pre></div></div></div></div></div></div></div></div></div></div>"
     },
     "execution_count": 18,
     "metadata": {},
     "output_type": "execute_result"
    }
   ],
   "source": [
    "from sklearn.model_selection import GridSearchCV\n",
    "from sklearn.linear_model import Ridge\n",
    "from numpy import arange\n",
    "\n",
    "ridge = Ridge(solver = 'saga') # Stochastic Average Gradient descent which will set the step size because the solver computes \n",
    "# the step size (learning Rate) based on your data and alpha.\n",
    "\n",
    "ridge_parameters = dict()\n",
    "ridge_parameters['alpha'] = arange(1e-5, 100.0, 10)\n",
    "\n",
    "ridge_regressor = GridSearchCV(ridge, ridge_parameters, scoring='neg_mean_squared_error', cv=5)\n",
    "\n",
    "ridge_regressor.fit(X, y)"
   ]
  },
  {
   "cell_type": "markdown",
   "metadata": {},
   "source": [
    "**Best_params:** Parameter setting that gave the best results on the hold out data."
   ]
  },
  {
   "cell_type": "code",
   "execution_count": 19,
   "metadata": {
    "ExecuteTime": {
     "end_time": "2023-06-17T09:02:52.157008Z",
     "start_time": "2023-06-17T09:02:52.143015Z"
    }
   },
   "outputs": [
    {
     "data": {
      "text/plain": "{'alpha': 20.00001}"
     },
     "execution_count": 19,
     "metadata": {},
     "output_type": "execute_result"
    }
   ],
   "source": [
    "ridge_regressor.best_params_"
   ]
  },
  {
   "cell_type": "markdown",
   "metadata": {},
   "source": [
    "**Best_score:** Mean cross-validated score of the best_estimator. Usually MSE given in negative value."
   ]
  },
  {
   "cell_type": "code",
   "execution_count": 20,
   "metadata": {
    "ExecuteTime": {
     "end_time": "2023-06-17T09:02:52.157181Z",
     "start_time": "2023-06-17T09:02:52.146136Z"
    }
   },
   "outputs": [
    {
     "data": {
      "text/plain": "-3.0711398640576615"
     },
     "execution_count": 20,
     "metadata": {},
     "output_type": "execute_result"
    }
   ],
   "source": [
    "ridge_regressor.best_score_"
   ]
  },
  {
   "cell_type": "markdown",
   "metadata": {},
   "source": [
    "### Lasso Regression ---------------------------------"
   ]
  },
  {
   "cell_type": "markdown",
   "metadata": {},
   "source": [
    "**Ridge Regression performs ‘L1 regularization‘**"
   ]
  },
  {
   "cell_type": "markdown",
   "metadata": {},
   "source": [
    "Lasso Regression, which penalizes the sum of absolute values of the coefficients (L1 penalty)."
   ]
  },
  {
   "cell_type": "markdown",
   "metadata": {},
   "source": [
    "Useful when a large number of features are involved as Lasso will eliminate many features, and reduce overfitting in the linear model."
   ]
  },
  {
   "cell_type": "code",
   "execution_count": 21,
   "metadata": {
    "ExecuteTime": {
     "end_time": "2023-06-17T09:02:53.659517Z",
     "start_time": "2023-06-17T09:02:52.149764Z"
    }
   },
   "outputs": [
    {
     "data": {
      "text/plain": "GridSearchCV(cv=5, estimator=Lasso(), n_jobs=-1,\n             param_grid={'alpha': array([1.000000e-05, 1.000001e+01, 2.000001e+01, 3.000001e+01,\n       4.000001e+01, 5.000001e+01, 6.000001e+01, 7.000001e+01,\n       8.000001e+01, 9.000001e+01])},\n             scoring='neg_mean_squared_error')",
      "text/html": "<style>#sk-container-id-2 {color: black;background-color: white;}#sk-container-id-2 pre{padding: 0;}#sk-container-id-2 div.sk-toggleable {background-color: white;}#sk-container-id-2 label.sk-toggleable__label {cursor: pointer;display: block;width: 100%;margin-bottom: 0;padding: 0.3em;box-sizing: border-box;text-align: center;}#sk-container-id-2 label.sk-toggleable__label-arrow:before {content: \"▸\";float: left;margin-right: 0.25em;color: #696969;}#sk-container-id-2 label.sk-toggleable__label-arrow:hover:before {color: black;}#sk-container-id-2 div.sk-estimator:hover label.sk-toggleable__label-arrow:before {color: black;}#sk-container-id-2 div.sk-toggleable__content {max-height: 0;max-width: 0;overflow: hidden;text-align: left;background-color: #f0f8ff;}#sk-container-id-2 div.sk-toggleable__content pre {margin: 0.2em;color: black;border-radius: 0.25em;background-color: #f0f8ff;}#sk-container-id-2 input.sk-toggleable__control:checked~div.sk-toggleable__content {max-height: 200px;max-width: 100%;overflow: auto;}#sk-container-id-2 input.sk-toggleable__control:checked~label.sk-toggleable__label-arrow:before {content: \"▾\";}#sk-container-id-2 div.sk-estimator input.sk-toggleable__control:checked~label.sk-toggleable__label {background-color: #d4ebff;}#sk-container-id-2 div.sk-label input.sk-toggleable__control:checked~label.sk-toggleable__label {background-color: #d4ebff;}#sk-container-id-2 input.sk-hidden--visually {border: 0;clip: rect(1px 1px 1px 1px);clip: rect(1px, 1px, 1px, 1px);height: 1px;margin: -1px;overflow: hidden;padding: 0;position: absolute;width: 1px;}#sk-container-id-2 div.sk-estimator {font-family: monospace;background-color: #f0f8ff;border: 1px dotted black;border-radius: 0.25em;box-sizing: border-box;margin-bottom: 0.5em;}#sk-container-id-2 div.sk-estimator:hover {background-color: #d4ebff;}#sk-container-id-2 div.sk-parallel-item::after {content: \"\";width: 100%;border-bottom: 1px solid gray;flex-grow: 1;}#sk-container-id-2 div.sk-label:hover label.sk-toggleable__label {background-color: #d4ebff;}#sk-container-id-2 div.sk-serial::before {content: \"\";position: absolute;border-left: 1px solid gray;box-sizing: border-box;top: 0;bottom: 0;left: 50%;z-index: 0;}#sk-container-id-2 div.sk-serial {display: flex;flex-direction: column;align-items: center;background-color: white;padding-right: 0.2em;padding-left: 0.2em;position: relative;}#sk-container-id-2 div.sk-item {position: relative;z-index: 1;}#sk-container-id-2 div.sk-parallel {display: flex;align-items: stretch;justify-content: center;background-color: white;position: relative;}#sk-container-id-2 div.sk-item::before, #sk-container-id-2 div.sk-parallel-item::before {content: \"\";position: absolute;border-left: 1px solid gray;box-sizing: border-box;top: 0;bottom: 0;left: 50%;z-index: -1;}#sk-container-id-2 div.sk-parallel-item {display: flex;flex-direction: column;z-index: 1;position: relative;background-color: white;}#sk-container-id-2 div.sk-parallel-item:first-child::after {align-self: flex-end;width: 50%;}#sk-container-id-2 div.sk-parallel-item:last-child::after {align-self: flex-start;width: 50%;}#sk-container-id-2 div.sk-parallel-item:only-child::after {width: 0;}#sk-container-id-2 div.sk-dashed-wrapped {border: 1px dashed gray;margin: 0 0.4em 0.5em 0.4em;box-sizing: border-box;padding-bottom: 0.4em;background-color: white;}#sk-container-id-2 div.sk-label label {font-family: monospace;font-weight: bold;display: inline-block;line-height: 1.2em;}#sk-container-id-2 div.sk-label-container {text-align: center;}#sk-container-id-2 div.sk-container {/* jupyter's `normalize.less` sets `[hidden] { display: none; }` but bootstrap.min.css set `[hidden] { display: none !important; }` so we also need the `!important` here to be able to override the default hidden behavior on the sphinx rendered scikit-learn.org. See: https://github.com/scikit-learn/scikit-learn/issues/21755 */display: inline-block !important;position: relative;}#sk-container-id-2 div.sk-text-repr-fallback {display: none;}</style><div id=\"sk-container-id-2\" class=\"sk-top-container\"><div class=\"sk-text-repr-fallback\"><pre>GridSearchCV(cv=5, estimator=Lasso(), n_jobs=-1,\n             param_grid={&#x27;alpha&#x27;: array([1.000000e-05, 1.000001e+01, 2.000001e+01, 3.000001e+01,\n       4.000001e+01, 5.000001e+01, 6.000001e+01, 7.000001e+01,\n       8.000001e+01, 9.000001e+01])},\n             scoring=&#x27;neg_mean_squared_error&#x27;)</pre><b>In a Jupyter environment, please rerun this cell to show the HTML representation or trust the notebook. <br />On GitHub, the HTML representation is unable to render, please try loading this page with nbviewer.org.</b></div><div class=\"sk-container\" hidden><div class=\"sk-item sk-dashed-wrapped\"><div class=\"sk-label-container\"><div class=\"sk-label sk-toggleable\"><input class=\"sk-toggleable__control sk-hidden--visually\" id=\"sk-estimator-id-4\" type=\"checkbox\" ><label for=\"sk-estimator-id-4\" class=\"sk-toggleable__label sk-toggleable__label-arrow\">GridSearchCV</label><div class=\"sk-toggleable__content\"><pre>GridSearchCV(cv=5, estimator=Lasso(), n_jobs=-1,\n             param_grid={&#x27;alpha&#x27;: array([1.000000e-05, 1.000001e+01, 2.000001e+01, 3.000001e+01,\n       4.000001e+01, 5.000001e+01, 6.000001e+01, 7.000001e+01,\n       8.000001e+01, 9.000001e+01])},\n             scoring=&#x27;neg_mean_squared_error&#x27;)</pre></div></div></div><div class=\"sk-parallel\"><div class=\"sk-parallel-item\"><div class=\"sk-item\"><div class=\"sk-label-container\"><div class=\"sk-label sk-toggleable\"><input class=\"sk-toggleable__control sk-hidden--visually\" id=\"sk-estimator-id-5\" type=\"checkbox\" ><label for=\"sk-estimator-id-5\" class=\"sk-toggleable__label sk-toggleable__label-arrow\">estimator: Lasso</label><div class=\"sk-toggleable__content\"><pre>Lasso()</pre></div></div></div><div class=\"sk-serial\"><div class=\"sk-item\"><div class=\"sk-estimator sk-toggleable\"><input class=\"sk-toggleable__control sk-hidden--visually\" id=\"sk-estimator-id-6\" type=\"checkbox\" ><label for=\"sk-estimator-id-6\" class=\"sk-toggleable__label sk-toggleable__label-arrow\">Lasso</label><div class=\"sk-toggleable__content\"><pre>Lasso()</pre></div></div></div></div></div></div></div></div></div></div>"
     },
     "execution_count": 21,
     "metadata": {},
     "output_type": "execute_result"
    }
   ],
   "source": [
    "from sklearn.linear_model import Lasso\n",
    "from numpy import arange\n",
    "\n",
    "lasso = Lasso()\n",
    "\n",
    "lasso_parameters = dict()\n",
    "lasso_parameters['alpha'] = arange(1e-5, 100.0, 10)\n",
    "\n",
    "lasso_regressor = GridSearchCV(lasso, lasso_parameters, scoring='neg_mean_squared_error', cv = 5, n_jobs=-1)\n",
    "\n",
    "lasso_regressor.fit(X, y)"
   ]
  },
  {
   "cell_type": "markdown",
   "metadata": {},
   "source": [
    "**Best_params:** Parameter setting that gave the best results on the hold out data."
   ]
  },
  {
   "cell_type": "code",
   "execution_count": 22,
   "metadata": {
    "ExecuteTime": {
     "end_time": "2023-06-17T09:02:53.663679Z",
     "start_time": "2023-06-17T09:02:53.654401Z"
    }
   },
   "outputs": [
    {
     "data": {
      "text/plain": "{'alpha': 1e-05}"
     },
     "execution_count": 22,
     "metadata": {},
     "output_type": "execute_result"
    }
   ],
   "source": [
    "lasso_regressor.best_params_"
   ]
  },
  {
   "cell_type": "markdown",
   "metadata": {},
   "source": [
    "**Best_score:** Mean cross-validated score of the best_estimator. Usually MSE given in negative value."
   ]
  },
  {
   "cell_type": "code",
   "execution_count": 23,
   "metadata": {
    "ExecuteTime": {
     "end_time": "2023-06-17T09:02:53.663970Z",
     "start_time": "2023-06-17T09:02:53.662398Z"
    }
   },
   "outputs": [
    {
     "data": {
      "text/plain": "-3.0729461683552595"
     },
     "execution_count": 23,
     "metadata": {},
     "output_type": "execute_result"
    }
   ],
   "source": [
    "lasso_regressor.best_score_"
   ]
  },
  {
   "cell_type": "markdown",
   "metadata": {},
   "source": [
    "### Elastic Net Regression ---------------------------------"
   ]
  },
  {
   "cell_type": "markdown",
   "metadata": {},
   "source": [
    "Elastic net is a popular type of regularized linear regression that combines two popular penalties, specifically the L1 and L2 penalty functions."
   ]
  },
  {
   "cell_type": "code",
   "execution_count": 24,
   "metadata": {
    "ExecuteTime": {
     "end_time": "2023-06-17T09:02:54.821368Z",
     "start_time": "2023-06-17T09:02:53.662840Z"
    }
   },
   "outputs": [
    {
     "data": {
      "text/plain": "GridSearchCV(cv=5, estimator=ElasticNet(), n_jobs=-1,\n             param_grid={'alpha': array([1.000000e-05, 1.000001e+01, 2.000001e+01, 3.000001e+01,\n       4.000001e+01, 5.000001e+01, 6.000001e+01, 7.000001e+01,\n       8.000001e+01, 9.000001e+01]),\n                         'l1_ratio': array([0.  , 0.01, 0.02, 0.03, 0.04, 0.05, 0.06, 0.07, 0.08, 0.09, 0.1 ,\n       0.11, 0.12, 0.13, 0.14, 0.15, 0.16, 0.17, 0.18, 0.19, 0.2 , 0.21,\n       0.22, 0.23, 0.24, 0...\n       0.33, 0.34, 0.35, 0.36, 0.37, 0.38, 0.39, 0.4 , 0.41, 0.42, 0.43,\n       0.44, 0.45, 0.46, 0.47, 0.48, 0.49, 0.5 , 0.51, 0.52, 0.53, 0.54,\n       0.55, 0.56, 0.57, 0.58, 0.59, 0.6 , 0.61, 0.62, 0.63, 0.64, 0.65,\n       0.66, 0.67, 0.68, 0.69, 0.7 , 0.71, 0.72, 0.73, 0.74, 0.75, 0.76,\n       0.77, 0.78, 0.79, 0.8 , 0.81, 0.82, 0.83, 0.84, 0.85, 0.86, 0.87,\n       0.88, 0.89, 0.9 , 0.91, 0.92, 0.93, 0.94, 0.95, 0.96, 0.97, 0.98,\n       0.99])},\n             scoring='neg_mean_squared_error')",
      "text/html": "<style>#sk-container-id-3 {color: black;background-color: white;}#sk-container-id-3 pre{padding: 0;}#sk-container-id-3 div.sk-toggleable {background-color: white;}#sk-container-id-3 label.sk-toggleable__label {cursor: pointer;display: block;width: 100%;margin-bottom: 0;padding: 0.3em;box-sizing: border-box;text-align: center;}#sk-container-id-3 label.sk-toggleable__label-arrow:before {content: \"▸\";float: left;margin-right: 0.25em;color: #696969;}#sk-container-id-3 label.sk-toggleable__label-arrow:hover:before {color: black;}#sk-container-id-3 div.sk-estimator:hover label.sk-toggleable__label-arrow:before {color: black;}#sk-container-id-3 div.sk-toggleable__content {max-height: 0;max-width: 0;overflow: hidden;text-align: left;background-color: #f0f8ff;}#sk-container-id-3 div.sk-toggleable__content pre {margin: 0.2em;color: black;border-radius: 0.25em;background-color: #f0f8ff;}#sk-container-id-3 input.sk-toggleable__control:checked~div.sk-toggleable__content {max-height: 200px;max-width: 100%;overflow: auto;}#sk-container-id-3 input.sk-toggleable__control:checked~label.sk-toggleable__label-arrow:before {content: \"▾\";}#sk-container-id-3 div.sk-estimator input.sk-toggleable__control:checked~label.sk-toggleable__label {background-color: #d4ebff;}#sk-container-id-3 div.sk-label input.sk-toggleable__control:checked~label.sk-toggleable__label {background-color: #d4ebff;}#sk-container-id-3 input.sk-hidden--visually {border: 0;clip: rect(1px 1px 1px 1px);clip: rect(1px, 1px, 1px, 1px);height: 1px;margin: -1px;overflow: hidden;padding: 0;position: absolute;width: 1px;}#sk-container-id-3 div.sk-estimator {font-family: monospace;background-color: #f0f8ff;border: 1px dotted black;border-radius: 0.25em;box-sizing: border-box;margin-bottom: 0.5em;}#sk-container-id-3 div.sk-estimator:hover {background-color: #d4ebff;}#sk-container-id-3 div.sk-parallel-item::after {content: \"\";width: 100%;border-bottom: 1px solid gray;flex-grow: 1;}#sk-container-id-3 div.sk-label:hover label.sk-toggleable__label {background-color: #d4ebff;}#sk-container-id-3 div.sk-serial::before {content: \"\";position: absolute;border-left: 1px solid gray;box-sizing: border-box;top: 0;bottom: 0;left: 50%;z-index: 0;}#sk-container-id-3 div.sk-serial {display: flex;flex-direction: column;align-items: center;background-color: white;padding-right: 0.2em;padding-left: 0.2em;position: relative;}#sk-container-id-3 div.sk-item {position: relative;z-index: 1;}#sk-container-id-3 div.sk-parallel {display: flex;align-items: stretch;justify-content: center;background-color: white;position: relative;}#sk-container-id-3 div.sk-item::before, #sk-container-id-3 div.sk-parallel-item::before {content: \"\";position: absolute;border-left: 1px solid gray;box-sizing: border-box;top: 0;bottom: 0;left: 50%;z-index: -1;}#sk-container-id-3 div.sk-parallel-item {display: flex;flex-direction: column;z-index: 1;position: relative;background-color: white;}#sk-container-id-3 div.sk-parallel-item:first-child::after {align-self: flex-end;width: 50%;}#sk-container-id-3 div.sk-parallel-item:last-child::after {align-self: flex-start;width: 50%;}#sk-container-id-3 div.sk-parallel-item:only-child::after {width: 0;}#sk-container-id-3 div.sk-dashed-wrapped {border: 1px dashed gray;margin: 0 0.4em 0.5em 0.4em;box-sizing: border-box;padding-bottom: 0.4em;background-color: white;}#sk-container-id-3 div.sk-label label {font-family: monospace;font-weight: bold;display: inline-block;line-height: 1.2em;}#sk-container-id-3 div.sk-label-container {text-align: center;}#sk-container-id-3 div.sk-container {/* jupyter's `normalize.less` sets `[hidden] { display: none; }` but bootstrap.min.css set `[hidden] { display: none !important; }` so we also need the `!important` here to be able to override the default hidden behavior on the sphinx rendered scikit-learn.org. See: https://github.com/scikit-learn/scikit-learn/issues/21755 */display: inline-block !important;position: relative;}#sk-container-id-3 div.sk-text-repr-fallback {display: none;}</style><div id=\"sk-container-id-3\" class=\"sk-top-container\"><div class=\"sk-text-repr-fallback\"><pre>GridSearchCV(cv=5, estimator=ElasticNet(), n_jobs=-1,\n             param_grid={&#x27;alpha&#x27;: array([1.000000e-05, 1.000001e+01, 2.000001e+01, 3.000001e+01,\n       4.000001e+01, 5.000001e+01, 6.000001e+01, 7.000001e+01,\n       8.000001e+01, 9.000001e+01]),\n                         &#x27;l1_ratio&#x27;: array([0.  , 0.01, 0.02, 0.03, 0.04, 0.05, 0.06, 0.07, 0.08, 0.09, 0.1 ,\n       0.11, 0.12, 0.13, 0.14, 0.15, 0.16, 0.17, 0.18, 0.19, 0.2 , 0.21,\n       0.22, 0.23, 0.24, 0...\n       0.33, 0.34, 0.35, 0.36, 0.37, 0.38, 0.39, 0.4 , 0.41, 0.42, 0.43,\n       0.44, 0.45, 0.46, 0.47, 0.48, 0.49, 0.5 , 0.51, 0.52, 0.53, 0.54,\n       0.55, 0.56, 0.57, 0.58, 0.59, 0.6 , 0.61, 0.62, 0.63, 0.64, 0.65,\n       0.66, 0.67, 0.68, 0.69, 0.7 , 0.71, 0.72, 0.73, 0.74, 0.75, 0.76,\n       0.77, 0.78, 0.79, 0.8 , 0.81, 0.82, 0.83, 0.84, 0.85, 0.86, 0.87,\n       0.88, 0.89, 0.9 , 0.91, 0.92, 0.93, 0.94, 0.95, 0.96, 0.97, 0.98,\n       0.99])},\n             scoring=&#x27;neg_mean_squared_error&#x27;)</pre><b>In a Jupyter environment, please rerun this cell to show the HTML representation or trust the notebook. <br />On GitHub, the HTML representation is unable to render, please try loading this page with nbviewer.org.</b></div><div class=\"sk-container\" hidden><div class=\"sk-item sk-dashed-wrapped\"><div class=\"sk-label-container\"><div class=\"sk-label sk-toggleable\"><input class=\"sk-toggleable__control sk-hidden--visually\" id=\"sk-estimator-id-7\" type=\"checkbox\" ><label for=\"sk-estimator-id-7\" class=\"sk-toggleable__label sk-toggleable__label-arrow\">GridSearchCV</label><div class=\"sk-toggleable__content\"><pre>GridSearchCV(cv=5, estimator=ElasticNet(), n_jobs=-1,\n             param_grid={&#x27;alpha&#x27;: array([1.000000e-05, 1.000001e+01, 2.000001e+01, 3.000001e+01,\n       4.000001e+01, 5.000001e+01, 6.000001e+01, 7.000001e+01,\n       8.000001e+01, 9.000001e+01]),\n                         &#x27;l1_ratio&#x27;: array([0.  , 0.01, 0.02, 0.03, 0.04, 0.05, 0.06, 0.07, 0.08, 0.09, 0.1 ,\n       0.11, 0.12, 0.13, 0.14, 0.15, 0.16, 0.17, 0.18, 0.19, 0.2 , 0.21,\n       0.22, 0.23, 0.24, 0...\n       0.33, 0.34, 0.35, 0.36, 0.37, 0.38, 0.39, 0.4 , 0.41, 0.42, 0.43,\n       0.44, 0.45, 0.46, 0.47, 0.48, 0.49, 0.5 , 0.51, 0.52, 0.53, 0.54,\n       0.55, 0.56, 0.57, 0.58, 0.59, 0.6 , 0.61, 0.62, 0.63, 0.64, 0.65,\n       0.66, 0.67, 0.68, 0.69, 0.7 , 0.71, 0.72, 0.73, 0.74, 0.75, 0.76,\n       0.77, 0.78, 0.79, 0.8 , 0.81, 0.82, 0.83, 0.84, 0.85, 0.86, 0.87,\n       0.88, 0.89, 0.9 , 0.91, 0.92, 0.93, 0.94, 0.95, 0.96, 0.97, 0.98,\n       0.99])},\n             scoring=&#x27;neg_mean_squared_error&#x27;)</pre></div></div></div><div class=\"sk-parallel\"><div class=\"sk-parallel-item\"><div class=\"sk-item\"><div class=\"sk-label-container\"><div class=\"sk-label sk-toggleable\"><input class=\"sk-toggleable__control sk-hidden--visually\" id=\"sk-estimator-id-8\" type=\"checkbox\" ><label for=\"sk-estimator-id-8\" class=\"sk-toggleable__label sk-toggleable__label-arrow\">estimator: ElasticNet</label><div class=\"sk-toggleable__content\"><pre>ElasticNet()</pre></div></div></div><div class=\"sk-serial\"><div class=\"sk-item\"><div class=\"sk-estimator sk-toggleable\"><input class=\"sk-toggleable__control sk-hidden--visually\" id=\"sk-estimator-id-9\" type=\"checkbox\" ><label for=\"sk-estimator-id-9\" class=\"sk-toggleable__label sk-toggleable__label-arrow\">ElasticNet</label><div class=\"sk-toggleable__content\"><pre>ElasticNet()</pre></div></div></div></div></div></div></div></div></div></div>"
     },
     "execution_count": 24,
     "metadata": {},
     "output_type": "execute_result"
    }
   ],
   "source": [
    "from sklearn.linear_model import ElasticNet\n",
    "from numpy import arange\n",
    "\n",
    "e_net = ElasticNet(alpha=1.0, l1_ratio=0.5)\n",
    "\n",
    "e_net_parameters = dict()\n",
    "e_net_parameters['alpha'] = arange(1e-5, 100.0, 10)\n",
    "e_net_parameters['l1_ratio'] = arange(0, 1, 0.01)\n",
    "\n",
    "e_net_regressor = GridSearchCV(e_net, e_net_parameters, scoring='neg_mean_squared_error', cv = 5, n_jobs=-1)\n",
    "\n",
    "e_net_regressor.fit(X, y)"
   ]
  },
  {
   "cell_type": "markdown",
   "metadata": {},
   "source": [
    "**Best_params:** Parameter setting that gave the best results on the hold out data."
   ]
  },
  {
   "cell_type": "code",
   "execution_count": 25,
   "metadata": {},
   "outputs": [
    {
     "data": {
      "text/plain": "{'alpha': 10.00001, 'l1_ratio': 0.13}"
     },
     "execution_count": 25,
     "metadata": {},
     "output_type": "execute_result"
    }
   ],
   "source": [
    "e_net_regressor.best_params_"
   ]
  },
  {
   "cell_type": "markdown",
   "metadata": {},
   "source": [
    "**Best_score:** Mean cross-validated score of the best_estimator. Usually MSE given in negative value."
   ]
  },
  {
   "cell_type": "code",
   "execution_count": 26,
   "metadata": {},
   "outputs": [
    {
     "data": {
      "text/plain": "-3.0555937751425466"
     },
     "execution_count": 26,
     "metadata": {},
     "output_type": "execute_result"
    }
   ],
   "source": [
    "e_net_regressor.best_score_"
   ]
  }
 ],
 "metadata": {
  "kernelspec": {
   "display_name": "Python 3",
   "language": "python",
   "name": "python3"
  },
  "language_info": {
   "codemirror_mode": {
    "name": "ipython",
    "version": 3
   },
   "file_extension": ".py",
   "mimetype": "text/x-python",
   "name": "python",
   "nbconvert_exporter": "python",
   "pygments_lexer": "ipython3",
   "version": "3.8.5"
  }
 },
 "nbformat": 4,
 "nbformat_minor": 2
}
