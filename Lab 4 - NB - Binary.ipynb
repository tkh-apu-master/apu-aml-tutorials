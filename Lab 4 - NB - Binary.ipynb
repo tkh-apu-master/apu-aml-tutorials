{
 "nbformat": 4,
 "nbformat_minor": 0,
 "metadata": {
  "colab": {
   "provenance": []
  },
  "kernelspec": {
   "display_name": "Python 3",
   "language": "python",
   "name": "python3"
  },
  "language_info": {
   "codemirror_mode": {
    "name": "ipython",
    "version": 3
   },
   "file_extension": ".py",
   "mimetype": "text/x-python",
   "name": "python",
   "nbconvert_exporter": "python",
   "pygments_lexer": "ipython3",
   "version": "3.8.5"
  }
 },
 "cells": [
  {
   "cell_type": "markdown",
   "metadata": {
    "id": "hjArIeeKS8zw"
   },
   "source": [
    "# NB - Binary"
   ]
  },
  {
   "cell_type": "code",
   "metadata": {
    "id": "at34lZPkuPoh",
    "executionInfo": {
     "status": "ok",
     "timestamp": 1685450831653,
     "user_tz": -480,
     "elapsed": 1082,
     "user": {
      "displayName": "Mafas Raheem",
      "userId": "12120855316598159613"
     }
    },
    "ExecuteTime": {
     "end_time": "2023-07-06T12:03:57.716011Z",
     "start_time": "2023-07-06T12:03:57.163834Z"
    }
   },
   "source": [
    "import numpy as np\n",
    "import matplotlib.pyplot as plt\n",
    "import pandas as pd\n",
    "import seaborn as sns\n",
    "from sklearn.naive_bayes import MultinomialNB\n",
    "from sklearn.metrics import classification_report, confusion_matrix, accuracy_score\n",
    "\n",
    "import warnings\n",
    "warnings.filterwarnings(\"ignore\")"
   ],
   "execution_count": 1,
   "outputs": []
  },
  {
   "cell_type": "code",
   "metadata": {
    "id": "cRi3SUtmuPor",
    "executionInfo": {
     "status": "ok",
     "timestamp": 1685450749329,
     "user_tz": -480,
     "elapsed": 8,
     "user": {
      "displayName": "Mafas Raheem",
      "userId": "12120855316598159613"
     }
    },
    "ExecuteTime": {
     "end_time": "2023-07-06T12:03:57.720132Z",
     "start_time": "2023-07-06T12:03:57.716505Z"
    }
   },
   "source": [
    "data = pd.read_csv('diabetes.csv')"
   ],
   "execution_count": 2,
   "outputs": []
  },
  {
   "cell_type": "code",
   "metadata": {
    "colab": {
     "base_uri": "https://localhost:8080/",
     "height": 206
    },
    "id": "uZJzgyEjuPos",
    "outputId": "f88ccdf5-4412-4db7-b389-db0fdf5e1347",
    "executionInfo": {
     "status": "ok",
     "timestamp": 1685450750854,
     "user_tz": -480,
     "elapsed": 655,
     "user": {
      "displayName": "Mafas Raheem",
      "userId": "12120855316598159613"
     }
    },
    "ExecuteTime": {
     "end_time": "2023-07-06T12:03:57.727011Z",
     "start_time": "2023-07-06T12:03:57.721848Z"
    }
   },
   "source": [
    "data.head()"
   ],
   "execution_count": 3,
   "outputs": [
    {
     "data": {
      "text/plain": "   Pregnancies  Glucose  BloodPressure  SkinThickness  Insulin   BMI  \\\n0            6      148             72             35        0  33.6   \n1            1       85             66             29        0  26.6   \n2            8      183             64              0        0  23.3   \n3            1       89             66             23       94  28.1   \n4            0      137             40             35      168  43.1   \n\n   DiabetesPedigreeFunction  Age  Outcome  \n0                     0.627   50        1  \n1                     0.351   31        0  \n2                     0.672   32        1  \n3                     0.167   21        0  \n4                     2.288   33        1  ",
      "text/html": "<div>\n<style scoped>\n    .dataframe tbody tr th:only-of-type {\n        vertical-align: middle;\n    }\n\n    .dataframe tbody tr th {\n        vertical-align: top;\n    }\n\n    .dataframe thead th {\n        text-align: right;\n    }\n</style>\n<table border=\"1\" class=\"dataframe\">\n  <thead>\n    <tr style=\"text-align: right;\">\n      <th></th>\n      <th>Pregnancies</th>\n      <th>Glucose</th>\n      <th>BloodPressure</th>\n      <th>SkinThickness</th>\n      <th>Insulin</th>\n      <th>BMI</th>\n      <th>DiabetesPedigreeFunction</th>\n      <th>Age</th>\n      <th>Outcome</th>\n    </tr>\n  </thead>\n  <tbody>\n    <tr>\n      <th>0</th>\n      <td>6</td>\n      <td>148</td>\n      <td>72</td>\n      <td>35</td>\n      <td>0</td>\n      <td>33.6</td>\n      <td>0.627</td>\n      <td>50</td>\n      <td>1</td>\n    </tr>\n    <tr>\n      <th>1</th>\n      <td>1</td>\n      <td>85</td>\n      <td>66</td>\n      <td>29</td>\n      <td>0</td>\n      <td>26.6</td>\n      <td>0.351</td>\n      <td>31</td>\n      <td>0</td>\n    </tr>\n    <tr>\n      <th>2</th>\n      <td>8</td>\n      <td>183</td>\n      <td>64</td>\n      <td>0</td>\n      <td>0</td>\n      <td>23.3</td>\n      <td>0.672</td>\n      <td>32</td>\n      <td>1</td>\n    </tr>\n    <tr>\n      <th>3</th>\n      <td>1</td>\n      <td>89</td>\n      <td>66</td>\n      <td>23</td>\n      <td>94</td>\n      <td>28.1</td>\n      <td>0.167</td>\n      <td>21</td>\n      <td>0</td>\n    </tr>\n    <tr>\n      <th>4</th>\n      <td>0</td>\n      <td>137</td>\n      <td>40</td>\n      <td>35</td>\n      <td>168</td>\n      <td>43.1</td>\n      <td>2.288</td>\n      <td>33</td>\n      <td>1</td>\n    </tr>\n  </tbody>\n</table>\n</div>"
     },
     "execution_count": 3,
     "metadata": {},
     "output_type": "execute_result"
    }
   ]
  },
  {
   "cell_type": "code",
   "metadata": {
    "colab": {
     "base_uri": "https://localhost:8080/"
    },
    "id": "doQxvt7WuPov",
    "outputId": "f2c40f95-760f-4dd7-9c95-3b6ace671cdb",
    "executionInfo": {
     "status": "ok",
     "timestamp": 1685450756359,
     "user_tz": -480,
     "elapsed": 1209,
     "user": {
      "displayName": "Mafas Raheem",
      "userId": "12120855316598159613"
     }
    },
    "ExecuteTime": {
     "end_time": "2023-07-06T12:03:57.731458Z",
     "start_time": "2023-07-06T12:03:57.729494Z"
    }
   },
   "source": [
    "data.shape"
   ],
   "execution_count": 4,
   "outputs": [
    {
     "data": {
      "text/plain": "(768, 9)"
     },
     "execution_count": 4,
     "metadata": {},
     "output_type": "execute_result"
    }
   ]
  },
  {
   "cell_type": "code",
   "metadata": {
    "colab": {
     "base_uri": "https://localhost:8080/",
     "height": 300
    },
    "id": "lZX57_TPuPow",
    "outputId": "99b4c967-8e9e-459b-9a28-9488feccf1f5",
    "executionInfo": {
     "status": "ok",
     "timestamp": 1685450758547,
     "user_tz": -480,
     "elapsed": 6,
     "user": {
      "displayName": "Mafas Raheem",
      "userId": "12120855316598159613"
     }
    },
    "ExecuteTime": {
     "end_time": "2023-07-06T12:03:57.755754Z",
     "start_time": "2023-07-06T12:03:57.731688Z"
    }
   },
   "source": [
    "data.describe()"
   ],
   "execution_count": 5,
   "outputs": [
    {
     "data": {
      "text/plain": "       Pregnancies     Glucose  BloodPressure  SkinThickness     Insulin  \\\ncount   768.000000  768.000000     768.000000     768.000000  768.000000   \nmean      3.845052  120.894531      69.105469      20.536458   79.799479   \nstd       3.369578   31.972618      19.355807      15.952218  115.244002   \nmin       0.000000    0.000000       0.000000       0.000000    0.000000   \n25%       1.000000   99.000000      62.000000       0.000000    0.000000   \n50%       3.000000  117.000000      72.000000      23.000000   30.500000   \n75%       6.000000  140.250000      80.000000      32.000000  127.250000   \nmax      17.000000  199.000000     122.000000      99.000000  846.000000   \n\n              BMI  DiabetesPedigreeFunction         Age     Outcome  \ncount  768.000000                768.000000  768.000000  768.000000  \nmean    31.992578                  0.471876   33.240885    0.348958  \nstd      7.884160                  0.331329   11.760232    0.476951  \nmin      0.000000                  0.078000   21.000000    0.000000  \n25%     27.300000                  0.243750   24.000000    0.000000  \n50%     32.000000                  0.372500   29.000000    0.000000  \n75%     36.600000                  0.626250   41.000000    1.000000  \nmax     67.100000                  2.420000   81.000000    1.000000  ",
      "text/html": "<div>\n<style scoped>\n    .dataframe tbody tr th:only-of-type {\n        vertical-align: middle;\n    }\n\n    .dataframe tbody tr th {\n        vertical-align: top;\n    }\n\n    .dataframe thead th {\n        text-align: right;\n    }\n</style>\n<table border=\"1\" class=\"dataframe\">\n  <thead>\n    <tr style=\"text-align: right;\">\n      <th></th>\n      <th>Pregnancies</th>\n      <th>Glucose</th>\n      <th>BloodPressure</th>\n      <th>SkinThickness</th>\n      <th>Insulin</th>\n      <th>BMI</th>\n      <th>DiabetesPedigreeFunction</th>\n      <th>Age</th>\n      <th>Outcome</th>\n    </tr>\n  </thead>\n  <tbody>\n    <tr>\n      <th>count</th>\n      <td>768.000000</td>\n      <td>768.000000</td>\n      <td>768.000000</td>\n      <td>768.000000</td>\n      <td>768.000000</td>\n      <td>768.000000</td>\n      <td>768.000000</td>\n      <td>768.000000</td>\n      <td>768.000000</td>\n    </tr>\n    <tr>\n      <th>mean</th>\n      <td>3.845052</td>\n      <td>120.894531</td>\n      <td>69.105469</td>\n      <td>20.536458</td>\n      <td>79.799479</td>\n      <td>31.992578</td>\n      <td>0.471876</td>\n      <td>33.240885</td>\n      <td>0.348958</td>\n    </tr>\n    <tr>\n      <th>std</th>\n      <td>3.369578</td>\n      <td>31.972618</td>\n      <td>19.355807</td>\n      <td>15.952218</td>\n      <td>115.244002</td>\n      <td>7.884160</td>\n      <td>0.331329</td>\n      <td>11.760232</td>\n      <td>0.476951</td>\n    </tr>\n    <tr>\n      <th>min</th>\n      <td>0.000000</td>\n      <td>0.000000</td>\n      <td>0.000000</td>\n      <td>0.000000</td>\n      <td>0.000000</td>\n      <td>0.000000</td>\n      <td>0.078000</td>\n      <td>21.000000</td>\n      <td>0.000000</td>\n    </tr>\n    <tr>\n      <th>25%</th>\n      <td>1.000000</td>\n      <td>99.000000</td>\n      <td>62.000000</td>\n      <td>0.000000</td>\n      <td>0.000000</td>\n      <td>27.300000</td>\n      <td>0.243750</td>\n      <td>24.000000</td>\n      <td>0.000000</td>\n    </tr>\n    <tr>\n      <th>50%</th>\n      <td>3.000000</td>\n      <td>117.000000</td>\n      <td>72.000000</td>\n      <td>23.000000</td>\n      <td>30.500000</td>\n      <td>32.000000</td>\n      <td>0.372500</td>\n      <td>29.000000</td>\n      <td>0.000000</td>\n    </tr>\n    <tr>\n      <th>75%</th>\n      <td>6.000000</td>\n      <td>140.250000</td>\n      <td>80.000000</td>\n      <td>32.000000</td>\n      <td>127.250000</td>\n      <td>36.600000</td>\n      <td>0.626250</td>\n      <td>41.000000</td>\n      <td>1.000000</td>\n    </tr>\n    <tr>\n      <th>max</th>\n      <td>17.000000</td>\n      <td>199.000000</td>\n      <td>122.000000</td>\n      <td>99.000000</td>\n      <td>846.000000</td>\n      <td>67.100000</td>\n      <td>2.420000</td>\n      <td>81.000000</td>\n      <td>1.000000</td>\n    </tr>\n  </tbody>\n</table>\n</div>"
     },
     "execution_count": 5,
     "metadata": {},
     "output_type": "execute_result"
    }
   ]
  },
  {
   "cell_type": "code",
   "metadata": {
    "colab": {
     "base_uri": "https://localhost:8080/"
    },
    "id": "IJku9zsQuPox",
    "outputId": "c709a867-f8e3-47cc-98ab-a689a185ba56",
    "executionInfo": {
     "status": "ok",
     "timestamp": 1685450762718,
     "user_tz": -480,
     "elapsed": 3,
     "user": {
      "displayName": "Mafas Raheem",
      "userId": "12120855316598159613"
     }
    },
    "ExecuteTime": {
     "end_time": "2023-07-06T12:03:57.756969Z",
     "start_time": "2023-07-06T12:03:57.743836Z"
    }
   },
   "source": [
    "data.isnull().sum()"
   ],
   "execution_count": 6,
   "outputs": [
    {
     "data": {
      "text/plain": "Pregnancies                 0\nGlucose                     0\nBloodPressure               0\nSkinThickness               0\nInsulin                     0\nBMI                         0\nDiabetesPedigreeFunction    0\nAge                         0\nOutcome                     0\ndtype: int64"
     },
     "execution_count": 6,
     "metadata": {},
     "output_type": "execute_result"
    }
   ]
  },
  {
   "cell_type": "code",
   "metadata": {
    "colab": {
     "base_uri": "https://localhost:8080/"
    },
    "id": "g2dkxRpCuPo_",
    "outputId": "2f8cd36c-5f68-41f2-c972-3f63c625aa17",
    "executionInfo": {
     "status": "ok",
     "timestamp": 1685450764441,
     "user_tz": -480,
     "elapsed": 2,
     "user": {
      "displayName": "Mafas Raheem",
      "userId": "12120855316598159613"
     }
    },
    "ExecuteTime": {
     "end_time": "2023-07-06T12:03:57.772639Z",
     "start_time": "2023-07-06T12:03:57.747532Z"
    }
   },
   "source": [
    "data['Outcome'].value_counts()"
   ],
   "execution_count": 7,
   "outputs": [
    {
     "data": {
      "text/plain": "Outcome\n0    500\n1    268\nName: count, dtype: int64"
     },
     "execution_count": 7,
     "metadata": {},
     "output_type": "execute_result"
    }
   ]
  },
  {
   "cell_type": "code",
   "metadata": {
    "colab": {
     "base_uri": "https://localhost:8080/",
     "height": 466
    },
    "id": "KpjoF-GVuPpB",
    "outputId": "ca279dc9-6d9f-4669-cc6a-03789f72c440",
    "executionInfo": {
     "status": "ok",
     "timestamp": 1685450766947,
     "user_tz": -480,
     "elapsed": 6,
     "user": {
      "displayName": "Mafas Raheem",
      "userId": "12120855316598159613"
     }
    },
    "ExecuteTime": {
     "end_time": "2023-07-06T12:03:57.840949Z",
     "start_time": "2023-07-06T12:03:57.751544Z"
    }
   },
   "source": [
    "# class distribution \n",
    "data['Outcome'].value_counts()\n",
    "sns.countplot(x='Outcome', data=data, palette='hls')\n",
    "plt.show()\n",
    "plt.savefig('Outcome')"
   ],
   "execution_count": 8,
   "outputs": [
    {
     "data": {
      "text/plain": "<Figure size 640x480 with 1 Axes>",
      "image/png": "[encoded data removed]"
     },
     "metadata": {},
     "output_type": "display_data"
    },
    {
     "data": {
      "text/plain": "<Figure size 640x480 with 0 Axes>"
     },
     "metadata": {},
     "output_type": "display_data"
    }
   ]
  },
  {
   "cell_type": "code",
   "metadata": {
    "id": "ZYaM3ZqzuPpB",
    "executionInfo": {
     "status": "ok",
     "timestamp": 1685451293256,
     "user_tz": -480,
     "elapsed": 437,
     "user": {
      "displayName": "Mafas Raheem",
      "userId": "12120855316598159613"
     }
    },
    "ExecuteTime": {
     "end_time": "2023-07-06T12:03:57.841894Z",
     "start_time": "2023-07-06T12:03:57.829849Z"
    }
   },
   "source": [
    "X = data.drop('Outcome', axis=1)\n",
    "y = data['Outcome']"
   ],
   "execution_count": 9,
   "outputs": []
  },
  {
   "cell_type": "code",
   "metadata": {
    "colab": {
     "base_uri": "https://localhost:8080/"
    },
    "id": "rn49vkE1uPpC",
    "outputId": "64e147f1-6d29-4f66-ac32-14dd53bc4068",
    "executionInfo": {
     "status": "ok",
     "timestamp": 1685451290493,
     "user_tz": -480,
     "elapsed": 1038,
     "user": {
      "displayName": "Mafas Raheem",
      "userId": "12120855316598159613"
     }
    },
    "ExecuteTime": {
     "end_time": "2023-07-06T12:03:57.842243Z",
     "start_time": "2023-07-06T12:03:57.833477Z"
    }
   },
   "source": [
    "y.head()"
   ],
   "execution_count": 10,
   "outputs": [
    {
     "data": {
      "text/plain": "0    1\n1    0\n2    1\n3    0\n4    1\nName: Outcome, dtype: int64"
     },
     "execution_count": 10,
     "metadata": {},
     "output_type": "execute_result"
    }
   ]
  },
  {
   "cell_type": "code",
   "metadata": {
    "id": "bd5FqD9huPpD",
    "executionInfo": {
     "status": "ok",
     "timestamp": 1685451295361,
     "user_tz": -480,
     "elapsed": 1,
     "user": {
      "displayName": "Mafas Raheem",
      "userId": "12120855316598159613"
     }
    },
    "ExecuteTime": {
     "end_time": "2023-07-06T12:03:57.911744Z",
     "start_time": "2023-07-06T12:03:57.837033Z"
    }
   },
   "source": [
    "from sklearn.model_selection import train_test_split\n",
    "X_train, X_test, y_train, y_test = train_test_split(X, y, test_size = 0.20, random_state=0)"
   ],
   "execution_count": 11,
   "outputs": []
  },
  {
   "cell_type": "code",
   "metadata": {
    "colab": {
     "base_uri": "https://localhost:8080/",
     "height": 206
    },
    "id": "ZBA4r_7MuPpD",
    "outputId": "cb84cd99-dd0e-4de3-e83f-306e9881d920",
    "executionInfo": {
     "status": "ok",
     "timestamp": 1685451297456,
     "user_tz": -480,
     "elapsed": 3,
     "user": {
      "displayName": "Mafas Raheem",
      "userId": "12120855316598159613"
     }
    },
    "ExecuteTime": {
     "end_time": "2023-07-06T12:03:57.913709Z",
     "start_time": "2023-07-06T12:03:57.864890Z"
    }
   },
   "source": [
    "X_test[0:5]"
   ],
   "execution_count": 12,
   "outputs": [
    {
     "data": {
      "text/plain": "     Pregnancies  Glucose  BloodPressure  SkinThickness  Insulin   BMI  \\\n661            1      199             76             43        0  42.9   \n122            2      107             74             30      100  33.6   \n113            4       76             62              0        0  34.0   \n14             5      166             72             19      175  25.8   \n529            0      111             65              0        0  24.6   \n\n     DiabetesPedigreeFunction  Age  \n661                     1.394   22  \n122                     0.404   23  \n113                     0.391   25  \n14                      0.587   51  \n529                     0.660   31  ",
      "text/html": "<div>\n<style scoped>\n    .dataframe tbody tr th:only-of-type {\n        vertical-align: middle;\n    }\n\n    .dataframe tbody tr th {\n        vertical-align: top;\n    }\n\n    .dataframe thead th {\n        text-align: right;\n    }\n</style>\n<table border=\"1\" class=\"dataframe\">\n  <thead>\n    <tr style=\"text-align: right;\">\n      <th></th>\n      <th>Pregnancies</th>\n      <th>Glucose</th>\n      <th>BloodPressure</th>\n      <th>SkinThickness</th>\n      <th>Insulin</th>\n      <th>BMI</th>\n      <th>DiabetesPedigreeFunction</th>\n      <th>Age</th>\n    </tr>\n  </thead>\n  <tbody>\n    <tr>\n      <th>661</th>\n      <td>1</td>\n      <td>199</td>\n      <td>76</td>\n      <td>43</td>\n      <td>0</td>\n      <td>42.9</td>\n      <td>1.394</td>\n      <td>22</td>\n    </tr>\n    <tr>\n      <th>122</th>\n      <td>2</td>\n      <td>107</td>\n      <td>74</td>\n      <td>30</td>\n      <td>100</td>\n      <td>33.6</td>\n      <td>0.404</td>\n      <td>23</td>\n    </tr>\n    <tr>\n      <th>113</th>\n      <td>4</td>\n      <td>76</td>\n      <td>62</td>\n      <td>0</td>\n      <td>0</td>\n      <td>34.0</td>\n      <td>0.391</td>\n      <td>25</td>\n    </tr>\n    <tr>\n      <th>14</th>\n      <td>5</td>\n      <td>166</td>\n      <td>72</td>\n      <td>19</td>\n      <td>175</td>\n      <td>25.8</td>\n      <td>0.587</td>\n      <td>51</td>\n    </tr>\n    <tr>\n      <th>529</th>\n      <td>0</td>\n      <td>111</td>\n      <td>65</td>\n      <td>0</td>\n      <td>0</td>\n      <td>24.6</td>\n      <td>0.660</td>\n      <td>31</td>\n    </tr>\n  </tbody>\n</table>\n</div>"
     },
     "execution_count": 12,
     "metadata": {},
     "output_type": "execute_result"
    }
   ]
  },
  {
   "cell_type": "code",
   "metadata": {
    "colab": {
     "base_uri": "https://localhost:8080/"
    },
    "id": "kJMYg2J6uPpE",
    "outputId": "774a7fc4-d641-4bee-db21-7a4abd8e21e6",
    "executionInfo": {
     "status": "ok",
     "timestamp": 1685451303794,
     "user_tz": -480,
     "elapsed": 1239,
     "user": {
      "displayName": "Mafas Raheem",
      "userId": "12120855316598159613"
     }
    },
    "ExecuteTime": {
     "end_time": "2023-07-06T12:03:57.914009Z",
     "start_time": "2023-07-06T12:03:57.868328Z"
    }
   },
   "source": [
    "y_test.head()"
   ],
   "execution_count": 13,
   "outputs": [
    {
     "data": {
      "text/plain": "661    1\n122    0\n113    0\n14     1\n529    0\nName: Outcome, dtype: int64"
     },
     "execution_count": 13,
     "metadata": {},
     "output_type": "execute_result"
    }
   ]
  },
  {
   "cell_type": "markdown",
   "metadata": {
    "id": "09Nl_mKfxCt2"
   },
   "source": [
    "**NB**"
   ]
  },
  {
   "cell_type": "code",
   "metadata": {
    "colab": {
     "base_uri": "https://localhost:8080/"
    },
    "id": "KlTDqtcZwtha",
    "outputId": "9b6c7b0a-9464-4552-b514-999dce327c79",
    "executionInfo": {
     "status": "ok",
     "timestamp": 1685451306288,
     "user_tz": -480,
     "elapsed": 3,
     "user": {
      "displayName": "Mafas Raheem",
      "userId": "12120855316598159613"
     }
    },
    "ExecuteTime": {
     "end_time": "2023-07-06T12:03:57.915070Z",
     "start_time": "2023-07-06T12:03:57.872742Z"
    }
   },
   "source": [
    "mnb = MultinomialNB()\n",
    "mnb.fit(X_train, y_train)\n",
    "y_p = mnb.predict(X_test)\n",
    "acc = accuracy_score(y_test, y_p)*100\n",
    "print(\"NB - Accuracy: {:.3f}.\".format(acc))\n",
    "print(\"\\nClassification Report\")\n",
    "print(classification_report(y_test, y_p))"
   ],
   "execution_count": 14,
   "outputs": [
    {
     "name": "stdout",
     "output_type": "stream",
     "text": [
      "NB - Accuracy: 63.636.\n",
      "\n",
      "Classification Report\n",
      "              precision    recall  f1-score   support\n",
      "\n",
      "           0       0.75      0.71      0.73       107\n",
      "           1       0.42      0.47      0.44        47\n",
      "\n",
      "    accuracy                           0.64       154\n",
      "   macro avg       0.58      0.59      0.59       154\n",
      "weighted avg       0.65      0.64      0.64       154\n",
      "\n"
     ]
    }
   ]
  },
  {
   "cell_type": "markdown",
   "metadata": {
    "id": "FVJofZZAuPpG"
   },
   "source": [
    "**Class balancing**"
   ]
  },
  {
   "cell_type": "code",
   "metadata": {
    "colab": {
     "base_uri": "https://localhost:8080/",
     "height": 482
    },
    "id": "sBbYtz3ruPpH",
    "outputId": "4587b742-4d73-4678-9eed-4fc740c57bf8",
    "executionInfo": {
     "status": "ok",
     "timestamp": 1685451135568,
     "user_tz": -480,
     "elapsed": 1315,
     "user": {
      "displayName": "Mafas Raheem",
      "userId": "12120855316598159613"
     }
    },
    "ExecuteTime": {
     "end_time": "2023-07-06T12:03:58.686929Z",
     "start_time": "2023-07-06T12:03:57.880412Z"
    }
   },
   "source": [
    "from collections import Counter\n",
    "from imblearn.over_sampling import SMOTE\n",
    "X_b, y_b = SMOTE().fit_resample(X, y)\n",
    "\n",
    "plt.subplots(figsize=(5,5))\n",
    "sns.countplot(x=y_b)\n",
    "print(Counter(y_b))"
   ],
   "execution_count": 15,
   "outputs": [
    {
     "name": "stdout",
     "output_type": "stream",
     "text": [
      "Counter({1: 500, 0: 500})\n"
     ]
    },
    {
     "data": {
      "text/plain": "<Figure size 500x500 with 1 Axes>",
      "image/png": "[encoded data removed]"
     },
     "metadata": {},
     "output_type": "display_data"
    }
   ]
  },
  {
   "cell_type": "code",
   "metadata": {
    "id": "XYK6bzz3uPpH",
    "executionInfo": {
     "status": "ok",
     "timestamp": 1685451143953,
     "user_tz": -480,
     "elapsed": 586,
     "user": {
      "displayName": "Mafas Raheem",
      "userId": "12120855316598159613"
     }
    },
    "ExecuteTime": {
     "end_time": "2023-07-06T12:03:58.690279Z",
     "start_time": "2023-07-06T12:03:58.688783Z"
    }
   },
   "source": [
    "# Split the dataset into a test and training set\n",
    "X_tr, X_te, y_tr, y_te = train_test_split(X_b, y_b, test_size=0.2, random_state=0)"
   ],
   "execution_count": 16,
   "outputs": []
  },
  {
   "cell_type": "code",
   "metadata": {
    "colab": {
     "base_uri": "https://localhost:8080/"
    },
    "id": "aeXnyk6duPpI",
    "outputId": "3c695663-9d46-4691-b7e0-3eebed7370b1",
    "executionInfo": {
     "status": "ok",
     "timestamp": 1685451492754,
     "user_tz": -480,
     "elapsed": 450,
     "user": {
      "displayName": "Mafas Raheem",
      "userId": "12120855316598159613"
     }
    },
    "ExecuteTime": {
     "end_time": "2023-07-06T12:03:58.697817Z",
     "start_time": "2023-07-06T12:03:58.692294Z"
    }
   },
   "source": [
    "mnb_b = MultinomialNB()\n",
    "mnb_b.fit(X_tr, y_tr)\n",
    "y_p_b = mnb_b.predict(X_te)\n",
    "acc_1 = accuracy_score(y_te, y_p_b)*100\n",
    "print(\"NB - Accuracy: {:.3f}.\".format(acc_1))\n",
    "print(\"\\nClassification Report\")\n",
    "print(classification_report(y_te, y_p_b))"
   ],
   "execution_count": 17,
   "outputs": [
    {
     "name": "stdout",
     "output_type": "stream",
     "text": [
      "NB - Accuracy: 58.500.\n",
      "\n",
      "Classification Report\n",
      "              precision    recall  f1-score   support\n",
      "\n",
      "           0       0.59      0.68      0.63       105\n",
      "           1       0.57      0.48      0.53        95\n",
      "\n",
      "    accuracy                           0.58       200\n",
      "   macro avg       0.58      0.58      0.58       200\n",
      "weighted avg       0.58      0.58      0.58       200\n",
      "\n"
     ]
    }
   ]
  }
 ]
}
