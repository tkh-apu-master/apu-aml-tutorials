{
 "nbformat": 4,
 "nbformat_minor": 0,
 "metadata": {
  "kernelspec": {
   "display_name": "Python 3",
   "language": "python",
   "name": "python3"
  },
  "language_info": {
   "codemirror_mode": {
    "name": "ipython",
    "version": 3
   },
   "file_extension": ".py",
   "mimetype": "text/x-python",
   "name": "python",
   "nbconvert_exporter": "python",
   "pygments_lexer": "ipython3",
   "version": "3.8.5"
  },
  "colab": {
   "name": "OCDS - Lab 05.1 - Linear Regression_MLR.ipynb",
   "provenance": [],
   "collapsed_sections": []
  }
 },
 "cells": [
  {
   "cell_type": "markdown",
   "metadata": {
    "id": "UhnznhgFsepc"
   },
   "source": [
    "# Linear Regression_SLR ----------------------------"
   ]
  },
  {
   "cell_type": "code",
   "metadata": {
    "id": "OFIBMrVusepf",
    "colab": {
     "base_uri": "https://localhost:8080/"
    },
    "outputId": "1d5adcde-f487-424a-cd7a-1d76219bed5c",
    "ExecuteTime": {
     "end_time": "2023-06-17T08:40:54.034850Z",
     "start_time": "2023-06-17T08:40:53.971754Z"
    }
   },
   "source": [
    "#Importing the libraries\n",
    "import numpy as np\n",
    "import matplotlib.pyplot as plt\n",
    "import pandas as pd\n",
    "import statsmodels.api as sm"
   ],
   "execution_count": 52,
   "outputs": []
  },
  {
   "cell_type": "code",
   "metadata": {
    "id": "s7s9o5xNseph",
    "colab": {
     "base_uri": "https://localhost:8080/",
     "height": 226
    },
    "outputId": "1b477949-d21e-4145-bcd1-f3a43a7aeb4f",
    "ExecuteTime": {
     "end_time": "2023-06-17T09:13:36.569232Z",
     "start_time": "2023-06-17T09:13:36.525187Z"
    }
   },
   "source": [
    "# Importing the dataset\n",
    "dataset = pd.read_csv('kc_house_data.csv')\n",
    "dataset.head()"
   ],
   "execution_count": 73,
   "outputs": [
    {
     "data": {
      "text/plain": "           id             date     price  bedrooms  bathrooms  sqft_living  \\\n0  7129300520  20141013T000000  221900.0         3       1.00         1180   \n1  6414100192  20141209T000000  538000.0         3       2.25         2570   \n2  5631500400  20150225T000000  180000.0         2       1.00          770   \n3  2487200875  20141209T000000  604000.0         4       3.00         1960   \n4  1954400510  20150218T000000  510000.0         3       2.00         1680   \n\n   sqft_lot  floors  waterfront  view  ...  grade  sqft_above  sqft_basement  \\\n0      5650     1.0           0     0  ...      7        1180              0   \n1      7242     2.0           0     0  ...      7        2170            400   \n2     10000     1.0           0     0  ...      6         770              0   \n3      5000     1.0           0     0  ...      7        1050            910   \n4      8080     1.0           0     0  ...      8        1680              0   \n\n   yr_built  yr_renovated  zipcode      lat     long  sqft_living15  \\\n0      1955             0    98178  47.5112 -122.257           1340   \n1      1951          1991    98125  47.7210 -122.319           1690   \n2      1933             0    98028  47.7379 -122.233           2720   \n3      1965             0    98136  47.5208 -122.393           1360   \n4      1987             0    98074  47.6168 -122.045           1800   \n\n   sqft_lot15  \n0        5650  \n1        7639  \n2        8062  \n3        5000  \n4        7503  \n\n[5 rows x 21 columns]",
      "text/html": "<div>\n<style scoped>\n    .dataframe tbody tr th:only-of-type {\n        vertical-align: middle;\n    }\n\n    .dataframe tbody tr th {\n        vertical-align: top;\n    }\n\n    .dataframe thead th {\n        text-align: right;\n    }\n</style>\n<table border=\"1\" class=\"dataframe\">\n  <thead>\n    <tr style=\"text-align: right;\">\n      <th></th>\n      <th>id</th>\n      <th>date</th>\n      <th>price</th>\n      <th>bedrooms</th>\n      <th>bathrooms</th>\n      <th>sqft_living</th>\n      <th>sqft_lot</th>\n      <th>floors</th>\n      <th>waterfront</th>\n      <th>view</th>\n      <th>...</th>\n      <th>grade</th>\n      <th>sqft_above</th>\n      <th>sqft_basement</th>\n      <th>yr_built</th>\n      <th>yr_renovated</th>\n      <th>zipcode</th>\n      <th>lat</th>\n      <th>long</th>\n      <th>sqft_living15</th>\n      <th>sqft_lot15</th>\n    </tr>\n  </thead>\n  <tbody>\n    <tr>\n      <th>0</th>\n      <td>7129300520</td>\n      <td>20141013T000000</td>\n      <td>221900.0</td>\n      <td>3</td>\n      <td>1.00</td>\n      <td>1180</td>\n      <td>5650</td>\n      <td>1.0</td>\n      <td>0</td>\n      <td>0</td>\n      <td>...</td>\n      <td>7</td>\n      <td>1180</td>\n      <td>0</td>\n      <td>1955</td>\n      <td>0</td>\n      <td>98178</td>\n      <td>47.5112</td>\n      <td>-122.257</td>\n      <td>1340</td>\n      <td>5650</td>\n    </tr>\n    <tr>\n      <th>1</th>\n      <td>6414100192</td>\n      <td>20141209T000000</td>\n      <td>538000.0</td>\n      <td>3</td>\n      <td>2.25</td>\n      <td>2570</td>\n      <td>7242</td>\n      <td>2.0</td>\n      <td>0</td>\n      <td>0</td>\n      <td>...</td>\n      <td>7</td>\n      <td>2170</td>\n      <td>400</td>\n      <td>1951</td>\n      <td>1991</td>\n      <td>98125</td>\n      <td>47.7210</td>\n      <td>-122.319</td>\n      <td>1690</td>\n      <td>7639</td>\n    </tr>\n    <tr>\n      <th>2</th>\n      <td>5631500400</td>\n      <td>20150225T000000</td>\n      <td>180000.0</td>\n      <td>2</td>\n      <td>1.00</td>\n      <td>770</td>\n      <td>10000</td>\n      <td>1.0</td>\n      <td>0</td>\n      <td>0</td>\n      <td>...</td>\n      <td>6</td>\n      <td>770</td>\n      <td>0</td>\n      <td>1933</td>\n      <td>0</td>\n      <td>98028</td>\n      <td>47.7379</td>\n      <td>-122.233</td>\n      <td>2720</td>\n      <td>8062</td>\n    </tr>\n    <tr>\n      <th>3</th>\n      <td>2487200875</td>\n      <td>20141209T000000</td>\n      <td>604000.0</td>\n      <td>4</td>\n      <td>3.00</td>\n      <td>1960</td>\n      <td>5000</td>\n      <td>1.0</td>\n      <td>0</td>\n      <td>0</td>\n      <td>...</td>\n      <td>7</td>\n      <td>1050</td>\n      <td>910</td>\n      <td>1965</td>\n      <td>0</td>\n      <td>98136</td>\n      <td>47.5208</td>\n      <td>-122.393</td>\n      <td>1360</td>\n      <td>5000</td>\n    </tr>\n    <tr>\n      <th>4</th>\n      <td>1954400510</td>\n      <td>20150218T000000</td>\n      <td>510000.0</td>\n      <td>3</td>\n      <td>2.00</td>\n      <td>1680</td>\n      <td>8080</td>\n      <td>1.0</td>\n      <td>0</td>\n      <td>0</td>\n      <td>...</td>\n      <td>8</td>\n      <td>1680</td>\n      <td>0</td>\n      <td>1987</td>\n      <td>0</td>\n      <td>98074</td>\n      <td>47.6168</td>\n      <td>-122.045</td>\n      <td>1800</td>\n      <td>7503</td>\n    </tr>\n  </tbody>\n</table>\n<p>5 rows × 21 columns</p>\n</div>"
     },
     "execution_count": 73,
     "metadata": {},
     "output_type": "execute_result"
    }
   ]
  },
  {
   "cell_type": "code",
   "metadata": {
    "id": "DpAqxaLLsepi",
    "colab": {
     "base_uri": "https://localhost:8080/"
    },
    "outputId": "6f2c11a6-41b3-4ac9-e6ea-d56e88421b2e",
    "ExecuteTime": {
     "end_time": "2023-06-17T09:13:38.205466Z",
     "start_time": "2023-06-17T09:13:38.196867Z"
    }
   },
   "source": [
    "dataset.isnull().sum()"
   ],
   "execution_count": 74,
   "outputs": [
    {
     "data": {
      "text/plain": "id               0\ndate             0\nprice            0\nbedrooms         0\nbathrooms        0\nsqft_living      0\nsqft_lot         0\nfloors           0\nwaterfront       0\nview             0\ncondition        0\ngrade            0\nsqft_above       0\nsqft_basement    0\nyr_built         0\nyr_renovated     0\nzipcode          0\nlat              0\nlong             0\nsqft_living15    0\nsqft_lot15       0\ndtype: int64"
     },
     "execution_count": 74,
     "metadata": {},
     "output_type": "execute_result"
    }
   ]
  },
  {
   "cell_type": "code",
   "metadata": {
    "id": "xYhQy8O7sepj",
    "ExecuteTime": {
     "end_time": "2023-06-17T09:13:41.947814Z",
     "start_time": "2023-06-17T09:13:41.944313Z"
    }
   },
   "source": [
    "# Linear Regression\n",
    "from sklearn.linear_model import LinearRegression\n",
    "reg = LinearRegression()"
   ],
   "execution_count": 75,
   "outputs": []
  },
  {
   "cell_type": "code",
   "metadata": {
    "id": "MjziKhCQsepj",
    "ExecuteTime": {
     "end_time": "2023-06-17T09:13:54.824382Z",
     "start_time": "2023-06-17T09:13:54.812274Z"
    }
   },
   "source": [
    "x = dataset[dataset.columns[5]] \n",
    "y = dataset[dataset.columns[2]] # Price"
   ],
   "execution_count": 76,
   "outputs": []
  },
  {
   "cell_type": "code",
   "execution_count": 77,
   "outputs": [
    {
     "data": {
      "text/plain": "0        1180\n1        2570\n2         770\n3        1960\n4        1680\n         ... \n21608    1530\n21609    2310\n21610    1020\n21611    1600\n21612    1020\nName: sqft_living, Length: 21613, dtype: int64"
     },
     "execution_count": 77,
     "metadata": {},
     "output_type": "execute_result"
    }
   ],
   "source": [
    "x"
   ],
   "metadata": {
    "collapsed": false,
    "ExecuteTime": {
     "end_time": "2023-06-17T09:13:55.537555Z",
     "start_time": "2023-06-17T09:13:55.534222Z"
    }
   }
  },
  {
   "cell_type": "code",
   "execution_count": 78,
   "outputs": [
    {
     "data": {
      "text/plain": "0        221900.0\n1        538000.0\n2        180000.0\n3        604000.0\n4        510000.0\n           ...   \n21608    360000.0\n21609    400000.0\n21610    402101.0\n21611    400000.0\n21612    325000.0\nName: price, Length: 21613, dtype: float64"
     },
     "execution_count": 78,
     "metadata": {},
     "output_type": "execute_result"
    }
   ],
   "source": [
    "y"
   ],
   "metadata": {
    "collapsed": false,
    "ExecuteTime": {
     "end_time": "2023-06-17T09:13:56.424801Z",
     "start_time": "2023-06-17T09:13:56.421663Z"
    }
   }
  },
  {
   "cell_type": "code",
   "metadata": {
    "id": "qwI-GQnssepk",
    "colab": {
     "base_uri": "https://localhost:8080/"
    },
    "outputId": "9764e39f-7a39-40ab-a95c-9f9c04201606",
    "ExecuteTime": {
     "end_time": "2023-06-17T09:13:57.487659Z",
     "start_time": "2023-06-17T09:13:57.469414Z"
    }
   },
   "source": [
    "X = sm.add_constant(x)\n",
    "est = sm.OLS(y, X).fit()\n",
    "print(est.summary())"
   ],
   "execution_count": 79,
   "outputs": [
    {
     "name": "stdout",
     "output_type": "stream",
     "text": [
      "                            OLS Regression Results                            \n",
      "==============================================================================\n",
      "Dep. Variable:                  price   R-squared:                       0.493\n",
      "Model:                            OLS   Adj. R-squared:                  0.493\n",
      "Method:                 Least Squares   F-statistic:                 2.100e+04\n",
      "Date:                Sat, 17 Jun 2023   Prob (F-statistic):               0.00\n",
      "Time:                        17:13:57   Log-Likelihood:            -3.0027e+05\n",
      "No. Observations:               21613   AIC:                         6.005e+05\n",
      "Df Residuals:                   21611   BIC:                         6.006e+05\n",
      "Df Model:                           1                                         \n",
      "Covariance Type:            nonrobust                                         \n",
      "===============================================================================\n",
      "                  coef    std err          t      P>|t|      [0.025      0.975]\n",
      "-------------------------------------------------------------------------------\n",
      "const       -4.358e+04   4402.690     -9.899      0.000   -5.22e+04    -3.5e+04\n",
      "sqft_living   280.6236      1.936    144.920      0.000     276.828     284.419\n",
      "==============================================================================\n",
      "Omnibus:                    14832.490   Durbin-Watson:                   1.983\n",
      "Prob(Omnibus):                  0.000   Jarque-Bera (JB):           546444.713\n",
      "Skew:                           2.824   Prob(JB):                         0.00\n",
      "Kurtosis:                      26.977   Cond. No.                     5.63e+03\n",
      "==============================================================================\n",
      "\n",
      "Notes:\n",
      "[1] Standard Errors assume that the covariance matrix of the errors is correctly specified.\n",
      "[2] The condition number is large, 5.63e+03. This might indicate that there are\n",
      "strong multicollinearity or other numerical problems.\n"
     ]
    }
   ]
  },
  {
   "cell_type": "code",
   "execution_count": 80,
   "outputs": [
    {
     "data": {
      "text/plain": "21613"
     },
     "execution_count": 80,
     "metadata": {},
     "output_type": "execute_result"
    }
   ],
   "source": [
    "len(x)"
   ],
   "metadata": {
    "collapsed": false,
    "ExecuteTime": {
     "end_time": "2023-06-17T09:14:13.746041Z",
     "start_time": "2023-06-17T09:14:13.724380Z"
    }
   }
  },
  {
   "cell_type": "code",
   "execution_count": 81,
   "outputs": [
    {
     "data": {
      "text/plain": "21613"
     },
     "execution_count": 81,
     "metadata": {},
     "output_type": "execute_result"
    }
   ],
   "source": [
    "len(y)"
   ],
   "metadata": {
    "collapsed": false,
    "ExecuteTime": {
     "end_time": "2023-06-17T09:14:21.363383Z",
     "start_time": "2023-06-17T09:14:21.358703Z"
    }
   }
  },
  {
   "cell_type": "code",
   "metadata": {
    "id": "186iHQxCsepl",
    "colab": {
     "base_uri": "https://localhost:8080/"
    },
    "outputId": "301c30e3-ad46-4568-bd2e-6fa49c692695",
    "ExecuteTime": {
     "end_time": "2023-06-17T08:21:13.670048Z",
     "start_time": "2023-06-17T08:21:13.612402Z"
    }
   },
   "source": [
    "# predicting on X_test....This is a rare occasion to predict the TV using one IV\n",
    "x_1 = dataset['sqft_living'].values.reshape(-1, 1)\n",
    "y_1 = dataset['price'].values.reshape(-1, 1)\n",
    "reg.fit(x_1, y_1)\n",
    "y_pred = reg.predict(x_1)\n",
    "y_pred.round(2)"
   ],
   "execution_count": 30,
   "outputs": [
    {
     "data": {
      "text/plain": "array([[287555.07],\n       [677621.83],\n       [172499.4 ],\n       ...,\n       [242655.3 ],\n       [405416.97],\n       [242655.3 ]])"
     },
     "execution_count": 30,
     "metadata": {},
     "output_type": "execute_result"
    }
   ]
  },
  {
   "cell_type": "code",
   "metadata": {
    "colab": {
     "base_uri": "https://localhost:8080/"
    },
    "id": "TC4fgJ_VhDRN",
    "outputId": "8943322b-6a4b-4beb-9bbe-24549e5f89d9",
    "ExecuteTime": {
     "end_time": "2023-06-17T08:21:13.670879Z",
     "start_time": "2023-06-17T08:21:13.619052Z"
    }
   },
   "source": [
    "from sklearn.metrics import r2_score\n",
    "r2_score(y_1, y_pred).round(3)"
   ],
   "execution_count": 31,
   "outputs": [
    {
     "data": {
      "text/plain": "0.493"
     },
     "execution_count": 31,
     "metadata": {},
     "output_type": "execute_result"
    }
   ]
  },
  {
   "cell_type": "code",
   "metadata": {
    "id": "txg-HolOsepm",
    "colab": {
     "base_uri": "https://localhost:8080/"
    },
    "outputId": "519bbf03-14e1-4f23-99d8-01d9df2ad927",
    "ExecuteTime": {
     "end_time": "2023-06-17T08:21:13.684508Z",
     "start_time": "2023-06-17T08:21:13.624725Z"
    }
   },
   "source": [
    "from sklearn.metrics import mean_squared_error\n",
    "print(\"Mean Squared Error: \", mean_squared_error(y_1, y_pred).round(2)) "
   ],
   "execution_count": 32,
   "outputs": [
    {
     "name": "stdout",
     "output_type": "stream",
     "text": [
      "Mean Squared Error:  68351286833.04\n"
     ]
    }
   ]
  },
  {
   "cell_type": "markdown",
   "metadata": {
    "id": "wCV7Bhdcsepm"
   },
   "source": [
    "# **Linear Regression_MLR ----------------------------**"
   ]
  },
  {
   "cell_type": "code",
   "metadata": {
    "id": "7fZIQDsOsepn",
    "ExecuteTime": {
     "end_time": "2023-06-17T09:17:21.781817Z",
     "start_time": "2023-06-17T09:17:21.777922Z"
    }
   },
   "source": [
    "# Importing the libraries\n",
    "import numpy as np\n",
    "import matplotlib.pyplot as plt\n",
    "import pandas as pd\n",
    "import statsmodels.api as sm"
   ],
   "execution_count": 97,
   "outputs": []
  },
  {
   "cell_type": "code",
   "metadata": {
    "id": "4QvZVTZ-sepo",
    "colab": {
     "base_uri": "https://localhost:8080/",
     "height": 206
    },
    "outputId": "83bb3f20-a380-409d-a526-28bcef8d35e7",
    "ExecuteTime": {
     "end_time": "2023-06-17T09:17:22.181067Z",
     "start_time": "2023-06-17T09:17:22.168959Z"
    }
   },
   "source": [
    "# Importing the dataset\n",
    "data = pd.read_csv('50_Startups.csv')\n",
    "data.head()"
   ],
   "execution_count": 98,
   "outputs": [
    {
     "data": {
      "text/plain": "   R&D Spend  Administration  Marketing Spend       State     Profit\n0  165349.20       136897.80        471784.10    New York  192261.83\n1  162597.70       151377.59        443898.53  California  191792.06\n2  153441.51       101145.55        407934.54     Florida  191050.39\n3  144372.41       118671.85        383199.62    New York  182901.99\n4  142107.34        91391.77        366168.42     Florida  166187.94",
      "text/html": "<div>\n<style scoped>\n    .dataframe tbody tr th:only-of-type {\n        vertical-align: middle;\n    }\n\n    .dataframe tbody tr th {\n        vertical-align: top;\n    }\n\n    .dataframe thead th {\n        text-align: right;\n    }\n</style>\n<table border=\"1\" class=\"dataframe\">\n  <thead>\n    <tr style=\"text-align: right;\">\n      <th></th>\n      <th>R&amp;D Spend</th>\n      <th>Administration</th>\n      <th>Marketing Spend</th>\n      <th>State</th>\n      <th>Profit</th>\n    </tr>\n  </thead>\n  <tbody>\n    <tr>\n      <th>0</th>\n      <td>165349.20</td>\n      <td>136897.80</td>\n      <td>471784.10</td>\n      <td>New York</td>\n      <td>192261.83</td>\n    </tr>\n    <tr>\n      <th>1</th>\n      <td>162597.70</td>\n      <td>151377.59</td>\n      <td>443898.53</td>\n      <td>California</td>\n      <td>191792.06</td>\n    </tr>\n    <tr>\n      <th>2</th>\n      <td>153441.51</td>\n      <td>101145.55</td>\n      <td>407934.54</td>\n      <td>Florida</td>\n      <td>191050.39</td>\n    </tr>\n    <tr>\n      <th>3</th>\n      <td>144372.41</td>\n      <td>118671.85</td>\n      <td>383199.62</td>\n      <td>New York</td>\n      <td>182901.99</td>\n    </tr>\n    <tr>\n      <th>4</th>\n      <td>142107.34</td>\n      <td>91391.77</td>\n      <td>366168.42</td>\n      <td>Florida</td>\n      <td>166187.94</td>\n    </tr>\n  </tbody>\n</table>\n</div>"
     },
     "execution_count": 98,
     "metadata": {},
     "output_type": "execute_result"
    }
   ]
  },
  {
   "cell_type": "code",
   "metadata": {
    "id": "wMI_jwFnsepo",
    "colab": {
     "base_uri": "https://localhost:8080/"
    },
    "outputId": "92fb1fe4-feb3-409e-fbf0-d1f8609601c7",
    "ExecuteTime": {
     "end_time": "2023-06-17T09:17:22.839438Z",
     "start_time": "2023-06-17T09:17:22.835097Z"
    }
   },
   "source": [
    "data.shape"
   ],
   "execution_count": 99,
   "outputs": [
    {
     "data": {
      "text/plain": "(50, 5)"
     },
     "execution_count": 99,
     "metadata": {},
     "output_type": "execute_result"
    }
   ]
  },
  {
   "cell_type": "code",
   "metadata": {
    "id": "DFxNd3Tqsepp",
    "colab": {
     "base_uri": "https://localhost:8080/"
    },
    "outputId": "bd35212e-2411-4e70-89a5-d1c936d6ada6",
    "ExecuteTime": {
     "end_time": "2023-06-17T09:17:24.409766Z",
     "start_time": "2023-06-17T09:17:24.402668Z"
    }
   },
   "source": [
    "data.info()"
   ],
   "execution_count": 100,
   "outputs": [
    {
     "name": "stdout",
     "output_type": "stream",
     "text": [
      "<class 'pandas.core.frame.DataFrame'>\n",
      "RangeIndex: 50 entries, 0 to 49\n",
      "Data columns (total 5 columns):\n",
      " #   Column           Non-Null Count  Dtype  \n",
      "---  ------           --------------  -----  \n",
      " 0   R&D Spend        50 non-null     float64\n",
      " 1   Administration   50 non-null     float64\n",
      " 2   Marketing Spend  50 non-null     float64\n",
      " 3   State            50 non-null     object \n",
      " 4   Profit           50 non-null     float64\n",
      "dtypes: float64(4), object(1)\n",
      "memory usage: 2.1+ KB\n"
     ]
    }
   ]
  },
  {
   "cell_type": "code",
   "metadata": {
    "id": "gtKqkG8-sepq",
    "colab": {
     "base_uri": "https://localhost:8080/"
    },
    "outputId": "2568b649-27b2-409e-e009-a735cc4cf049",
    "ExecuteTime": {
     "end_time": "2023-06-17T09:17:28.019757Z",
     "start_time": "2023-06-17T09:17:28.016522Z"
    }
   },
   "source": [
    "data.isnull().sum()"
   ],
   "execution_count": 101,
   "outputs": [
    {
     "data": {
      "text/plain": "R&D Spend          0\nAdministration     0\nMarketing Spend    0\nState              0\nProfit             0\ndtype: int64"
     },
     "execution_count": 101,
     "metadata": {},
     "output_type": "execute_result"
    }
   ]
  },
  {
   "cell_type": "code",
   "metadata": {
    "id": "NOaM2hwUsepq",
    "colab": {
     "base_uri": "https://localhost:8080/",
     "height": 300
    },
    "outputId": "3c6a52b4-ff64-44be-dd90-bfb78a2d3141",
    "ExecuteTime": {
     "end_time": "2023-06-17T09:17:28.478793Z",
     "start_time": "2023-06-17T09:17:28.443402Z"
    }
   },
   "source": [
    "data.describe()"
   ],
   "execution_count": 102,
   "outputs": [
    {
     "data": {
      "text/plain": "           R&D Spend  Administration  Marketing Spend         Profit\ncount      50.000000       50.000000        50.000000      50.000000\nmean    73721.615600   121344.639600    211025.097800  112012.639200\nstd     45902.256482    28017.802755    122290.310726   40306.180338\nmin         0.000000    51283.140000         0.000000   14681.400000\n25%     39936.370000   103730.875000    129300.132500   90138.902500\n50%     73051.080000   122699.795000    212716.240000  107978.190000\n75%    101602.800000   144842.180000    299469.085000  139765.977500\nmax    165349.200000   182645.560000    471784.100000  192261.830000",
      "text/html": "<div>\n<style scoped>\n    .dataframe tbody tr th:only-of-type {\n        vertical-align: middle;\n    }\n\n    .dataframe tbody tr th {\n        vertical-align: top;\n    }\n\n    .dataframe thead th {\n        text-align: right;\n    }\n</style>\n<table border=\"1\" class=\"dataframe\">\n  <thead>\n    <tr style=\"text-align: right;\">\n      <th></th>\n      <th>R&amp;D Spend</th>\n      <th>Administration</th>\n      <th>Marketing Spend</th>\n      <th>Profit</th>\n    </tr>\n  </thead>\n  <tbody>\n    <tr>\n      <th>count</th>\n      <td>50.000000</td>\n      <td>50.000000</td>\n      <td>50.000000</td>\n      <td>50.000000</td>\n    </tr>\n    <tr>\n      <th>mean</th>\n      <td>73721.615600</td>\n      <td>121344.639600</td>\n      <td>211025.097800</td>\n      <td>112012.639200</td>\n    </tr>\n    <tr>\n      <th>std</th>\n      <td>45902.256482</td>\n      <td>28017.802755</td>\n      <td>122290.310726</td>\n      <td>40306.180338</td>\n    </tr>\n    <tr>\n      <th>min</th>\n      <td>0.000000</td>\n      <td>51283.140000</td>\n      <td>0.000000</td>\n      <td>14681.400000</td>\n    </tr>\n    <tr>\n      <th>25%</th>\n      <td>39936.370000</td>\n      <td>103730.875000</td>\n      <td>129300.132500</td>\n      <td>90138.902500</td>\n    </tr>\n    <tr>\n      <th>50%</th>\n      <td>73051.080000</td>\n      <td>122699.795000</td>\n      <td>212716.240000</td>\n      <td>107978.190000</td>\n    </tr>\n    <tr>\n      <th>75%</th>\n      <td>101602.800000</td>\n      <td>144842.180000</td>\n      <td>299469.085000</td>\n      <td>139765.977500</td>\n    </tr>\n    <tr>\n      <th>max</th>\n      <td>165349.200000</td>\n      <td>182645.560000</td>\n      <td>471784.100000</td>\n      <td>192261.830000</td>\n    </tr>\n  </tbody>\n</table>\n</div>"
     },
     "execution_count": 102,
     "metadata": {},
     "output_type": "execute_result"
    }
   ]
  },
  {
   "cell_type": "code",
   "metadata": {
    "id": "ghvIfMOlsepr",
    "colab": {
     "base_uri": "https://localhost:8080/"
    },
    "outputId": "a8e7bdbd-044e-4347-aff0-aa8b08727dc6",
    "ExecuteTime": {
     "end_time": "2023-06-17T09:17:30.120353Z",
     "start_time": "2023-06-17T09:17:30.102706Z"
    }
   },
   "source": [
    "data['State'].describe()"
   ],
   "execution_count": 103,
   "outputs": [
    {
     "data": {
      "text/plain": "count           50\nunique           3\ntop       New York\nfreq            17\nName: State, dtype: object"
     },
     "execution_count": 103,
     "metadata": {},
     "output_type": "execute_result"
    }
   ]
  },
  {
   "cell_type": "code",
   "metadata": {
    "id": "wdGsyi4isepr",
    "colab": {
     "base_uri": "https://localhost:8080/",
     "height": 206
    },
    "outputId": "d460cf2a-5386-4c03-ddc4-a2687df5ba9d",
    "ExecuteTime": {
     "end_time": "2023-06-17T09:17:36.826857Z",
     "start_time": "2023-06-17T09:17:36.816033Z"
    }
   },
   "source": [
    "# Label Encoding ~~~~~~~~~~~~~~~~~~~~~~~~~~~~~~~~~~~~~~~~~~~~~~~~~~~~~~~~~~~~~ \n",
    "# Can use other encoding techniques such as Factorization or One Hot Encoding\n",
    "import warnings\n",
    "warnings.filterwarnings(\"ignore\")\n",
    "\n",
    "from sklearn.preprocessing import LabelEncoder\n",
    "labelencoder = LabelEncoder()\n",
    "data['State'] = labelencoder.fit_transform(data['State'])\n",
    "data.head()"
   ],
   "execution_count": 104,
   "outputs": [
    {
     "data": {
      "text/plain": "   R&D Spend  Administration  Marketing Spend  State     Profit\n0  165349.20       136897.80        471784.10      2  192261.83\n1  162597.70       151377.59        443898.53      0  191792.06\n2  153441.51       101145.55        407934.54      1  191050.39\n3  144372.41       118671.85        383199.62      2  182901.99\n4  142107.34        91391.77        366168.42      1  166187.94",
      "text/html": "<div>\n<style scoped>\n    .dataframe tbody tr th:only-of-type {\n        vertical-align: middle;\n    }\n\n    .dataframe tbody tr th {\n        vertical-align: top;\n    }\n\n    .dataframe thead th {\n        text-align: right;\n    }\n</style>\n<table border=\"1\" class=\"dataframe\">\n  <thead>\n    <tr style=\"text-align: right;\">\n      <th></th>\n      <th>R&amp;D Spend</th>\n      <th>Administration</th>\n      <th>Marketing Spend</th>\n      <th>State</th>\n      <th>Profit</th>\n    </tr>\n  </thead>\n  <tbody>\n    <tr>\n      <th>0</th>\n      <td>165349.20</td>\n      <td>136897.80</td>\n      <td>471784.10</td>\n      <td>2</td>\n      <td>192261.83</td>\n    </tr>\n    <tr>\n      <th>1</th>\n      <td>162597.70</td>\n      <td>151377.59</td>\n      <td>443898.53</td>\n      <td>0</td>\n      <td>191792.06</td>\n    </tr>\n    <tr>\n      <th>2</th>\n      <td>153441.51</td>\n      <td>101145.55</td>\n      <td>407934.54</td>\n      <td>1</td>\n      <td>191050.39</td>\n    </tr>\n    <tr>\n      <th>3</th>\n      <td>144372.41</td>\n      <td>118671.85</td>\n      <td>383199.62</td>\n      <td>2</td>\n      <td>182901.99</td>\n    </tr>\n    <tr>\n      <th>4</th>\n      <td>142107.34</td>\n      <td>91391.77</td>\n      <td>366168.42</td>\n      <td>1</td>\n      <td>166187.94</td>\n    </tr>\n  </tbody>\n</table>\n</div>"
     },
     "execution_count": 104,
     "metadata": {},
     "output_type": "execute_result"
    }
   ]
  },
  {
   "cell_type": "code",
   "metadata": {
    "id": "PUyF-EG6sepr",
    "ExecuteTime": {
     "end_time": "2023-06-17T09:17:41.532936Z",
     "start_time": "2023-06-17T09:17:41.520526Z"
    }
   },
   "source": [
    "X = data[data.columns[0:4]]\n",
    "y = data[data.columns[4]]"
   ],
   "execution_count": 105,
   "outputs": []
  },
  {
   "cell_type": "code",
   "execution_count": 106,
   "outputs": [
    {
     "data": {
      "text/plain": "    R&D Spend  Administration  Marketing Spend  State\n0   165349.20       136897.80        471784.10      2\n1   162597.70       151377.59        443898.53      0\n2   153441.51       101145.55        407934.54      1\n3   144372.41       118671.85        383199.62      2\n4   142107.34        91391.77        366168.42      1\n5   131876.90        99814.71        362861.36      2\n6   134615.46       147198.87        127716.82      0\n7   130298.13       145530.06        323876.68      1\n8   120542.52       148718.95        311613.29      2\n9   123334.88       108679.17        304981.62      0\n10  101913.08       110594.11        229160.95      1\n11  100671.96        91790.61        249744.55      0\n12   93863.75       127320.38        249839.44      1\n13   91992.39       135495.07        252664.93      0\n14  119943.24       156547.42        256512.92      1\n15  114523.61       122616.84        261776.23      2\n16   78013.11       121597.55        264346.06      0\n17   94657.16       145077.58        282574.31      2\n18   91749.16       114175.79        294919.57      1\n19   86419.70       153514.11             0.00      2\n20   76253.86       113867.30        298664.47      0\n21   78389.47       153773.43        299737.29      2\n22   73994.56       122782.75        303319.26      1\n23   67532.53       105751.03        304768.73      1\n24   77044.01        99281.34        140574.81      2\n25   64664.71       139553.16        137962.62      0\n26   75328.87       144135.98        134050.07      1\n27   72107.60       127864.55        353183.81      2\n28   66051.52       182645.56        118148.20      1\n29   65605.48       153032.06        107138.38      2\n30   61994.48       115641.28         91131.24      1\n31   61136.38       152701.92         88218.23      2\n32   63408.86       129219.61         46085.25      0\n33   55493.95       103057.49        214634.81      1\n34   46426.07       157693.92        210797.67      0\n35   46014.02        85047.44        205517.64      2\n36   28663.76       127056.21        201126.82      1\n37   44069.95        51283.14        197029.42      0\n38   20229.59        65947.93        185265.10      2\n39   38558.51        82982.09        174999.30      0\n40   28754.33       118546.05        172795.67      0\n41   27892.92        84710.77        164470.71      1\n42   23640.93        96189.63        148001.11      0\n43   15505.73       127382.30         35534.17      2\n44   22177.74       154806.14         28334.72      0\n45    1000.23       124153.04          1903.93      2\n46    1315.46       115816.21        297114.46      1\n47       0.00       135426.92             0.00      0\n48     542.05        51743.15             0.00      2\n49       0.00       116983.80         45173.06      0",
      "text/html": "<div>\n<style scoped>\n    .dataframe tbody tr th:only-of-type {\n        vertical-align: middle;\n    }\n\n    .dataframe tbody tr th {\n        vertical-align: top;\n    }\n\n    .dataframe thead th {\n        text-align: right;\n    }\n</style>\n<table border=\"1\" class=\"dataframe\">\n  <thead>\n    <tr style=\"text-align: right;\">\n      <th></th>\n      <th>R&amp;D Spend</th>\n      <th>Administration</th>\n      <th>Marketing Spend</th>\n      <th>State</th>\n    </tr>\n  </thead>\n  <tbody>\n    <tr>\n      <th>0</th>\n      <td>165349.20</td>\n      <td>136897.80</td>\n      <td>471784.10</td>\n      <td>2</td>\n    </tr>\n    <tr>\n      <th>1</th>\n      <td>162597.70</td>\n      <td>151377.59</td>\n      <td>443898.53</td>\n      <td>0</td>\n    </tr>\n    <tr>\n      <th>2</th>\n      <td>153441.51</td>\n      <td>101145.55</td>\n      <td>407934.54</td>\n      <td>1</td>\n    </tr>\n    <tr>\n      <th>3</th>\n      <td>144372.41</td>\n      <td>118671.85</td>\n      <td>383199.62</td>\n      <td>2</td>\n    </tr>\n    <tr>\n      <th>4</th>\n      <td>142107.34</td>\n      <td>91391.77</td>\n      <td>366168.42</td>\n      <td>1</td>\n    </tr>\n    <tr>\n      <th>5</th>\n      <td>131876.90</td>\n      <td>99814.71</td>\n      <td>362861.36</td>\n      <td>2</td>\n    </tr>\n    <tr>\n      <th>6</th>\n      <td>134615.46</td>\n      <td>147198.87</td>\n      <td>127716.82</td>\n      <td>0</td>\n    </tr>\n    <tr>\n      <th>7</th>\n      <td>130298.13</td>\n      <td>145530.06</td>\n      <td>323876.68</td>\n      <td>1</td>\n    </tr>\n    <tr>\n      <th>8</th>\n      <td>120542.52</td>\n      <td>148718.95</td>\n      <td>311613.29</td>\n      <td>2</td>\n    </tr>\n    <tr>\n      <th>9</th>\n      <td>123334.88</td>\n      <td>108679.17</td>\n      <td>304981.62</td>\n      <td>0</td>\n    </tr>\n    <tr>\n      <th>10</th>\n      <td>101913.08</td>\n      <td>110594.11</td>\n      <td>229160.95</td>\n      <td>1</td>\n    </tr>\n    <tr>\n      <th>11</th>\n      <td>100671.96</td>\n      <td>91790.61</td>\n      <td>249744.55</td>\n      <td>0</td>\n    </tr>\n    <tr>\n      <th>12</th>\n      <td>93863.75</td>\n      <td>127320.38</td>\n      <td>249839.44</td>\n      <td>1</td>\n    </tr>\n    <tr>\n      <th>13</th>\n      <td>91992.39</td>\n      <td>135495.07</td>\n      <td>252664.93</td>\n      <td>0</td>\n    </tr>\n    <tr>\n      <th>14</th>\n      <td>119943.24</td>\n      <td>156547.42</td>\n      <td>256512.92</td>\n      <td>1</td>\n    </tr>\n    <tr>\n      <th>15</th>\n      <td>114523.61</td>\n      <td>122616.84</td>\n      <td>261776.23</td>\n      <td>2</td>\n    </tr>\n    <tr>\n      <th>16</th>\n      <td>78013.11</td>\n      <td>121597.55</td>\n      <td>264346.06</td>\n      <td>0</td>\n    </tr>\n    <tr>\n      <th>17</th>\n      <td>94657.16</td>\n      <td>145077.58</td>\n      <td>282574.31</td>\n      <td>2</td>\n    </tr>\n    <tr>\n      <th>18</th>\n      <td>91749.16</td>\n      <td>114175.79</td>\n      <td>294919.57</td>\n      <td>1</td>\n    </tr>\n    <tr>\n      <th>19</th>\n      <td>86419.70</td>\n      <td>153514.11</td>\n      <td>0.00</td>\n      <td>2</td>\n    </tr>\n    <tr>\n      <th>20</th>\n      <td>76253.86</td>\n      <td>113867.30</td>\n      <td>298664.47</td>\n      <td>0</td>\n    </tr>\n    <tr>\n      <th>21</th>\n      <td>78389.47</td>\n      <td>153773.43</td>\n      <td>299737.29</td>\n      <td>2</td>\n    </tr>\n    <tr>\n      <th>22</th>\n      <td>73994.56</td>\n      <td>122782.75</td>\n      <td>303319.26</td>\n      <td>1</td>\n    </tr>\n    <tr>\n      <th>23</th>\n      <td>67532.53</td>\n      <td>105751.03</td>\n      <td>304768.73</td>\n      <td>1</td>\n    </tr>\n    <tr>\n      <th>24</th>\n      <td>77044.01</td>\n      <td>99281.34</td>\n      <td>140574.81</td>\n      <td>2</td>\n    </tr>\n    <tr>\n      <th>25</th>\n      <td>64664.71</td>\n      <td>139553.16</td>\n      <td>137962.62</td>\n      <td>0</td>\n    </tr>\n    <tr>\n      <th>26</th>\n      <td>75328.87</td>\n      <td>144135.98</td>\n      <td>134050.07</td>\n      <td>1</td>\n    </tr>\n    <tr>\n      <th>27</th>\n      <td>72107.60</td>\n      <td>127864.55</td>\n      <td>353183.81</td>\n      <td>2</td>\n    </tr>\n    <tr>\n      <th>28</th>\n      <td>66051.52</td>\n      <td>182645.56</td>\n      <td>118148.20</td>\n      <td>1</td>\n    </tr>\n    <tr>\n      <th>29</th>\n      <td>65605.48</td>\n      <td>153032.06</td>\n      <td>107138.38</td>\n      <td>2</td>\n    </tr>\n    <tr>\n      <th>30</th>\n      <td>61994.48</td>\n      <td>115641.28</td>\n      <td>91131.24</td>\n      <td>1</td>\n    </tr>\n    <tr>\n      <th>31</th>\n      <td>61136.38</td>\n      <td>152701.92</td>\n      <td>88218.23</td>\n      <td>2</td>\n    </tr>\n    <tr>\n      <th>32</th>\n      <td>63408.86</td>\n      <td>129219.61</td>\n      <td>46085.25</td>\n      <td>0</td>\n    </tr>\n    <tr>\n      <th>33</th>\n      <td>55493.95</td>\n      <td>103057.49</td>\n      <td>214634.81</td>\n      <td>1</td>\n    </tr>\n    <tr>\n      <th>34</th>\n      <td>46426.07</td>\n      <td>157693.92</td>\n      <td>210797.67</td>\n      <td>0</td>\n    </tr>\n    <tr>\n      <th>35</th>\n      <td>46014.02</td>\n      <td>85047.44</td>\n      <td>205517.64</td>\n      <td>2</td>\n    </tr>\n    <tr>\n      <th>36</th>\n      <td>28663.76</td>\n      <td>127056.21</td>\n      <td>201126.82</td>\n      <td>1</td>\n    </tr>\n    <tr>\n      <th>37</th>\n      <td>44069.95</td>\n      <td>51283.14</td>\n      <td>197029.42</td>\n      <td>0</td>\n    </tr>\n    <tr>\n      <th>38</th>\n      <td>20229.59</td>\n      <td>65947.93</td>\n      <td>185265.10</td>\n      <td>2</td>\n    </tr>\n    <tr>\n      <th>39</th>\n      <td>38558.51</td>\n      <td>82982.09</td>\n      <td>174999.30</td>\n      <td>0</td>\n    </tr>\n    <tr>\n      <th>40</th>\n      <td>28754.33</td>\n      <td>118546.05</td>\n      <td>172795.67</td>\n      <td>0</td>\n    </tr>\n    <tr>\n      <th>41</th>\n      <td>27892.92</td>\n      <td>84710.77</td>\n      <td>164470.71</td>\n      <td>1</td>\n    </tr>\n    <tr>\n      <th>42</th>\n      <td>23640.93</td>\n      <td>96189.63</td>\n      <td>148001.11</td>\n      <td>0</td>\n    </tr>\n    <tr>\n      <th>43</th>\n      <td>15505.73</td>\n      <td>127382.30</td>\n      <td>35534.17</td>\n      <td>2</td>\n    </tr>\n    <tr>\n      <th>44</th>\n      <td>22177.74</td>\n      <td>154806.14</td>\n      <td>28334.72</td>\n      <td>0</td>\n    </tr>\n    <tr>\n      <th>45</th>\n      <td>1000.23</td>\n      <td>124153.04</td>\n      <td>1903.93</td>\n      <td>2</td>\n    </tr>\n    <tr>\n      <th>46</th>\n      <td>1315.46</td>\n      <td>115816.21</td>\n      <td>297114.46</td>\n      <td>1</td>\n    </tr>\n    <tr>\n      <th>47</th>\n      <td>0.00</td>\n      <td>135426.92</td>\n      <td>0.00</td>\n      <td>0</td>\n    </tr>\n    <tr>\n      <th>48</th>\n      <td>542.05</td>\n      <td>51743.15</td>\n      <td>0.00</td>\n      <td>2</td>\n    </tr>\n    <tr>\n      <th>49</th>\n      <td>0.00</td>\n      <td>116983.80</td>\n      <td>45173.06</td>\n      <td>0</td>\n    </tr>\n  </tbody>\n</table>\n</div>"
     },
     "execution_count": 106,
     "metadata": {},
     "output_type": "execute_result"
    }
   ],
   "source": [
    "X"
   ],
   "metadata": {
    "collapsed": false,
    "ExecuteTime": {
     "end_time": "2023-06-17T09:17:50.596802Z",
     "start_time": "2023-06-17T09:17:50.577092Z"
    }
   }
  },
  {
   "cell_type": "code",
   "execution_count": 107,
   "outputs": [
    {
     "data": {
      "text/plain": "0     192261.83\n1     191792.06\n2     191050.39\n3     182901.99\n4     166187.94\n5     156991.12\n6     156122.51\n7     155752.60\n8     152211.77\n9     149759.96\n10    146121.95\n11    144259.40\n12    141585.52\n13    134307.35\n14    132602.65\n15    129917.04\n16    126992.93\n17    125370.37\n18    124266.90\n19    122776.86\n20    118474.03\n21    111313.02\n22    110352.25\n23    108733.99\n24    108552.04\n25    107404.34\n26    105733.54\n27    105008.31\n28    103282.38\n29    101004.64\n30     99937.59\n31     97483.56\n32     97427.84\n33     96778.92\n34     96712.80\n35     96479.51\n36     90708.19\n37     89949.14\n38     81229.06\n39     81005.76\n40     78239.91\n41     77798.83\n42     71498.49\n43     69758.98\n44     65200.33\n45     64926.08\n46     49490.75\n47     42559.73\n48     35673.41\n49     14681.40\nName: Profit, dtype: float64"
     },
     "execution_count": 107,
     "metadata": {},
     "output_type": "execute_result"
    }
   ],
   "source": [
    "y"
   ],
   "metadata": {
    "collapsed": false,
    "ExecuteTime": {
     "end_time": "2023-06-17T09:17:51.832859Z",
     "start_time": "2023-06-17T09:17:51.829434Z"
    }
   }
  },
  {
   "cell_type": "code",
   "metadata": {
    "id": "7giBUAj2seps",
    "colab": {
     "base_uri": "https://localhost:8080/"
    },
    "outputId": "eb0fc94f-7c75-4a95-d1cb-3939f9a68fa9",
    "ExecuteTime": {
     "end_time": "2023-06-17T08:21:13.822405Z",
     "start_time": "2023-06-17T08:21:13.693927Z"
    }
   },
   "source": [
    "# Linear Regression\n",
    "from sklearn.linear_model import LinearRegression\n",
    "Linear_Regression = LinearRegression()\n",
    "Linear_Regression.fit(X, y)\n",
    "Linear_Regression.score(X, y).round(2) # Return the R^2 "
   ],
   "execution_count": 42,
   "outputs": [
    {
     "data": {
      "text/plain": "0.95"
     },
     "execution_count": 42,
     "metadata": {},
     "output_type": "execute_result"
    }
   ]
  },
  {
   "cell_type": "code",
   "metadata": {
    "id": "_nHqeTscseps",
    "colab": {
     "base_uri": "https://localhost:8080/"
    },
    "outputId": "032eae2d-0dc8-4adb-cad0-12bfb9ddd425",
    "ExecuteTime": {
     "end_time": "2023-06-17T08:21:13.822624Z",
     "start_time": "2023-06-17T08:21:13.697572Z"
    }
   },
   "source": [
    "print(Linear_Regression.coef_)\n",
    "print(Linear_Regression.intercept_.round(2))"
   ],
   "execution_count": 43,
   "outputs": [
    {
     "name": "stdout",
     "output_type": "stream",
     "text": [
      "[  0.80575968  -0.02682585   0.02722767 -22.32057723]\n",
      "50142.51\n"
     ]
    }
   ]
  },
  {
   "cell_type": "code",
   "metadata": {
    "id": "dti1OMJOseps",
    "colab": {
     "base_uri": "https://localhost:8080/"
    },
    "outputId": "38e28a5a-05d4-4136-e76d-bfb1896b4fad",
    "ExecuteTime": {
     "end_time": "2023-06-17T08:21:13.822822Z",
     "start_time": "2023-06-17T08:21:13.705567Z"
    }
   },
   "source": [
    "X2 = sm.add_constant(X)\n",
    "est = sm.OLS(y, X2)\n",
    "est2 = est.fit()\n",
    "print(est2.summary())"
   ],
   "execution_count": 44,
   "outputs": [
    {
     "name": "stdout",
     "output_type": "stream",
     "text": [
      "                            OLS Regression Results                            \n",
      "==============================================================================\n",
      "Dep. Variable:                 Profit   R-squared:                       0.951\n",
      "Model:                            OLS   Adj. R-squared:                  0.946\n",
      "Method:                 Least Squares   F-statistic:                     217.2\n",
      "Date:                Sat, 17 Jun 2023   Prob (F-statistic):           8.51e-29\n",
      "Time:                        16:21:13   Log-Likelihood:                -525.39\n",
      "No. Observations:                  50   AIC:                             1061.\n",
      "Df Residuals:                      45   BIC:                             1070.\n",
      "Df Model:                           4                                         \n",
      "Covariance Type:            nonrobust                                         \n",
      "===================================================================================\n",
      "                      coef    std err          t      P>|t|      [0.025      0.975]\n",
      "-----------------------------------------------------------------------------------\n",
      "const            5.014e+04   6804.555      7.369      0.000    3.64e+04    6.38e+04\n",
      "R&D Spend           0.8058      0.046     17.609      0.000       0.714       0.898\n",
      "Administration     -0.0268      0.052     -0.520      0.606      -0.131       0.077\n",
      "Marketing Spend     0.0272      0.017      1.637      0.109      -0.006       0.061\n",
      "State             -22.3206   1609.829     -0.014      0.989   -3264.682    3220.041\n",
      "==============================================================================\n",
      "Omnibus:                       14.864   Durbin-Watson:                   1.282\n",
      "Prob(Omnibus):                  0.001   Jarque-Bera (JB):               21.542\n",
      "Skew:                          -0.949   Prob(JB):                     2.10e-05\n",
      "Kurtosis:                       5.596   Cond. No.                     1.44e+06\n",
      "==============================================================================\n",
      "\n",
      "Notes:\n",
      "[1] Standard Errors assume that the covariance matrix of the errors is correctly specified.\n",
      "[2] The condition number is large, 1.44e+06. This might indicate that there are\n",
      "strong multicollinearity or other numerical problems.\n"
     ]
    }
   ]
  },
  {
   "cell_type": "code",
   "metadata": {
    "id": "3tQxw46Nsept",
    "colab": {
     "base_uri": "https://localhost:8080/"
    },
    "outputId": "71f6ab74-819b-46d8-d8e0-1d4f8ca5cfe5",
    "ExecuteTime": {
     "end_time": "2023-06-17T08:21:13.822967Z",
     "start_time": "2023-06-17T08:21:13.712243Z"
    }
   },
   "source": [
    "# Predictions\n",
    "predictions = Linear_Regression.predict(X)\n",
    "predictions[0:2].round(2)"
   ],
   "execution_count": 45,
   "outputs": [
    {
     "data": {
      "text/plain": "array([192502.76, 189182.67])"
     },
     "execution_count": 45,
     "metadata": {},
     "output_type": "execute_result"
    }
   ]
  },
  {
   "cell_type": "markdown",
   "metadata": {
    "id": "ixmFN_pMsept"
   },
   "source": [
    "### **Build a Linear Regression predictive model**"
   ]
  },
  {
   "cell_type": "code",
   "execution_count": 65,
   "outputs": [
    {
     "data": {
      "text/plain": "50"
     },
     "execution_count": 65,
     "metadata": {},
     "output_type": "execute_result"
    }
   ],
   "source": [
    "len(X)"
   ],
   "metadata": {
    "collapsed": false,
    "ExecuteTime": {
     "end_time": "2023-06-17T09:12:59.749169Z",
     "start_time": "2023-06-17T09:12:59.746429Z"
    }
   }
  },
  {
   "cell_type": "code",
   "execution_count": 66,
   "outputs": [
    {
     "data": {
      "text/plain": "50"
     },
     "execution_count": 66,
     "metadata": {},
     "output_type": "execute_result"
    }
   ],
   "source": [
    "len(y)"
   ],
   "metadata": {
    "collapsed": false,
    "ExecuteTime": {
     "end_time": "2023-06-17T09:13:00.524890Z",
     "start_time": "2023-06-17T09:13:00.520443Z"
    }
   }
  },
  {
   "cell_type": "code",
   "metadata": {
    "id": "9itYr_Mdsept",
    "ExecuteTime": {
     "end_time": "2023-06-17T09:16:31.152783Z",
     "start_time": "2023-06-17T09:16:31.140854Z"
    }
   },
   "source": [
    "# Splitting the dataset into the Training set and Test set\n",
    "from sklearn.model_selection import train_test_split\n",
    "X_train, X_test, y_train, y_test = train_test_split(X, y, test_size = 0.2, random_state=0)"
   ],
   "execution_count": 91,
   "outputs": []
  },
  {
   "cell_type": "code",
   "metadata": {
    "id": "5P_YR9SNsepu",
    "colab": {
     "base_uri": "https://localhost:8080/"
    },
    "outputId": "5a8d62e2-8d4a-451b-91df-66bafb00e9a9",
    "ExecuteTime": {
     "end_time": "2023-06-17T09:16:34.720288Z",
     "start_time": "2023-06-17T09:16:34.715339Z"
    }
   },
   "source": [
    "# training a linear regression model on train\n",
    "Linear_Regression.fit(X_train,y_train)"
   ],
   "execution_count": 92,
   "outputs": [
    {
     "data": {
      "text/plain": "LinearRegression()",
      "text/html": "<style>#sk-container-id-3 {color: black;background-color: white;}#sk-container-id-3 pre{padding: 0;}#sk-container-id-3 div.sk-toggleable {background-color: white;}#sk-container-id-3 label.sk-toggleable__label {cursor: pointer;display: block;width: 100%;margin-bottom: 0;padding: 0.3em;box-sizing: border-box;text-align: center;}#sk-container-id-3 label.sk-toggleable__label-arrow:before {content: \"▸\";float: left;margin-right: 0.25em;color: #696969;}#sk-container-id-3 label.sk-toggleable__label-arrow:hover:before {color: black;}#sk-container-id-3 div.sk-estimator:hover label.sk-toggleable__label-arrow:before {color: black;}#sk-container-id-3 div.sk-toggleable__content {max-height: 0;max-width: 0;overflow: hidden;text-align: left;background-color: #f0f8ff;}#sk-container-id-3 div.sk-toggleable__content pre {margin: 0.2em;color: black;border-radius: 0.25em;background-color: #f0f8ff;}#sk-container-id-3 input.sk-toggleable__control:checked~div.sk-toggleable__content {max-height: 200px;max-width: 100%;overflow: auto;}#sk-container-id-3 input.sk-toggleable__control:checked~label.sk-toggleable__label-arrow:before {content: \"▾\";}#sk-container-id-3 div.sk-estimator input.sk-toggleable__control:checked~label.sk-toggleable__label {background-color: #d4ebff;}#sk-container-id-3 div.sk-label input.sk-toggleable__control:checked~label.sk-toggleable__label {background-color: #d4ebff;}#sk-container-id-3 input.sk-hidden--visually {border: 0;clip: rect(1px 1px 1px 1px);clip: rect(1px, 1px, 1px, 1px);height: 1px;margin: -1px;overflow: hidden;padding: 0;position: absolute;width: 1px;}#sk-container-id-3 div.sk-estimator {font-family: monospace;background-color: #f0f8ff;border: 1px dotted black;border-radius: 0.25em;box-sizing: border-box;margin-bottom: 0.5em;}#sk-container-id-3 div.sk-estimator:hover {background-color: #d4ebff;}#sk-container-id-3 div.sk-parallel-item::after {content: \"\";width: 100%;border-bottom: 1px solid gray;flex-grow: 1;}#sk-container-id-3 div.sk-label:hover label.sk-toggleable__label {background-color: #d4ebff;}#sk-container-id-3 div.sk-serial::before {content: \"\";position: absolute;border-left: 1px solid gray;box-sizing: border-box;top: 0;bottom: 0;left: 50%;z-index: 0;}#sk-container-id-3 div.sk-serial {display: flex;flex-direction: column;align-items: center;background-color: white;padding-right: 0.2em;padding-left: 0.2em;position: relative;}#sk-container-id-3 div.sk-item {position: relative;z-index: 1;}#sk-container-id-3 div.sk-parallel {display: flex;align-items: stretch;justify-content: center;background-color: white;position: relative;}#sk-container-id-3 div.sk-item::before, #sk-container-id-3 div.sk-parallel-item::before {content: \"\";position: absolute;border-left: 1px solid gray;box-sizing: border-box;top: 0;bottom: 0;left: 50%;z-index: -1;}#sk-container-id-3 div.sk-parallel-item {display: flex;flex-direction: column;z-index: 1;position: relative;background-color: white;}#sk-container-id-3 div.sk-parallel-item:first-child::after {align-self: flex-end;width: 50%;}#sk-container-id-3 div.sk-parallel-item:last-child::after {align-self: flex-start;width: 50%;}#sk-container-id-3 div.sk-parallel-item:only-child::after {width: 0;}#sk-container-id-3 div.sk-dashed-wrapped {border: 1px dashed gray;margin: 0 0.4em 0.5em 0.4em;box-sizing: border-box;padding-bottom: 0.4em;background-color: white;}#sk-container-id-3 div.sk-label label {font-family: monospace;font-weight: bold;display: inline-block;line-height: 1.2em;}#sk-container-id-3 div.sk-label-container {text-align: center;}#sk-container-id-3 div.sk-container {/* jupyter's `normalize.less` sets `[hidden] { display: none; }` but bootstrap.min.css set `[hidden] { display: none !important; }` so we also need the `!important` here to be able to override the default hidden behavior on the sphinx rendered scikit-learn.org. See: https://github.com/scikit-learn/scikit-learn/issues/21755 */display: inline-block !important;position: relative;}#sk-container-id-3 div.sk-text-repr-fallback {display: none;}</style><div id=\"sk-container-id-3\" class=\"sk-top-container\"><div class=\"sk-text-repr-fallback\"><pre>LinearRegression()</pre><b>In a Jupyter environment, please rerun this cell to show the HTML representation or trust the notebook. <br />On GitHub, the HTML representation is unable to render, please try loading this page with nbviewer.org.</b></div><div class=\"sk-container\" hidden><div class=\"sk-item\"><div class=\"sk-estimator sk-toggleable\"><input class=\"sk-toggleable__control sk-hidden--visually\" id=\"sk-estimator-id-3\" type=\"checkbox\" checked><label for=\"sk-estimator-id-3\" class=\"sk-toggleable__label sk-toggleable__label-arrow\">LinearRegression</label><div class=\"sk-toggleable__content\"><pre>LinearRegression()</pre></div></div></div></div></div>"
     },
     "execution_count": 92,
     "metadata": {},
     "output_type": "execute_result"
    }
   ]
  },
  {
   "cell_type": "code",
   "metadata": {
    "id": "ZeK2VbXzsepu",
    "colab": {
     "base_uri": "https://localhost:8080/"
    },
    "outputId": "3c2aa8fa-e188-49cf-8516-77747f0eab68",
    "ExecuteTime": {
     "end_time": "2023-06-17T09:16:39.511477Z",
     "start_time": "2023-06-17T09:16:39.508825Z"
    }
   },
   "source": [
    "# Accuracy of the model\n",
    "#Train Accuracy\n",
    "print('Train Accuracy = ', (Linear_Regression.score(X_train, y_train).round(2))*100,'%')\n",
    "# Test Accuracy....This is the one we consider when evaluating the model\n",
    "print('Test Accuracy = ', (Linear_Regression.score(X_test, y_test).round(2))*100,'%')"
   ],
   "execution_count": 93,
   "outputs": [
    {
     "name": "stdout",
     "output_type": "stream",
     "text": [
      "Train Accuracy =  95.0 %\n",
      "Test Accuracy =  94.0 %\n"
     ]
    }
   ]
  },
  {
   "cell_type": "code",
   "execution_count": 95,
   "outputs": [
    {
     "data": {
      "text/plain": "10"
     },
     "execution_count": 95,
     "metadata": {},
     "output_type": "execute_result"
    }
   ],
   "source": [
    "len(y_test)"
   ],
   "metadata": {
    "collapsed": false,
    "ExecuteTime": {
     "end_time": "2023-06-17T09:16:54.243884Z",
     "start_time": "2023-06-17T09:16:54.228183Z"
    }
   }
  },
  {
   "cell_type": "code",
   "execution_count": 96,
   "outputs": [
    {
     "data": {
      "text/plain": "21613"
     },
     "execution_count": 96,
     "metadata": {},
     "output_type": "execute_result"
    }
   ],
   "source": [
    "len(y_pred)"
   ],
   "metadata": {
    "collapsed": false,
    "ExecuteTime": {
     "end_time": "2023-06-17T09:16:54.978180Z",
     "start_time": "2023-06-17T09:16:54.974379Z"
    }
   }
  },
  {
   "cell_type": "code",
   "metadata": {
    "colab": {
     "base_uri": "https://localhost:8080/"
    },
    "id": "Ov91QeJCiaNw",
    "outputId": "d50921e2-bd96-4121-99da-c2551835bee2",
    "ExecuteTime": {
     "end_time": "2023-06-17T09:16:43.516215Z",
     "start_time": "2023-06-17T09:16:43.462619Z"
    }
   },
   "source": [
    "from sklearn.metrics import r2_score\n",
    "r2_score(y_test, y_pred)"
   ],
   "execution_count": 94,
   "outputs": [
    {
     "ename": "ValueError",
     "evalue": "Found input variables with inconsistent numbers of samples: [10, 21613]",
     "output_type": "error",
     "traceback": [
      "\u001B[0;31m---------------------------------------------------------------------------\u001B[0m",
      "\u001B[0;31mValueError\u001B[0m                                Traceback (most recent call last)",
      "Cell \u001B[0;32mIn[94], line 2\u001B[0m\n\u001B[1;32m      1\u001B[0m \u001B[38;5;28;01mfrom\u001B[39;00m \u001B[38;5;21;01msklearn\u001B[39;00m\u001B[38;5;21;01m.\u001B[39;00m\u001B[38;5;21;01mmetrics\u001B[39;00m \u001B[38;5;28;01mimport\u001B[39;00m r2_score\n\u001B[0;32m----> 2\u001B[0m \u001B[43mr2_score\u001B[49m\u001B[43m(\u001B[49m\u001B[43my_test\u001B[49m\u001B[43m,\u001B[49m\u001B[43m \u001B[49m\u001B[43my_pred\u001B[49m\u001B[43m)\u001B[49m\n",
      "File \u001B[0;32m~/mambaforge/envs/mlp/lib/python3.8/site-packages/sklearn/metrics/_regression.py:911\u001B[0m, in \u001B[0;36mr2_score\u001B[0;34m(y_true, y_pred, sample_weight, multioutput, force_finite)\u001B[0m\n\u001B[1;32m    784\u001B[0m \u001B[38;5;28;01mdef\u001B[39;00m \u001B[38;5;21mr2_score\u001B[39m(\n\u001B[1;32m    785\u001B[0m     y_true,\n\u001B[1;32m    786\u001B[0m     y_pred,\n\u001B[0;32m   (...)\u001B[0m\n\u001B[1;32m    790\u001B[0m     force_finite\u001B[38;5;241m=\u001B[39m\u001B[38;5;28;01mTrue\u001B[39;00m,\n\u001B[1;32m    791\u001B[0m ):\n\u001B[1;32m    792\u001B[0m \u001B[38;5;250m    \u001B[39m\u001B[38;5;124;03m\"\"\":math:`R^2` (coefficient of determination) regression score function.\u001B[39;00m\n\u001B[1;32m    793\u001B[0m \n\u001B[1;32m    794\u001B[0m \u001B[38;5;124;03m    Best possible score is 1.0 and it can be negative (because the\u001B[39;00m\n\u001B[0;32m   (...)\u001B[0m\n\u001B[1;32m    909\u001B[0m \u001B[38;5;124;03m    -inf\u001B[39;00m\n\u001B[1;32m    910\u001B[0m \u001B[38;5;124;03m    \"\"\"\u001B[39;00m\n\u001B[0;32m--> 911\u001B[0m     y_type, y_true, y_pred, multioutput \u001B[38;5;241m=\u001B[39m \u001B[43m_check_reg_targets\u001B[49m\u001B[43m(\u001B[49m\n\u001B[1;32m    912\u001B[0m \u001B[43m        \u001B[49m\u001B[43my_true\u001B[49m\u001B[43m,\u001B[49m\u001B[43m \u001B[49m\u001B[43my_pred\u001B[49m\u001B[43m,\u001B[49m\u001B[43m \u001B[49m\u001B[43mmultioutput\u001B[49m\n\u001B[1;32m    913\u001B[0m \u001B[43m    \u001B[49m\u001B[43m)\u001B[49m\n\u001B[1;32m    914\u001B[0m     check_consistent_length(y_true, y_pred, sample_weight)\n\u001B[1;32m    916\u001B[0m     \u001B[38;5;28;01mif\u001B[39;00m _num_samples(y_pred) \u001B[38;5;241m<\u001B[39m \u001B[38;5;241m2\u001B[39m:\n",
      "File \u001B[0;32m~/mambaforge/envs/mlp/lib/python3.8/site-packages/sklearn/metrics/_regression.py:100\u001B[0m, in \u001B[0;36m_check_reg_targets\u001B[0;34m(y_true, y_pred, multioutput, dtype)\u001B[0m\n\u001B[1;32m     66\u001B[0m \u001B[38;5;28;01mdef\u001B[39;00m \u001B[38;5;21m_check_reg_targets\u001B[39m(y_true, y_pred, multioutput, dtype\u001B[38;5;241m=\u001B[39m\u001B[38;5;124m\"\u001B[39m\u001B[38;5;124mnumeric\u001B[39m\u001B[38;5;124m\"\u001B[39m):\n\u001B[1;32m     67\u001B[0m \u001B[38;5;250m    \u001B[39m\u001B[38;5;124;03m\"\"\"Check that y_true and y_pred belong to the same regression task.\u001B[39;00m\n\u001B[1;32m     68\u001B[0m \n\u001B[1;32m     69\u001B[0m \u001B[38;5;124;03m    Parameters\u001B[39;00m\n\u001B[0;32m   (...)\u001B[0m\n\u001B[1;32m     98\u001B[0m \u001B[38;5;124;03m        correct keyword.\u001B[39;00m\n\u001B[1;32m     99\u001B[0m \u001B[38;5;124;03m    \"\"\"\u001B[39;00m\n\u001B[0;32m--> 100\u001B[0m     \u001B[43mcheck_consistent_length\u001B[49m\u001B[43m(\u001B[49m\u001B[43my_true\u001B[49m\u001B[43m,\u001B[49m\u001B[43m \u001B[49m\u001B[43my_pred\u001B[49m\u001B[43m)\u001B[49m\n\u001B[1;32m    101\u001B[0m     y_true \u001B[38;5;241m=\u001B[39m check_array(y_true, ensure_2d\u001B[38;5;241m=\u001B[39m\u001B[38;5;28;01mFalse\u001B[39;00m, dtype\u001B[38;5;241m=\u001B[39mdtype)\n\u001B[1;32m    102\u001B[0m     y_pred \u001B[38;5;241m=\u001B[39m check_array(y_pred, ensure_2d\u001B[38;5;241m=\u001B[39m\u001B[38;5;28;01mFalse\u001B[39;00m, dtype\u001B[38;5;241m=\u001B[39mdtype)\n",
      "File \u001B[0;32m~/mambaforge/envs/mlp/lib/python3.8/site-packages/sklearn/utils/validation.py:397\u001B[0m, in \u001B[0;36mcheck_consistent_length\u001B[0;34m(*arrays)\u001B[0m\n\u001B[1;32m    395\u001B[0m uniques \u001B[38;5;241m=\u001B[39m np\u001B[38;5;241m.\u001B[39munique(lengths)\n\u001B[1;32m    396\u001B[0m \u001B[38;5;28;01mif\u001B[39;00m \u001B[38;5;28mlen\u001B[39m(uniques) \u001B[38;5;241m>\u001B[39m \u001B[38;5;241m1\u001B[39m:\n\u001B[0;32m--> 397\u001B[0m     \u001B[38;5;28;01mraise\u001B[39;00m \u001B[38;5;167;01mValueError\u001B[39;00m(\n\u001B[1;32m    398\u001B[0m         \u001B[38;5;124m\"\u001B[39m\u001B[38;5;124mFound input variables with inconsistent numbers of samples: \u001B[39m\u001B[38;5;132;01m%r\u001B[39;00m\u001B[38;5;124m\"\u001B[39m\n\u001B[1;32m    399\u001B[0m         \u001B[38;5;241m%\u001B[39m [\u001B[38;5;28mint\u001B[39m(l) \u001B[38;5;28;01mfor\u001B[39;00m l \u001B[38;5;129;01min\u001B[39;00m lengths]\n\u001B[1;32m    400\u001B[0m     )\n",
      "\u001B[0;31mValueError\u001B[0m: Found input variables with inconsistent numbers of samples: [10, 21613]"
     ]
    }
   ]
  },
  {
   "cell_type": "code",
   "metadata": {
    "id": "rj0R2wW_sepu",
    "colab": {
     "base_uri": "https://localhost:8080/"
    },
    "outputId": "35243ede-0cc0-4aa5-cfc1-502571fa347e",
    "ExecuteTime": {
     "start_time": "2023-06-17T08:21:13.859037Z"
    }
   },
   "source": [
    "# predicting on X_test\n",
    "y_pred = Linear_Regression.predict(X_test)\n",
    "y_pred.round(2)"
   ],
   "execution_count": null,
   "outputs": []
  },
  {
   "cell_type": "code",
   "metadata": {
    "id": "ja2XLW3usepv",
    "colab": {
     "base_uri": "https://localhost:8080/",
     "height": 363
    },
    "outputId": "241d9523-f7c9-4160-d870-3ee3404bb21e",
    "ExecuteTime": {
     "start_time": "2023-06-17T08:21:13.860736Z"
    }
   },
   "source": [
    "pd.DataFrame({'Actual': y_test.round(2), 'Predicted': y_pred.round(2)})"
   ],
   "execution_count": null,
   "outputs": []
  },
  {
   "cell_type": "code",
   "metadata": {
    "id": "RRJzZnlnsepv",
    "colab": {
     "base_uri": "https://localhost:8080/"
    },
    "outputId": "ad0c598c-1da8-4637-ee0f-7427ff283d1f",
    "ExecuteTime": {
     "start_time": "2023-06-17T08:21:13.862751Z"
    }
   },
   "source": [
    "# evaluation using r-square\n",
    "Linear_Regression.score(X_train,y_train).round(2)"
   ],
   "execution_count": null,
   "outputs": []
  },
  {
   "cell_type": "code",
   "metadata": {
    "id": "uUxlXngDsepv",
    "outputId": "62787a93-6161-4254-8ee8-c192fa4965e3",
    "ExecuteTime": {
     "start_time": "2023-06-17T08:21:13.864443Z"
    }
   },
   "source": [
    "# calculating MSE, RMSE, MAE\n",
    "from sklearn.metrics import mean_squared_error, mean_absolute_error\n",
    "print(\"Mean Squared Error: \", mean_squared_error(y_test, y_pred).round(2))\n",
    "print('Mean Absolute Error: ', mean_absolute_error(y_test, y_pred).round(2))  \n",
    "print('Root Mean Squared Error: ', np.sqrt(mean_squared_error(y_test, y_pred)).round(2))"
   ],
   "execution_count": null,
   "outputs": []
  },
  {
   "cell_type": "code",
   "metadata": {
    "id": "fFnnVwVfsepw",
    "outputId": "367a61cd-f52c-4e94-eabd-e44c714fa44c",
    "ExecuteTime": {
     "start_time": "2023-06-17T08:21:13.866276Z"
    }
   },
   "source": [
    "X3 = sm.add_constant(X_train)\n",
    "est = sm.OLS(y_train, X3)\n",
    "est2 = est.fit()\n",
    "print(est2.summary())"
   ],
   "execution_count": null,
   "outputs": []
  },
  {
   "cell_type": "code",
   "metadata": {
    "id": "57F8bHansepw",
    "outputId": "2eab3047-2fef-4bfe-80e4-2624d88e4827",
    "ExecuteTime": {
     "start_time": "2023-06-17T08:21:13.867551Z"
    }
   },
   "source": [
    "X_train"
   ],
   "execution_count": null,
   "outputs": []
  },
  {
   "cell_type": "code",
   "metadata": {
    "id": "O99jxaVwsepw",
    "outputId": "b370888b-e656-4b02-91c4-ecfc23565b92",
    "ExecuteTime": {
     "start_time": "2023-06-17T08:21:13.868716Z"
    }
   },
   "source": [
    "# training data plot\n",
    "x_plot = plt.scatter(X_train['Marketing Spend'], y_train, c='r')\n",
    "plt.hlines(y=0, xmin= -1, xmax=1)\n",
    "plt.title('Training Data plot')\n",
    "plt.xlabel('Marketing Spend')\n",
    "plt.ylabel('Profit')"
   ],
   "execution_count": null,
   "outputs": []
  },
  {
   "cell_type": "markdown",
   "metadata": {
    "id": "iVCwnBXWsepx"
   },
   "source": [
    "**Residuals Plot**\n",
    "\n",
    "Residuals, in the context of regression models, are the difference between the observed value of the target variable (y_test) and the predicted value (y_pred), i.e. the error of the prediction.\n",
    "\n",
    "**Residual = Observed – Predicted**"
   ]
  },
  {
   "cell_type": "code",
   "metadata": {
    "id": "5_I5uUr4sepx",
    "outputId": "3329a386-1515-41cd-e33f-66e314e5d707",
    "ExecuteTime": {
     "start_time": "2023-06-17T08:21:13.869941Z"
    }
   },
   "source": [
    "# residual plot\n",
    "x_plot = plt.scatter(y_test, (y_test - y_pred), c='b')\n",
    "plt.hlines(y=0, xmin= -1, xmax=1)\n",
    "plt.title('Residual plot')\n",
    "plt.xlabel('y_test')\n",
    "plt.ylabel('Residuals')"
   ],
   "execution_count": null,
   "outputs": []
  },
  {
   "cell_type": "markdown",
   "metadata": {
    "id": "uOYSGaojsepx"
   },
   "source": [
    "**Using Yellow Brick library**"
   ]
  },
  {
   "cell_type": "code",
   "metadata": {
    "id": "KsZAwfUqsepx",
    "outputId": "68f39923-20f6-4458-ace0-5a3b812d24b4",
    "ExecuteTime": {
     "start_time": "2023-06-17T08:21:13.870605Z"
    }
   },
   "source": [
    "# pip install yellowbrick\n",
    "from yellowbrick.regressor import ResidualsPlot\n",
    "\n",
    "visualizer = ResidualsPlot(Linear_Regression)\n",
    "\n",
    "visualizer.fit(X_train, y_train)  # Fit the training data to the visualizer\n",
    "visualizer.score(X_test, y_test)  # Evaluate the model on the test data\n",
    "visualizer.show()    "
   ],
   "execution_count": null,
   "outputs": []
  }
 ]
}
